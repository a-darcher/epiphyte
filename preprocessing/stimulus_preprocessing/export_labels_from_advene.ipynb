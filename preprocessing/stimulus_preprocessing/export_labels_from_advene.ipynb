{
 "cells": [
  {
   "cell_type": "code",
   "execution_count": 1,
   "metadata": {},
   "outputs": [
    {
     "name": "stdin",
     "output_type": "stream",
     "text": [
      "Please enter DataJoint username:  tamara\n",
      "Please enter DataJoint password:  ·········\n"
     ]
    },
    {
     "name": "stdout",
     "output_type": "stream",
     "text": [
      "Connecting tamara@localhost:3306\n"
     ]
    }
   ],
   "source": [
    "import json\n",
    "import numpy as np\n",
    "import sys\n",
    "import matplotlib.pyplot as plt\n",
    "sys.path.append(\"../../\")\n",
    "\n",
    "import movie_annotation.processing_labels as processing_labels\n",
    "import data_preprocessing.create_vectors_from_time_points as create_vectors_from_time_points\n",
    "import data_base.config as config"
   ]
  },
  {
   "cell_type": "markdown",
   "metadata": {},
   "source": [
    "## Extract labels from json file"
   ]
  },
  {
   "cell_type": "code",
   "execution_count": 2,
   "metadata": {},
   "outputs": [],
   "source": [
    "def extract_labels_from_json_file(path_to_file, label_name, bool_save_start_end_times, bool_save_indicator_function, path_save_files=None):\n",
    "    with open(path_to_file,'r') as jsonfile:\n",
    "        labels_json_file = json.load(jsonfile) \n",
    "        \n",
    "    label_start_end_times = []\n",
    "    for annotation in labels_json_file.get(\"annotations\"):\n",
    "        if annotation.get(\"type\") == label_name:\n",
    "            label_start_end_times.append([annotation.get(\"begin\"), annotation.get(\"end\")])\n",
    "\n",
    "    if bool_save_start_end_times:\n",
    "        start_end_times_seconds = [[x/1000, y/1000] for [x,y] in label_start_end_times]\n",
    "        np.save(\"../useful_data/start_end_times/start_end_times_{}_20200203.npy\".format(label_name), start_end_times_seconds)\n",
    "    \n",
    "    indicator_function = processing_labels.make_label_from_start_stop_times(label_start_end_times)\n",
    "    \n",
    "    if bool_save_indicator_function:\n",
    "        np.save(\"../indicators/{}_indicator_fxn_20200203.npy\".format(label_name), indicator_function)\n",
    "    \n",
    "    return label_start_end_times, indicator_function"
   ]
  },
  {
   "cell_type": "code",
   "execution_count": 2,
   "metadata": {},
   "outputs": [],
   "source": [
    "def start_stop_times_values_from_json(path_to_file, label_name):\n",
    "    # open and read json file\n",
    "    with open(path_to_file,'r') as jsonfile:\n",
    "        labels_json_file = json.load(jsonfile) \n",
    "        \n",
    "    start_times = []\n",
    "    stop_times = []\n",
    "    values = []\n",
    "    # iterate through elements in json file to extract time points of segments\n",
    "    for annotation in labels_json_file.get(\"annotations\"):\n",
    "        if annotation.get(\"type\") == label_name:\n",
    "            start_times.append(annotation.get(\"begin\"))\n",
    "            stop_times.append(annotation.get(\"end\"))\n",
    "            values.append(annotation.get(\"title\"))\n",
    "            \n",
    "    return np.array(values), np.array(start_times)/1000, np.array(stop_times)/1000"
   ]
  },
  {
   "cell_type": "code",
   "execution_count": 4,
   "metadata": {},
   "outputs": [],
   "source": [
    "def save_label(label_name_in_json, directory_save, path_json_file, new_label_name):\n",
    "    start_end_times, indicator_function = extract_labels_from_json_file(path_json_file, label_name_in_json, False, False)\n",
    "    label = processing_labels.make_label_from_start_stop_times(start_end_times)\n",
    "    np.save(\"{}/{}.npy\".format(directory_save, new_label_name), label)"
   ]
  },
  {
   "cell_type": "code",
   "execution_count": 5,
   "metadata": {},
   "outputs": [],
   "source": [
    "#save_label(\"kids\", \"/home/tamara/Documents/DeepHumanVision_pilot/movie_annotation/labels/vorspann_und_co/\", \"/home/tamara/Documents/advene/500days_of_summer_abspann_vorspann.json\", \"36_kidssegment_p5_20200221_moviespecifics.npy\")"
   ]
  },
  {
   "cell_type": "code",
   "execution_count": 6,
   "metadata": {},
   "outputs": [],
   "source": [
    "#start_end_times, indicator_function = extract_labels_from_json_file(\"/home/tamara/Documents/advene/500days_of_summer_abspann_vorspann.json\", \"ikea\", False, False)"
   ]
  },
  {
   "cell_type": "code",
   "execution_count": 3,
   "metadata": {},
   "outputs": [],
   "source": [
    "values, starts, stops = start_stop_times_values_from_json(\"/home/tamara/Documents/advene/500days_of_summer_abspann_vorspann.json\", \"ikea\")"
   ]
  },
  {
   "cell_type": "code",
   "execution_count": 4,
   "metadata": {},
   "outputs": [
    {
     "name": "stdout",
     "output_type": "stream",
     "text": [
      "['1' '1' '1' '1' '1'] [ 294.966 1555.591 1576.454 3409.927 3959.482] [ 299.63  1573.631 1763.313 3412.464 3962.867]\n"
     ]
    }
   ],
   "source": [
    "print(values, starts, stops)"
   ]
  },
  {
   "cell_type": "code",
   "execution_count": 5,
   "metadata": {},
   "outputs": [],
   "source": [
    "label = processing_labels.make_label_from_start_stop_times(values, starts, stops)"
   ]
  },
  {
   "cell_type": "code",
   "execution_count": 6,
   "metadata": {},
   "outputs": [
    {
     "data": {
      "text/plain": [
       "[<matplotlib.lines.Line2D at 0x7fbe5ad72710>]"
      ]
     },
     "execution_count": 6,
     "metadata": {},
     "output_type": "execute_result"
    },
    {
     "data": {
      "image/png": "[encoded data removed]",
      "text/plain": [
       "<Figure size 1800x360 with 1 Axes>"
      ]
     },
     "metadata": {
      "needs_background": "light"
     },
     "output_type": "display_data"
    }
   ],
   "source": [
    "plt.figure(figsize=(25,5))\n",
    "plt.plot(label)"
   ]
  },
  {
   "cell_type": "code",
   "execution_count": 7,
   "metadata": {},
   "outputs": [
    {
     "data": {
      "text/plain": [
       "[<matplotlib.lines.Line2D at 0x7fbe146a3e10>]"
      ]
     },
     "execution_count": 7,
     "metadata": {},
     "output_type": "execute_result"
    },
    {
     "data": {
      "image/png": "[encoded data removed]",
      "text/plain": [
       "<Figure size 1800x360 with 1 Axes>"
      ]
     },
     "metadata": {
      "needs_background": "light"
     },
     "output_type": "display_data"
    }
   ],
   "source": [
    "values2, starts2, stops2 = create_vectors_from_time_points.get_start_stop_times_from_label(config.PTS_MOVIE_new, label)\n",
    "label2 = processing_labels.make_label_from_start_stop_times(values2, starts2, stops2)\n",
    "plt.figure(figsize=(25,5))\n",
    "plt.plot(label2)"
   ]
  },
  {
   "cell_type": "code",
   "execution_count": 23,
   "metadata": {},
   "outputs": [
    {
     "data": {
      "text/plain": [
       "[7449,\n",
       " 7450,\n",
       " 7451,\n",
       " 7452,\n",
       " 7453,\n",
       " 7454,\n",
       " 7455,\n",
       " 7456,\n",
       " 7457,\n",
       " 7458,\n",
       " 7459,\n",
       " 7460,\n",
       " 7461,\n",
       " 7462,\n",
       " 7463,\n",
       " 7464,\n",
       " 7465,\n",
       " 7466,\n",
       " 7467,\n",
       " 7468,\n",
       " 7469,\n",
       " 7470,\n",
       " 7471,\n",
       " 7472,\n",
       " 7473,\n",
       " 39299,\n",
       " 39300,\n",
       " 39301,\n",
       " 39302,\n",
       " 39303,\n",
       " 39304,\n",
       " 39305,\n",
       " 39306,\n",
       " 39307,\n",
       " 39308,\n",
       " 39309,\n",
       " 39310,\n",
       " 39311,\n",
       " 39312,\n",
       " 39313,\n",
       " 39314,\n",
       " 39315,\n",
       " 39316,\n",
       " 39317,\n",
       " 39318,\n",
       " 39319,\n",
       " 39320,\n",
       " 39321,\n",
       " 39322,\n",
       " 39323,\n",
       " 44049,\n",
       " 44050,\n",
       " 44051,\n",
       " 44052,\n",
       " 44053,\n",
       " 44054,\n",
       " 44055,\n",
       " 44056,\n",
       " 44057,\n",
       " 44058,\n",
       " 44059,\n",
       " 44060,\n",
       " 44061,\n",
       " 44062,\n",
       " 44063,\n",
       " 44064,\n",
       " 44065,\n",
       " 44066,\n",
       " 44067,\n",
       " 44068,\n",
       " 44069,\n",
       " 44070,\n",
       " 44071,\n",
       " 44072,\n",
       " 44073,\n",
       " 85274,\n",
       " 85275,\n",
       " 85276,\n",
       " 85277,\n",
       " 85278,\n",
       " 85279,\n",
       " 85280,\n",
       " 85281,\n",
       " 85282,\n",
       " 85283,\n",
       " 85284,\n",
       " 85285,\n",
       " 85286,\n",
       " 85287,\n",
       " 85288,\n",
       " 85289,\n",
       " 85290,\n",
       " 85291,\n",
       " 85292,\n",
       " 85293,\n",
       " 85294,\n",
       " 85295,\n",
       " 85296,\n",
       " 85297,\n",
       " 85298,\n",
       " 99024,\n",
       " 99025,\n",
       " 99026,\n",
       " 99027,\n",
       " 99028,\n",
       " 99029,\n",
       " 99030,\n",
       " 99031,\n",
       " 99032,\n",
       " 99033,\n",
       " 99034,\n",
       " 99035,\n",
       " 99036,\n",
       " 99037,\n",
       " 99038,\n",
       " 99039,\n",
       " 99040,\n",
       " 99041,\n",
       " 99042,\n",
       " 99043,\n",
       " 99044,\n",
       " 99045,\n",
       " 99046,\n",
       " 99047,\n",
       " 99048]"
      ]
     },
     "execution_count": 23,
     "metadata": {},
     "output_type": "execute_result"
    }
   ],
   "source": [
    "label2 == label\n",
    "\n",
    "difs = []\n",
    "for i in range(len(label)):\n",
    "    if not label[i] == label2[i]:\n",
    "        difs.append(i)\n",
    "        \n",
    "difs"
   ]
  },
  {
   "cell_type": "code",
   "execution_count": 12,
   "metadata": {},
   "outputs": [
    {
     "data": {
      "text/plain": [
       "[<matplotlib.lines.Line2D at 0x7f42f0578bd0>]"
      ]
     },
     "execution_count": 12,
     "metadata": {},
     "output_type": "execute_result"
    },
    {
     "data": {
      "image/png": "[encoded data removed]",
      "text/plain": [
       "<Figure size 1800x360 with 1 Axes>"
      ]
     },
     "metadata": {
      "needs_background": "light"
     },
     "output_type": "display_data"
    }
   ],
   "source": [
    "sys.path.append(\"/home/tamara/Documents/DeepHumanVision_pilot/\")\n",
    "from data_base.db_setup import *\n",
    "label_ikea_db = (VideoAnnotation() & \"label_name='ikea'\").fetch(\"movie_label\")\n",
    "label_ikea_db = np.load(label_ikea_db[0])\n",
    "plt.figure(figsize=(25,5))\n",
    "plt.plot(label_ikea_db)"
   ]
  },
  {
   "cell_type": "code",
   "execution_count": 7,
   "metadata": {},
   "outputs": [],
   "source": [
    "start_end_times_tom, indicator_function = extract_labels_from_json_file(\"/home/tamara/Documents/advene/500days_of_summer_03022020.json\", \"tom\", False, False)\n",
    "start_end_times_summer, indicator_function = extract_labels_from_json_file(\"/home/tamara/Documents/advene/500days_of_summer_03022020.json\", \"summer\", False, False)\n",
    "start_end_times_paul, indicator_function = extract_labels_from_json_file(\"/home/tamara/Documents/advene/500days_of_summer_03022020.json\", \"paul\", False, False)\n",
    "start_end_times_mckenzie, indicator_function = extract_labels_from_json_file(\"/home/tamara/Documents/advene/500days_of_summer_03022020.json\", \"mckenzie\", False, False)"
   ]
  },
  {
   "cell_type": "code",
   "execution_count": 8,
   "metadata": {},
   "outputs": [],
   "source": [
    "vorspann = processing_labels.make_label_from_start_stop_times(start_end_times)"
   ]
  },
  {
   "cell_type": "code",
   "execution_count": 9,
   "metadata": {},
   "outputs": [],
   "source": [
    "tom_20200203 = processing_labels.make_label_from_start_stop_times(start_end_times_tom)\n",
    "summer_20200203 = processing_labels.make_label_from_start_stop_times(start_end_times_summer)\n",
    "paul_20200203 = processing_labels.make_label_from_start_stop_times(start_end_times_paul)\n",
    "mckenzie_20200203 = processing_labels.make_label_from_start_stop_times(start_end_times_mckenzie)"
   ]
  },
  {
   "cell_type": "code",
   "execution_count": 12,
   "metadata": {},
   "outputs": [
    {
     "data": {
      "text/plain": [
       "[[0, 36946]]"
      ]
     },
     "execution_count": 12,
     "metadata": {},
     "output_type": "execute_result"
    }
   ],
   "source": [
    "start_end_times"
   ]
  },
  {
   "cell_type": "code",
   "execution_count": 17,
   "metadata": {},
   "outputs": [],
   "source": [
    "np.save(\"/home/tamara/Documents/advene/indicator_tom_20200203.npy\", tom_20200203)\n",
    "np.save(\"/home/tamara/Documents/advene/indicator_summer_20200203.npy\", summer_20200203)\n",
    "np.save(\"/home/tamara/Documents/advene/indicator_paul_20200203.npy\", paul_20200203)\n",
    "np.save(\"/home/tamara/Documents/advene/indicator_mckenzie_20200203.npy\", mckenzie_20200203)"
   ]
  },
  {
   "cell_type": "code",
   "execution_count": 32,
   "metadata": {},
   "outputs": [
    {
     "data": {
      "text/plain": [
       "[<matplotlib.lines.Line2D at 0x7f9dea5db350>]"
      ]
     },
     "execution_count": 32,
     "metadata": {},
     "output_type": "execute_result"
    },
    {
     "data": {
      "image/png": "[encoded data removed]",
      "text/plain": [
       "<Figure size 2160x360 with 1 Axes>"
      ]
     },
     "metadata": {
      "needs_background": "light"
     },
     "output_type": "display_data"
    }
   ],
   "source": [
    "import matplotlib.pyplot as plt\n",
    "plt.figure(figsize=(30,5))\n",
    "plt.plot(vorspann)"
   ]
  },
  {
   "cell_type": "code",
   "execution_count": 20,
   "metadata": {},
   "outputs": [
    {
     "name": "stdin",
     "output_type": "stream",
     "text": [
      "Please enter DataJoint username:  tamara\n",
      "Please enter DataJoint password:  ·········\n"
     ]
    },
    {
     "name": "stdout",
     "output_type": "stream",
     "text": [
      "Connecting tamara@localhost:3306\n"
     ]
    }
   ],
   "source": [
    "sys.path.append(\"/home/tamara/Documents/DeepHumanVision_pilot/\")\n",
    "from data_base.db_setup import *\n",
    "import data_preprocessing.binning as binning"
   ]
  },
  {
   "cell_type": "code",
   "execution_count": 26,
   "metadata": {},
   "outputs": [
    {
     "data": {
      "text/plain": [
       "[<matplotlib.lines.Line2D at 0x7f9de7c63e90>]"
      ]
     },
     "execution_count": 26,
     "metadata": {},
     "output_type": "execute_result"
    },
    {
     "data": {
      "image/png": "[encoded data removed]",
      "text/plain": [
       "<Figure size 2160x360 with 1 Axes>"
      ]
     },
     "metadata": {
      "needs_background": "light"
     },
     "output_type": "display_data"
    }
   ],
   "source": [
    "tom_db_name = (VideoAnnotation() & \"label_name='tom'\").fetch(\"movie_label\")[0]\n",
    "tom_db = np.load(tom_db_name)\n",
    "\n",
    "plt.figure(figsize=(30,5))\n",
    "plt.plot(tom_db)"
   ]
  },
  {
   "cell_type": "code",
   "execution_count": 64,
   "metadata": {},
   "outputs": [
    {
     "name": "stdout",
     "output_type": "stream",
     "text": [
      "125725\n"
     ]
    }
   ],
   "source": [
    "start_end_times, indicator_function = extract_labels_from_json_file(\"/home/tamara/Documents/DeepHumanVision_pilot/movie_annotation/advene/500days_of_summer_20191209.json\", \"ikea\", False, False)"
   ]
  },
  {
   "cell_type": "code",
   "execution_count": 65,
   "metadata": {},
   "outputs": [
    {
     "data": {
      "text/plain": [
       "4655"
      ]
     },
     "execution_count": 65,
     "metadata": {},
     "output_type": "execute_result"
    }
   ],
   "source": [
    "sum(indicator_function_rachel)"
   ]
  },
  {
   "cell_type": "code",
   "execution_count": 66,
   "metadata": {},
   "outputs": [
    {
     "data": {
      "image/png": "[encoded data removed]",
      "text/plain": [
       "<Figure size 432x288 with 1 Axes>"
      ]
     },
     "metadata": {
      "needs_background": "light"
     },
     "output_type": "display_data"
    }
   ],
   "source": [
    "import matplotlib.pyplot as plt\n",
    "\n",
    "plt.plot(indicator_function_rachel)\n",
    "plt.show()"
   ]
  },
  {
   "cell_type": "code",
   "execution_count": 67,
   "metadata": {},
   "outputs": [],
   "source": [
    "np.save(\"../indicators/rachel_indicator_fxn_20191209.npy\", indicator_function_rachel)"
   ]
  },
  {
   "cell_type": "code",
   "execution_count": 70,
   "metadata": {},
   "outputs": [],
   "source": [
    "def create_indicator_function(label_name):\n",
    "    start_end_times, indicator_function = extract_labels_from_json_file(\"/home/tamara/Documents/DeepHumanVision_pilot/movie_annotation/advene/500days_of_summer_20191209.json\", label_name, False, False)\n",
    "    print(sum(indicator_function))\n",
    "          \n",
    "    plt.plot(indicator_function)\n",
    "    plt.show()\n",
    "          \n",
    "    return indicator_function"
   ]
  },
  {
   "cell_type": "code",
   "execution_count": 82,
   "metadata": {},
   "outputs": [
    {
     "name": "stdout",
     "output_type": "stream",
     "text": [
      "125725\n",
      "745\n"
     ]
    },
    {
     "data": {
      "image/png": "[encoded data removed]",
      "text/plain": [
       "<Figure size 432x288 with 1 Axes>"
      ]
     },
     "metadata": {
      "needs_background": "light"
     },
     "output_type": "display_data"
    }
   ],
   "source": [
    "name_label = \"identical_scene_summer\"\n",
    "label = create_indicator_function(name_label)"
   ]
  },
  {
   "cell_type": "code",
   "execution_count": 83,
   "metadata": {},
   "outputs": [],
   "source": [
    "np.save(\"../indicators/{}_indicator_fxn_20191209.npy\".format(name_label), label)"
   ]
  },
  {
   "cell_type": "markdown",
   "metadata": {},
   "source": [
    "## Create an xml text to add to the config file"
   ]
  },
  {
   "cell_type": "code",
   "execution_count": 28,
   "metadata": {},
   "outputs": [],
   "source": [
    "def create_xml_for_advene(id_name, star_end_times_vector, label_name):\n",
    "    new_annotations = \"\"\n",
    "    id_ = 0\n",
    "\n",
    "    for start, end in star_end_times_vector:\n",
    "        string_new_annotation = '<annotation id=\"{}{}\" type=\"#{}\"><millisecond-fragment begin=\"{}\" end=\"{}\"/><content>num=1</content></annotation>'.format(\n",
    "            id_name, id_, label_name, int(start * 1000), int(end * 1000))\n",
    "        # element = ET.fromstring(string_new_annotation)\n",
    "        # print(string_new_annotation)\n",
    "        new_annotations += string_new_annotation\n",
    "\n",
    "        id_ += 1\n",
    "    return new_annotations"
   ]
  },
  {
   "cell_type": "code",
   "execution_count": 31,
   "metadata": {},
   "outputs": [
    {
     "data": {
      "text/plain": [
       "'<annotation id=\"rachel0\" type=\"#rachel\"><millisecond-fragment begin=\"240647\" end=\"260817\"/><content>num=1</content></annotation><annotation id=\"rachel1\" type=\"#rachel\"><millisecond-fragment begin=\"271080\" end=\"274288\"/><content>num=1</content></annotation><annotation id=\"rachel2\" type=\"#rachel\"><millisecond-fragment begin=\"277384\" end=\"292301\"/><content>num=1</content></annotation><annotation id=\"rachel3\" type=\"#rachel\"><millisecond-fragment begin=\"306243\" end=\"306969\"/><content>num=1</content></annotation><annotation id=\"rachel4\" type=\"#rachel\"><millisecond-fragment begin=\"311849\" end=\"314349\"/><content>num=1</content></annotation><annotation id=\"rachel5\" type=\"#rachel\"><millisecond-fragment begin=\"326213\" end=\"327661\"/><content>num=1</content></annotation><annotation id=\"rachel6\" type=\"#rachel\"><millisecond-fragment begin=\"329756\" end=\"334677\"/><content>num=1</content></annotation><annotation id=\"rachel7\" type=\"#rachel\"><millisecond-fragment begin=\"378847\" end=\"385293\"/><content>num=1</content></annotation><annotation id=\"rachel8\" type=\"#rachel\"><millisecond-fragment begin=\"398340\" end=\"407140\"/><content>num=1</content></annotation><annotation id=\"rachel9\" type=\"#rachel\"><millisecond-fragment begin=\"830208\" end=\"837786\"/><content>num=1</content></annotation><annotation id=\"rachel10\" type=\"#rachel\"><millisecond-fragment begin=\"840336\" end=\"846823\"/><content>num=1</content></annotation><annotation id=\"rachel11\" type=\"#rachel\"><millisecond-fragment begin=\"848245\" end=\"849796\"/><content>num=1</content></annotation><annotation id=\"rachel12\" type=\"#rachel\"><millisecond-fragment begin=\"2382478\" end=\"2444361\"/><content>num=1</content></annotation><annotation id=\"rachel13\" type=\"#rachel\"><millisecond-fragment begin=\"3894244\" end=\"3907299\"/><content>num=1</content></annotation><annotation id=\"rachel14\" type=\"#rachel\"><millisecond-fragment begin=\"3909560\" end=\"3913542\"/><content>num=1</content></annotation><annotation id=\"rachel15\" type=\"#rachel\"><millisecond-fragment begin=\"3915723\" end=\"3947023\"/><content>num=1</content></annotation>'"
      ]
     },
     "execution_count": 31,
     "metadata": {},
     "output_type": "execute_result"
    }
   ],
   "source": [
    "create_xml_for_advene(\"rachel\", start_end_times_rachel_seconds, \"rachel\")"
   ]
  },
  {
   "cell_type": "code",
   "execution_count": 18,
   "metadata": {},
   "outputs": [],
   "source": [
    "identical_scene_summer_start_end_times = export_labels_from_json_file(\"/home/tamara/Desktop/labels_plus_identical_scene_summer.json\", \"identical_scene_summer\", True)"
   ]
  },
  {
   "cell_type": "code",
   "execution_count": 19,
   "metadata": {},
   "outputs": [
    {
     "data": {
      "text/plain": [
       "[[787312, 803744], [3319659, 3333008]]"
      ]
     },
     "execution_count": 19,
     "metadata": {},
     "output_type": "execute_result"
    }
   ],
   "source": [
    "identical_scene_summer_start_end_times"
   ]
  },
  {
   "cell_type": "code",
   "execution_count": 4,
   "metadata": {},
   "outputs": [],
   "source": [
    "ikea_label = processing_labels.export_labels_from_json_file(\"/home/tamara/Documents/DeepHumanVision_pilot/movie_annotation/advene/500days_of_summer.json\", \"ikea\", True)"
   ]
  },
  {
   "cell_type": "code",
   "execution_count": 5,
   "metadata": {},
   "outputs": [
    {
     "data": {
      "text/plain": [
       "[[294966, 299630],\n",
       " [1555591, 1573631],\n",
       " [1576454, 1763313],\n",
       " [3409927, 3412464],\n",
       " [3959482, 3962867]]"
      ]
     },
     "execution_count": 5,
     "metadata": {},
     "output_type": "execute_result"
    }
   ],
   "source": [
    "ikea_label"
   ]
  },
  {
   "cell_type": "code",
   "execution_count": 6,
   "metadata": {},
   "outputs": [
    {
     "name": "stdout",
     "output_type": "stream",
     "text": [
      "119694\n"
     ]
    }
   ],
   "source": [
    "ikea_default_label = processing_labels.create_default_label_from_advene_json_file(\"/home/tamara/Documents/DeepHumanVision_pilot/movie_annotation/advene/500days_of_summer.json\", \"ikea\", False)"
   ]
  },
  {
   "cell_type": "code",
   "execution_count": 10,
   "metadata": {},
   "outputs": [
    {
     "data": {
      "text/plain": [
       "0.04498972379567898"
      ]
     },
     "execution_count": 10,
     "metadata": {},
     "output_type": "execute_result"
    }
   ],
   "source": [
    "sum(ikea_default_label) / len(ikea_default_label)"
   ]
  },
  {
   "cell_type": "code",
   "execution_count": 11,
   "metadata": {},
   "outputs": [],
   "source": [
    "np.save(\"/home/tamara/Documents/DeepHumanVision_pilot/data_base/data/movie_labels/13_ikea_p5_20191105_location.npy\", ikea_default_label)"
   ]
  },
  {
   "cell_type": "code",
   "execution_count": null,
   "metadata": {},
   "outputs": [],
   "source": []
  }
 ],
 "metadata": {
  "kernelspec": {
   "display_name": "Python 3",
   "language": "python",
   "name": "python3"
  },
  "language_info": {
   "codemirror_mode": {
    "name": "ipython",
    "version": 3
   },
   "file_extension": ".py",
   "mimetype": "text/x-python",
   "name": "python",
   "nbconvert_exporter": "python",
   "pygments_lexer": "ipython3",
   "version": "3.7.4"
  }
 },
 "nbformat": 4,
 "nbformat_minor": 4
}
