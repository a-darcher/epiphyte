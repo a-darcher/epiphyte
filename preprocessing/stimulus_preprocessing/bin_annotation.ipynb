{
 "cells": [
  {
   "cell_type": "markdown",
   "metadata": {},
   "source": [
    "# Binning labels (start times, stop times, values)  - excluding or including pauses in movie playback"
   ]
  },
  {
   "cell_type": "code",
   "execution_count": 1,
   "metadata": {},
   "outputs": [
    {
     "name": "stdin",
     "output_type": "stream",
     "text": [
      "Please enter DataJoint username:  tamara\n",
      "Please enter DataJoint password:  ·········\n"
     ]
    },
    {
     "name": "stdout",
     "output_type": "stream",
     "text": [
      "Connecting tamara@localhost:3306\n"
     ]
    }
   ],
   "source": [
    "import sys\n",
    "import matplotlib.pyplot as plt\n",
    "sys.path.append(\"/home/tamara/Documents/PhD/DeepHumanVision_deploy/\")\n",
    "from database.db_setup import *\n",
    "import preprocessing.data_preprocessing.binning as binning\n",
    "import annotation.stimulus_driven_annotation.movies.pause_handling as pause_handling\n",
    "import preprocessing.data_preprocessing.create_vectors_from_time_points as create_vectors_from_time_points"
   ]
  },
  {
   "cell_type": "markdown",
   "metadata": {},
   "source": [
    "Set parameters:"
   ]
  },
  {
   "cell_type": "code",
   "execution_count": 12,
   "metadata": {},
   "outputs": [],
   "source": [
    "patient_id = 60\n",
    "session_nr = 1\n",
    "bin_size = 1000\n",
    "annotator_id_cont_watch = \"p1\"\n",
    "annotation_date_cont_watch = \"2020-03-23\""
   ]
  },
  {
   "cell_type": "markdown",
   "metadata": {},
   "source": [
    "# Binning of Labels (not spikes)"
   ]
  },
  {
   "cell_type": "markdown",
   "metadata": {},
   "source": [
    "### (1) Get start and stop times of vector you would like to bin"
   ]
  },
  {
   "cell_type": "code",
   "execution_count": 5,
   "metadata": {},
   "outputs": [],
   "source": [
    "values_cont_watch, start_times_cont_watch, stop_times_cont_watch = (ContinuousWatchSegments() & \"patient_id={}\".format(patient_id) & \"session_nr={}\".format(session_nr) & \"annotator_id='{}'\".format(annotator_id_cont_watch) & \"label_entry_date='{}'\".format(annotation_date_cont_watch)).fetch('values', 'start_times', 'stop_times')"
   ]
  },
  {
   "cell_type": "markdown",
   "metadata": {},
   "source": [
    "### <font color='red'>(2) Decide whether you want to exclude pauses from the data</font>"
   ]
  },
  {
   "cell_type": "code",
   "execution_count": 6,
   "metadata": {},
   "outputs": [],
   "source": [
    "exclude_pauses = False"
   ]
  },
  {
   "cell_type": "markdown",
   "metadata": {},
   "source": [
    "### (3) Bin label"
   ]
  },
  {
   "cell_type": "code",
   "execution_count": 7,
   "metadata": {},
   "outputs": [],
   "source": [
    "binned_label = binning.bin_label(patient_id, session_nr, values=values_cont_watch[0], start_times=start_times_cont_watch[0], stop_times=stop_times_cont_watch[0], bin_size=bin_size, exclude_pauses=exclude_pauses)"
   ]
  },
  {
   "cell_type": "markdown",
   "metadata": {},
   "source": [
    "### (4) Plot binned vector"
   ]
  },
  {
   "cell_type": "code",
   "execution_count": 11,
   "metadata": {},
   "outputs": [
    {
     "data": {
      "image/png": "[encoded data removed]",
      "text/plain": [
       "<Figure size 1440x216 with 1 Axes>"
      ]
     },
     "metadata": {
      "needs_background": "light"
     },
     "output_type": "display_data"
    }
   ],
   "source": [
    "fig = plt.figure(figsize=(20,3))\n",
    "plt.plot(binned_label)\n",
    "if exclude_pauses:\n",
    "    plt.title(\"Binned label excluding pauses - patient {}\".format(patient_id), fontsize=20)\n",
    "else:\n",
    "    plt.title(\"Binned label including pauses - patient {}\".format(patient_id), fontsize=20)\n",
    "\n",
    "plt.xlabel(\"time (bin size {} milliseconds)\".format(bin_size), fontsize=15)\n",
    "plt.ylabel(\"label\", fontsize=15)\n",
    "plt.show()"
   ]
  },
  {
   "cell_type": "code",
   "execution_count": null,
   "metadata": {},
   "outputs": [],
   "source": []
  }
 ],
 "metadata": {
  "kernelspec": {
   "display_name": "Python 3",
   "language": "python",
   "name": "python3"
  },
  "language_info": {
   "codemirror_mode": {
    "name": "ipython",
    "version": 3
   },
   "file_extension": ".py",
   "mimetype": "text/x-python",
   "name": "python",
   "nbconvert_exporter": "python",
   "pygments_lexer": "ipython3",
   "version": "3.6.7"
  }
 },
 "nbformat": 4,
 "nbformat_minor": 4
}
