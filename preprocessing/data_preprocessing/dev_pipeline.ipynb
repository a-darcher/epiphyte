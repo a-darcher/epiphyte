{
 "cells": [
  {
   "cell_type": "markdown",
   "metadata": {},
   "source": [
    "# (dev) processing pipeline "
   ]
  },
  {
   "cell_type": "markdown",
   "metadata": {},
   "source": [
    "testing new implementation of clipping/cpt process\n",
    "- central idea: separate the code more, recombine here.  "
   ]
  },
  {
   "cell_type": "code",
   "execution_count": 2,
   "metadata": {},
   "outputs": [],
   "source": [
    "import os\n",
    "import sys \n",
    "\n",
    "import numpy as np\n",
    "import matplotlib.pyplot as plt\n",
    "\n",
    "\n",
    "# 26.2.20 note: currently erring on the side of too many modules -- \n",
    "#               easier to consolidate later than to untangle dependencies. \n",
    "\n",
    "import data_utils as du\n",
    "import apply_artifact_vec as art\n",
    "\n",
    "from annotation.stimulus_driven_annotation.movies import pause_handling as ph\n",
    "from annotation.stimulus_driven_annotation.movies import clip_to_cont as clip\n",
    "from annotation.data_driven_annotation import cpt as cpt"
   ]
  },
  {
   "cell_type": "code",
   "execution_count": 2,
   "metadata": {},
   "outputs": [
    {
     "name": "stdin",
     "output_type": "stream",
     "text": [
      "Please enter DataJoint username:  alana\n",
      "Please enter DataJoint password:  ···············\n"
     ]
    },
    {
     "name": "stdout",
     "output_type": "stream",
     "text": [
      "Connecting alana@localhost:3306\n"
     ]
    }
   ],
   "source": [
    "# run for interacting with database from ssh tunnel\n",
    "import sys\n",
    "\n",
    "sys.path.append(\"/home/tamara/Documents/DeepHumanVision_pilot/\")\n",
    "from data_base.db_setup import *"
   ]
  },
  {
   "cell_type": "code",
   "execution_count": 3,
   "metadata": {},
   "outputs": [
    {
     "data": {
      "image/svg+xml": [
       "<svg xmlns=\"http://www.w3.org/2000/svg\" xmlns:xlink=\"http://www.w3.org/1999/xlink\" width=\"1266pt\" height=\"256pt\" viewBox=\"0.00 0.00 1266.25 256.00\">\n",
       "<g id=\"graph0\" class=\"graph\" transform=\"scale(1 1) rotate(0) translate(4 252)\">\n",
       "<title>%3</title>\n",
       "<polygon fill=\"#ffffff\" stroke=\"transparent\" points=\"-4,4 -4,-252 1262.2458,-252 1262.2458,4 -4,4\"/>\n",
       "<!-- `dhv`.`unit_level_data_cleaning` -->\n",
       "<g id=\"node1\" class=\"node\">\n",
       "<title>`dhv`.`unit_level_data_cleaning`</title>\n",
       "<polygon fill=\"#00ff00\" fill-opacity=\"0.188235\" stroke=\"#00ff00\" stroke-opacity=\"0.188235\" points=\"926.7458,-106 738.7458,-106 738.7458,-71 926.7458,-71 926.7458,-106\"/>\n",
       "<text text-anchor=\"start\" x=\"746.7458\" y=\"-86.4\" font-family=\"arial\" text-decoration=\"underline\" font-size=\"12.00\" fill=\"#006400\">`dhv`.`unit_level_data_cleaning`</text>\n",
       "</g>\n",
       "<!-- Annotator -->\n",
       "<g id=\"node2\" class=\"node\">\n",
       "<title>Annotator</title>\n",
       "<g id=\"a_node2\"><a xlink:title=\"annotator_id         \r",
       "------------------------------\r",
       "first_name           \r",
       "last_name            \r",
       "additional_information=&quot;&quot; \r",
       "\">\n",
       "<polygon fill=\"#000000\" fill-opacity=\"0.125490\" stroke=\"transparent\" points=\"730.2458,-177 671.2458,-177 671.2458,-142 730.2458,-142 730.2458,-177\"/>\n",
       "<text text-anchor=\"start\" x=\"679.2458\" y=\"-158\" font-family=\"arial\" text-decoration=\"underline\" font-size=\"10.00\" fill=\"#000000\">Annotator</text>\n",
       "</a>\n",
       "</g>\n",
       "</g>\n",
       "<!-- Annotator&#45;&gt;`dhv`.`unit_level_data_cleaning` -->\n",
       "<g id=\"edge1\" class=\"edge\">\n",
       "<title>Annotator-&gt;`dhv`.`unit_level_data_cleaning`</title>\n",
       "<path fill=\"none\" stroke=\"#000000\" stroke-width=\".75\" stroke-opacity=\"0.250980\" d=\"M730.3691,-143.5662C751.0443,-132.4455 778.6455,-117.5994 799.9788,-106.1247\"/>\n",
       "</g>\n",
       "<!-- UnitLevelDataCleaning -->\n",
       "<g id=\"node15\" class=\"node\">\n",
       "<title>UnitLevelDataCleaning</title>\n",
       "<g id=\"a_node15\"><a xlink:title=\"→ ElectrodeUnit\r",
       "→ MovieSession\r",
       "→ Annotator\r",
       "name                 \r",
       "------------------------------\r",
       "data                 \r",
       "description=&quot;&quot;       \r",
       "\">\n",
       "<ellipse fill=\"#00007f\" fill-opacity=\"0.250980\" stroke=\"#00007f\" stroke-opacity=\"0.250980\" cx=\"631.7458\" cy=\"-88.5\" rx=\"88.5007\" ry=\"17.5\"/>\n",
       "<text text-anchor=\"start\" x=\"568.7458\" y=\"-86.4\" font-family=\"arial\" text-decoration=\"underline\" font-size=\"12.00\" fill=\"#00007f\">UnitLevelDataCleaning</text>\n",
       "</a>\n",
       "</g>\n",
       "</g>\n",
       "<!-- Annotator&#45;&gt;UnitLevelDataCleaning -->\n",
       "<g id=\"edge2\" class=\"edge\">\n",
       "<title>Annotator-&gt;UnitLevelDataCleaning</title>\n",
       "<path fill=\"none\" stroke=\"#000000\" stroke-width=\".75\" stroke-opacity=\"0.250980\" d=\"M683.6896,-141.9494C672.9943,-130.9441 659.2637,-116.8155 648.6058,-105.8487\"/>\n",
       "</g>\n",
       "<!-- VideoAnnotation -->\n",
       "<g id=\"node16\" class=\"node\">\n",
       "<title>VideoAnnotation</title>\n",
       "<g id=\"a_node16\"><a xlink:title=\"→ Annotator\r",
       "→ LabelName\r",
       "annotation_date      \r",
       "------------------------------\r",
       "movie_label          \r",
       "category             \r",
       "\">\n",
       "<ellipse fill=\"#00007f\" fill-opacity=\"0.250980\" stroke=\"#00007f\" stroke-opacity=\"0.250980\" cx=\"1010.7458\" cy=\"-88.5\" rx=\"66.0009\" ry=\"17.5\"/>\n",
       "<text text-anchor=\"start\" x=\"965.7458\" y=\"-86.4\" font-family=\"arial\" text-decoration=\"underline\" font-size=\"12.00\" fill=\"#00007f\">VideoAnnotation</text>\n",
       "</a>\n",
       "</g>\n",
       "</g>\n",
       "<!-- Annotator&#45;&gt;VideoAnnotation -->\n",
       "<g id=\"edge3\" class=\"edge\">\n",
       "<title>Annotator-&gt;VideoAnnotation</title>\n",
       "<path fill=\"none\" stroke=\"#000000\" stroke-width=\".75\" stroke-opacity=\"0.250980\" d=\"M730.435,-152.7948C775.0287,-142.7114 861.9458,-123.0105 935.7458,-106 943.954,-104.108 952.6644,-102.0874 961.1327,-100.1161\"/>\n",
       "</g>\n",
       "<!-- PatientLevelDataCleaning -->\n",
       "<g id=\"node17\" class=\"node\">\n",
       "<title>PatientLevelDataCleaning</title>\n",
       "<g id=\"a_node17\"><a xlink:title=\"→ MovieSession\r",
       "name                 \r",
       "→ Annotator\r",
       "------------------------------\r",
       "data                 \r",
       "description=&quot;&quot;       \r",
       "\">\n",
       "<polygon fill=\"#00ff00\" fill-opacity=\"0.188235\" stroke=\"#00ff00\" stroke-opacity=\"0.188235\" points=\"524.7458,-106 366.7458,-106 366.7458,-71 524.7458,-71 524.7458,-106\"/>\n",
       "<text text-anchor=\"start\" x=\"374.7458\" y=\"-86.4\" font-family=\"arial\" text-decoration=\"underline\" font-size=\"12.00\" fill=\"#006400\">PatientLevelDataCleaning</text>\n",
       "</a>\n",
       "</g>\n",
       "</g>\n",
       "<!-- Annotator&#45;&gt;PatientLevelDataCleaning -->\n",
       "<g id=\"edge4\" class=\"edge\">\n",
       "<title>Annotator-&gt;PatientLevelDataCleaning</title>\n",
       "<path fill=\"none\" stroke=\"#000000\" stroke-width=\".75\" stroke-opacity=\"0.250980\" d=\"M671.2449,-151.286C631.7179,-140.2805 560.5481,-120.4646 508.7089,-106.0309\"/>\n",
       "</g>\n",
       "<!-- LabelName -->\n",
       "<g id=\"node3\" class=\"node\">\n",
       "<title>LabelName</title>\n",
       "<g id=\"a_node3\"><a xlink:title=\"label_name           \r",
       "\">\n",
       "<polygon fill=\"#000000\" fill-opacity=\"0.125490\" stroke=\"transparent\" points=\"1070.2458,-177 1005.2458,-177 1005.2458,-142 1070.2458,-142 1070.2458,-177\"/>\n",
       "<text text-anchor=\"start\" x=\"1013.2458\" y=\"-158\" font-family=\"arial\" text-decoration=\"underline\" font-size=\"10.00\" fill=\"#000000\">LabelName</text>\n",
       "</a>\n",
       "</g>\n",
       "</g>\n",
       "<!-- ProcessedVideoAnnotation -->\n",
       "<g id=\"node8\" class=\"node\">\n",
       "<title>ProcessedVideoAnnotation</title>\n",
       "<g id=\"a_node8\"><a xlink:title=\"→ LabelName\r",
       "→ LabelProcessingMethod\r",
       "last_entry_date      \r",
       "------------------------------\r",
       "processed_frames     \r",
       "\">\n",
       "<ellipse fill=\"#ff0000\" fill-opacity=\"0.125490\" stroke=\"#ff0000\" stroke-opacity=\"0.125490\" cx=\"1176.7458\" cy=\"-88.5\" rx=\"13\" ry=\"13\"/>\n",
       "<text text-anchor=\"start\" x=\"1103.2458\" y=\"-86.4\" font-family=\"arial\" text-decoration=\"underline\" font-size=\"12.00\" fill=\"#7f0000\">ProcessedVideoAnnotation</text>\n",
       "</a>\n",
       "</g>\n",
       "</g>\n",
       "<!-- LabelName&#45;&gt;ProcessedVideoAnnotation -->\n",
       "<g id=\"edge5\" class=\"edge\">\n",
       "<title>LabelName-&gt;ProcessedVideoAnnotation</title>\n",
       "<path fill=\"none\" stroke=\"#000000\" stroke-width=\".75\" stroke-opacity=\"0.250980\" d=\"M1070.3351,-142.8537C1100.6668,-127.3605 1144.212,-105.118 1164.9275,-94.5367\"/>\n",
       "</g>\n",
       "<!-- LabelName&#45;&gt;VideoAnnotation -->\n",
       "<g id=\"edge6\" class=\"edge\">\n",
       "<title>LabelName-&gt;VideoAnnotation</title>\n",
       "<path fill=\"none\" stroke=\"#000000\" stroke-width=\".75\" stroke-opacity=\"0.250980\" d=\"M1031.0716,-141.9494C1026.9489,-131.1083 1021.6738,-117.2366 1017.5307,-106.3418\"/>\n",
       "</g>\n",
       "<!-- LabelProcessingMethod -->\n",
       "<g id=\"node4\" class=\"node\">\n",
       "<title>LabelProcessingMethod</title>\n",
       "<g id=\"a_node4\"><a xlink:title=\"algorithm_name       \r",
       "------------------------------\r",
       "description          \r",
       "\">\n",
       "<polygon fill=\"#000000\" fill-opacity=\"0.125490\" stroke=\"transparent\" points=\"1237.2458,-177 1116.2458,-177 1116.2458,-142 1237.2458,-142 1237.2458,-177\"/>\n",
       "<text text-anchor=\"start\" x=\"1124.2458\" y=\"-158\" font-family=\"arial\" text-decoration=\"underline\" font-size=\"10.00\" fill=\"#000000\">LabelProcessingMethod</text>\n",
       "</a>\n",
       "</g>\n",
       "</g>\n",
       "<!-- LabelProcessingMethod&#45;&gt;ProcessedVideoAnnotation -->\n",
       "<g id=\"edge7\" class=\"edge\">\n",
       "<title>LabelProcessingMethod-&gt;ProcessedVideoAnnotation</title>\n",
       "<path fill=\"none\" stroke=\"#000000\" stroke-width=\".75\" stroke-opacity=\"0.250980\" d=\"M1176.7458,-141.9494C1176.7458,-129.4658 1176.7458,-112.9634 1176.7458,-101.6156\"/>\n",
       "</g>\n",
       "<!-- Patient -->\n",
       "<g id=\"node5\" class=\"node\">\n",
       "<title>Patient</title>\n",
       "<g id=\"a_node5\"><a xlink:title=\"patient_id           \r",
       "------------------------------\r",
       "age                  \r",
       "gender               \r",
       "year                 \r",
       "removed_tissue=&quot;unknown&quot; \r",
       "epilepsy_type=&quot;unknown&quot; \r",
       "additional_information=&quot;&quot; \r",
       "\">\n",
       "<polygon fill=\"#000000\" fill-opacity=\"0.125490\" stroke=\"transparent\" points=\"449.2458,-248 402.2458,-248 402.2458,-213 449.2458,-213 449.2458,-248\"/>\n",
       "<text text-anchor=\"start\" x=\"410.2458\" y=\"-229\" font-family=\"arial\" text-decoration=\"underline\" font-size=\"10.00\" fill=\"#000000\">Patient</text>\n",
       "</a>\n",
       "</g>\n",
       "</g>\n",
       "<!-- ElectrodeUnit -->\n",
       "<g id=\"node12\" class=\"node\">\n",
       "<title>ElectrodeUnit</title>\n",
       "<g id=\"a_node12\"><a xlink:title=\"→ Patient\r",
       "unit_id              \r",
       "------------------------------\r",
       "csc                  \r",
       "unit_type            \r",
       "unit_nr              \r",
       "brain_region         \r",
       "additional_information=&quot;&quot; \r",
       "\">\n",
       "<ellipse fill=\"#00007f\" fill-opacity=\"0.250980\" stroke=\"#00007f\" stroke-opacity=\"0.250980\" cx=\"562.7458\" cy=\"-159.5\" rx=\"55.7503\" ry=\"17.5\"/>\n",
       "<text text-anchor=\"start\" x=\"526.2458\" y=\"-157.4\" font-family=\"arial\" text-decoration=\"underline\" font-size=\"12.00\" fill=\"#00007f\">ElectrodeUnit</text>\n",
       "</a>\n",
       "</g>\n",
       "</g>\n",
       "<!-- Patient&#45;&gt;ElectrodeUnit -->\n",
       "<g id=\"edge8\" class=\"edge\">\n",
       "<title>Patient-&gt;ElectrodeUnit</title>\n",
       "<path fill=\"none\" stroke=\"#000000\" stroke-width=\".75\" stroke-opacity=\"0.250980\" d=\"M449.2969,-218.2947C472.7073,-206.1623 508.6581,-187.5308 533.7976,-174.5024\"/>\n",
       "</g>\n",
       "<!-- MovieSession -->\n",
       "<g id=\"node13\" class=\"node\">\n",
       "<title>MovieSession</title>\n",
       "<g id=\"a_node13\"><a xlink:title=\"session_nr           \r",
       "→ Patient\r",
       "------------------------------\r",
       "date                 \r",
       "time                 \r",
       "order_movie_frames   \r",
       "cpu_time             \r",
       "neural_recording_time \r",
       "channel_names        \r",
       "additional_information=&quot;&quot; \r",
       "\">\n",
       "<ellipse fill=\"#00007f\" fill-opacity=\"0.250980\" stroke=\"#00007f\" stroke-opacity=\"0.250980\" cx=\"360.7458\" cy=\"-159.5\" rx=\"57.5\" ry=\"17.5\"/>\n",
       "<text text-anchor=\"start\" x=\"322.7458\" y=\"-157.4\" font-family=\"arial\" text-decoration=\"underline\" font-size=\"12.00\" fill=\"#00007f\">MovieSession</text>\n",
       "</a>\n",
       "</g>\n",
       "</g>\n",
       "<!-- Patient&#45;&gt;MovieSession -->\n",
       "<g id=\"edge9\" class=\"edge\">\n",
       "<title>Patient-&gt;MovieSession</title>\n",
       "<path fill=\"none\" stroke=\"#000000\" stroke-width=\".75\" stroke-opacity=\"0.250980\" d=\"M409.6783,-212.9494C399.4527,-201.7798 386.2817,-187.3931 376.1808,-176.3598\"/>\n",
       "</g>\n",
       "<!-- MoviePauses -->\n",
       "<g id=\"node6\" class=\"node\">\n",
       "<title>MoviePauses</title>\n",
       "<g id=\"a_node6\"><a xlink:title=\"→ MovieSession\r",
       "------------------------------\r",
       "start_times          \r",
       "stop_times           \r",
       "description=&quot;&quot;       \r",
       "further_information=&quot;&quot; \r",
       "\">\n",
       "<ellipse fill=\"#ff0000\" fill-opacity=\"0.125490\" stroke=\"#ff0000\" stroke-opacity=\"0.125490\" cx=\"61.7458\" cy=\"-88.5\" rx=\"13\" ry=\"13\"/>\n",
       "<text text-anchor=\"middle\" x=\"61.7458\" y=\"-85.4\" font-family=\"arial\" font-size=\"12.00\" fill=\"#7f0000\">MoviePauses</text>\n",
       "</a>\n",
       "</g>\n",
       "</g>\n",
       "<!-- PatientAlignedLabel -->\n",
       "<g id=\"node7\" class=\"node\">\n",
       "<title>PatientAlignedLabel</title>\n",
       "<g id=\"a_node7\"><a xlink:title=\"→ VideoAnnotation\r",
       "→ MovieSession\r",
       "------------------------------\r",
       "label_in_patient_time \r",
       "\">\n",
       "<ellipse fill=\"#ff0000\" fill-opacity=\"0.125490\" stroke=\"#ff0000\" stroke-opacity=\"0.125490\" cx=\"922.7458\" cy=\"-17.5\" rx=\"13\" ry=\"13\"/>\n",
       "<text text-anchor=\"middle\" x=\"922.7458\" y=\"-14.4\" font-family=\"arial\" font-size=\"12.00\" fill=\"#7f0000\">PatientAlignedLabel</text>\n",
       "</a>\n",
       "</g>\n",
       "</g>\n",
       "<!-- ProcessedVideoAnnotation.Entry -->\n",
       "<g id=\"node9\" class=\"node\">\n",
       "<title>ProcessedVideoAnnotation.Entry</title>\n",
       "<g id=\"a_node9\"><a xlink:title=\"→ ProcessedVideoAnnotation\r",
       "→ VideoAnnotation\r",
       "\">\n",
       "<polygon fill=\"transparent\" stroke=\"transparent\" points=\"1257.2458,-27 1096.2458,-27 1096.2458,-8 1257.2458,-8 1257.2458,-27\"/>\n",
       "<text text-anchor=\"middle\" x=\"1176.7458\" y=\"-15\" font-family=\"arial\" font-size=\"10.00\" fill=\"#000000\">ProcessedVideoAnnotation.Entry</text>\n",
       "</a>\n",
       "</g>\n",
       "</g>\n",
       "<!-- ProcessedVideoAnnotation&#45;&gt;ProcessedVideoAnnotation.Entry -->\n",
       "<g id=\"edge10\" class=\"edge\">\n",
       "<title>ProcessedVideoAnnotation-&gt;ProcessedVideoAnnotation.Entry</title>\n",
       "<path fill=\"none\" stroke=\"#000000\" stroke-width=\".75\" stroke-opacity=\"0.250980\" d=\"M1176.7458,-75.4775C1176.7458,-61.5459 1176.7458,-39.7684 1176.7458,-27.2466\"/>\n",
       "</g>\n",
       "<!-- BinnedPatientAlignedLabel -->\n",
       "<g id=\"node10\" class=\"node\">\n",
       "<title>BinnedPatientAlignedLabel</title>\n",
       "<g id=\"a_node10\"><a xlink:title=\"→ VideoAnnotation\r",
       "→ MovieSession\r",
       "bin_size             \r",
       "------------------------------\r",
       "label_in_patient_time \r",
       "\">\n",
       "<ellipse fill=\"#00007f\" fill-opacity=\"0.250980\" stroke=\"#00007f\" stroke-opacity=\"0.250980\" cx=\"564.7458\" cy=\"-17.5\" rx=\"102.5\" ry=\"17.5\"/>\n",
       "<text text-anchor=\"start\" x=\"490.7458\" y=\"-15.4\" font-family=\"arial\" text-decoration=\"underline\" font-size=\"12.00\" fill=\"#00007f\">BinnedPatientAlignedLabel</text>\n",
       "</a>\n",
       "</g>\n",
       "</g>\n",
       "<!-- BinnedSpikesDuringMovie -->\n",
       "<g id=\"node11\" class=\"node\">\n",
       "<title>BinnedSpikesDuringMovie</title>\n",
       "<g id=\"a_node11\"><a xlink:title=\"→ SpikeTimesDuringMovie\r",
       "bin_size             \r",
       "------------------------------\r",
       "spike_vector         \r",
       "\">\n",
       "<ellipse fill=\"#00007f\" fill-opacity=\"0.250980\" stroke=\"#00007f\" stroke-opacity=\"0.250980\" cx=\"255.7458\" cy=\"-17.5\" rx=\"100\" ry=\"17.5\"/>\n",
       "<text text-anchor=\"start\" x=\"183.7458\" y=\"-15.4\" font-family=\"arial\" text-decoration=\"underline\" font-size=\"12.00\" fill=\"#00007f\">BinnedSpikesDuringMovie</text>\n",
       "</a>\n",
       "</g>\n",
       "</g>\n",
       "<!-- ElectrodeUnit&#45;&gt;`dhv`.`unit_level_data_cleaning` -->\n",
       "<g id=\"edge11\" class=\"edge\">\n",
       "<title>ElectrodeUnit-&gt;`dhv`.`unit_level_data_cleaning`</title>\n",
       "<path fill=\"none\" stroke=\"#000000\" stroke-width=\".75\" stroke-opacity=\"0.250980\" d=\"M605.5281,-148.2498C648.6501,-136.9103 715.818,-119.2477 765.9581,-106.0627\"/>\n",
       "</g>\n",
       "<!-- SpikeTimesDuringMovie -->\n",
       "<g id=\"node14\" class=\"node\">\n",
       "<title>SpikeTimesDuringMovie</title>\n",
       "<g id=\"a_node14\"><a xlink:title=\"→ ElectrodeUnit\r",
       "→ MovieSession\r",
       "------------------------------\r",
       "spike_times          \r",
       "\">\n",
       "<ellipse fill=\"#00007f\" fill-opacity=\"0.250980\" stroke=\"#00007f\" stroke-opacity=\"0.250980\" cx=\"255.7458\" cy=\"-88.5\" rx=\"93.2502\" ry=\"17.5\"/>\n",
       "<text text-anchor=\"middle\" x=\"255.7458\" y=\"-85.4\" font-family=\"arial\" font-size=\"12.00\" fill=\"#00007f\">SpikeTimesDuringMovie</text>\n",
       "</a>\n",
       "</g>\n",
       "</g>\n",
       "<!-- ElectrodeUnit&#45;&gt;SpikeTimesDuringMovie -->\n",
       "<g id=\"edge12\" class=\"edge\">\n",
       "<title>ElectrodeUnit-&gt;SpikeTimesDuringMovie</title>\n",
       "<path fill=\"none\" stroke=\"#000000\" stroke-width=\".75\" stroke-opacity=\"0.250980\" d=\"M517.7766,-149.1C463.9818,-136.6588 373.7769,-115.7971 314.5107,-102.0906\"/>\n",
       "</g>\n",
       "<!-- ElectrodeUnit&#45;&gt;UnitLevelDataCleaning -->\n",
       "<g id=\"edge13\" class=\"edge\">\n",
       "<title>ElectrodeUnit-&gt;UnitLevelDataCleaning</title>\n",
       "<path fill=\"none\" stroke=\"#000000\" stroke-width=\".75\" stroke-opacity=\"0.250980\" d=\"M579.0978,-142.674C589.9376,-131.52 604.1187,-116.9278 615.0318,-105.6984\"/>\n",
       "</g>\n",
       "<!-- MovieSession&#45;&gt;`dhv`.`unit_level_data_cleaning` -->\n",
       "<g id=\"edge14\" class=\"edge\">\n",
       "<title>MovieSession-&gt;`dhv`.`unit_level_data_cleaning`</title>\n",
       "<path fill=\"none\" stroke=\"#000000\" stroke-width=\".75\" stroke-opacity=\"0.250980\" d=\"M413.3577,-152.282C484.9963,-142.36 617.2028,-123.7166 729.7458,-106 732.7022,-105.5346 735.7053,-105.0565 738.737,-104.5693\"/>\n",
       "</g>\n",
       "<!-- MovieSession&#45;&gt;MoviePauses -->\n",
       "<g id=\"edge15\" class=\"edge\">\n",
       "<title>MovieSession-&gt;MoviePauses</title>\n",
       "<path fill=\"none\" stroke=\"#000000\" stroke-width=\"2\" stroke-opacity=\"0.250980\" d=\"M312.7002,-149.8084C264.0815,-139.7626 186.86,-123.1523 120.7458,-106 104.6126,-101.8145 86.2328,-96.2317 74.3353,-92.5087\"/>\n",
       "</g>\n",
       "<!-- MovieSession&#45;&gt;PatientAlignedLabel -->\n",
       "<g id=\"edge16\" class=\"edge\">\n",
       "<title>MovieSession-&gt;PatientAlignedLabel</title>\n",
       "<path fill=\"none\" stroke=\"#000000\" stroke-width=\".75\" stroke-opacity=\"0.250980\" d=\"M305.4259,-154.4788C228.9399,-145.5421 105.4748,-122.7146 153.7458,-71 193.416,-28.4997 617.7495,-39.0544 675.7458,-35 765.1605,-28.7492 872.7705,-21.072 909.6255,-18.4383\"/>\n",
       "</g>\n",
       "<!-- MovieSession&#45;&gt;BinnedPatientAlignedLabel -->\n",
       "<g id=\"edge17\" class=\"edge\">\n",
       "<title>MovieSession-&gt;BinnedPatientAlignedLabel</title>\n",
       "<path fill=\"none\" stroke=\"#000000\" stroke-width=\".75\" stroke-opacity=\"0.250980\" d=\"M304.788,-154.9878C210.1467,-146.7847 26.8407,-128.207 7.7458,-106 -2.3961,-94.2052 -2.7146,-82.5133 7.7458,-71 11.622,-66.7336 316.1638,-39.3647 473.232,-25.5105\"/>\n",
       "</g>\n",
       "<!-- MovieSession&#45;&gt;SpikeTimesDuringMovie -->\n",
       "<g id=\"edge18\" class=\"edge\">\n",
       "<title>MovieSession-&gt;SpikeTimesDuringMovie</title>\n",
       "<path fill=\"none\" stroke=\"#000000\" stroke-width=\".75\" stroke-opacity=\"0.250980\" d=\"M336.9196,-143.389C320.2198,-132.0967 297.9363,-117.0288 280.9418,-105.5373\"/>\n",
       "</g>\n",
       "<!-- MovieSession&#45;&gt;UnitLevelDataCleaning -->\n",
       "<g id=\"edge19\" class=\"edge\">\n",
       "<title>MovieSession-&gt;UnitLevelDataCleaning</title>\n",
       "<path fill=\"none\" stroke=\"#000000\" stroke-width=\".75\" stroke-opacity=\"0.250980\" d=\"M404.5878,-148.0137C451.9254,-135.6116 527.3597,-115.8484 578.1771,-102.5346\"/>\n",
       "</g>\n",
       "<!-- MovieSession&#45;&gt;PatientLevelDataCleaning -->\n",
       "<g id=\"edge20\" class=\"edge\">\n",
       "<title>MovieSession-&gt;PatientLevelDataCleaning</title>\n",
       "<path fill=\"none\" stroke=\"#000000\" stroke-width=\".75\" stroke-opacity=\"0.250980\" d=\"M380.4601,-143.0327C393.7017,-131.9721 411.1329,-117.4119 424.6526,-106.119\"/>\n",
       "</g>\n",
       "<!-- SpikeTimesDuringMovie&#45;&gt;BinnedSpikesDuringMovie -->\n",
       "<g id=\"edge21\" class=\"edge\">\n",
       "<title>SpikeTimesDuringMovie-&gt;BinnedSpikesDuringMovie</title>\n",
       "<path fill=\"none\" stroke=\"#000000\" stroke-width=\".75\" stroke-opacity=\"0.250980\" d=\"M255.7458,-70.9494C255.7458,-60.1083 255.7458,-46.2366 255.7458,-35.3418\"/>\n",
       "</g>\n",
       "<!-- VideoAnnotation&#45;&gt;PatientAlignedLabel -->\n",
       "<g id=\"edge22\" class=\"edge\">\n",
       "<title>VideoAnnotation-&gt;PatientAlignedLabel</title>\n",
       "<path fill=\"none\" stroke=\"#000000\" stroke-width=\".75\" stroke-opacity=\"0.250980\" d=\"M989.891,-71.674C972.0003,-57.2395 946.9727,-37.0467 933.0776,-25.8359\"/>\n",
       "</g>\n",
       "<!-- VideoAnnotation&#45;&gt;ProcessedVideoAnnotation.Entry -->\n",
       "<g id=\"edge23\" class=\"edge\">\n",
       "<title>VideoAnnotation-&gt;ProcessedVideoAnnotation.Entry</title>\n",
       "<path fill=\"none\" stroke=\"#000000\" stroke-width=\".75\" stroke-opacity=\"0.250980\" d=\"M1045.9501,-73.4427C1078.6891,-59.4399 1126.4783,-38.9999 1154.3151,-27.0938\"/>\n",
       "</g>\n",
       "<!-- VideoAnnotation&#45;&gt;BinnedPatientAlignedLabel -->\n",
       "<g id=\"edge24\" class=\"edge\">\n",
       "<title>VideoAnnotation-&gt;BinnedPatientAlignedLabel</title>\n",
       "<path fill=\"none\" stroke=\"#000000\" stroke-width=\".75\" stroke-opacity=\"0.250980\" d=\"M962.0584,-76.4989C953.3251,-74.5293 944.2864,-72.6091 935.7458,-71 837.901,-52.5653 724.4927,-37.056 649.0736,-27.5601\"/>\n",
       "</g>\n",
       "</g>\n",
       "</svg>"
      ],
      "text/plain": [
       "<datajoint.diagram.Diagram at 0x7f593c9eaa90>"
      ]
     },
     "execution_count": 3,
     "metadata": {},
     "output_type": "execute_result"
    }
   ],
   "source": [
    "dj.ERD(dhv_schema)"
   ]
  },
  {
   "cell_type": "code",
   "execution_count": 4,
   "metadata": {},
   "outputs": [
    {
     "data": {
      "text/html": [
       "\n",
       "        \n",
       "        <style type=\"text/css\">\n",
       "            .Relation{\n",
       "                border-collapse:collapse;\n",
       "            }\n",
       "            .Relation th{\n",
       "                background: #A0A0A0; color: #ffffff; padding:4px; border:#f0e0e0 1px solid;\n",
       "                font-weight: normal; font-family: monospace; font-size: 100%;\n",
       "            }\n",
       "            .Relation td{\n",
       "                padding:4px; border:#f0e0e0 1px solid; font-size:100%;\n",
       "            }\n",
       "            .Relation tr:nth-child(odd){\n",
       "                background: #ffffff;\n",
       "            }\n",
       "            .Relation tr:nth-child(even){\n",
       "                background: #f3f1ff;\n",
       "            }\n",
       "            /* Tooltip container */\n",
       "            .djtooltip {\n",
       "            }\n",
       "            /* Tooltip text */\n",
       "            .djtooltip .djtooltiptext {\n",
       "                visibility: hidden;\n",
       "                width: 120px;\n",
       "                background-color: black;\n",
       "                color: #fff;\n",
       "                text-align: center;\n",
       "                padding: 5px 0;\n",
       "                border-radius: 6px;\n",
       "                /* Position the tooltip text - see examples below! */\n",
       "                position: absolute;\n",
       "                z-index: 1;\n",
       "            }\n",
       "            #primary {\n",
       "                font-weight: bold;\n",
       "                color: black;\n",
       "            }\n",
       "\n",
       "            #nonprimary {\n",
       "                font-weight: normal;\n",
       "                color: white;\n",
       "            }\n",
       "\n",
       "            /* Show the tooltip text when you mouse over the tooltip container */\n",
       "            .djtooltip:hover .djtooltiptext {\n",
       "                visibility: visible;\n",
       "            }\n",
       "        </style>\n",
       "        \n",
       "        <b></b>\n",
       "            <div style=\"max-height:1000px;max-width:1500px;overflow:auto;\">\n",
       "            <table border=\"1\" class=\"Relation\">\n",
       "                <thead> <tr style=\"text-align: right;\"> <th> <div class=\"djtooltip\">\n",
       "                                <p id=\"primary\">patient_id</p>\n",
       "                                <span class=\"djtooltiptext\">patient ID</span>\n",
       "                            </div></th><th><div class=\"djtooltip\">\n",
       "                                <p id=\"primary\">unit_id</p>\n",
       "                                <span class=\"djtooltiptext\">unique ID for unit (for respective  patient)</span>\n",
       "                            </div></th><th><div class=\"djtooltip\">\n",
       "                                <p id=\"primary\">session_nr</p>\n",
       "                                <span class=\"djtooltiptext\">session ID</span>\n",
       "                            </div></th><th><div class=\"djtooltip\">\n",
       "                                <p id=\"primary\">bin_size</p>\n",
       "                                <span class=\"djtooltiptext\">size of bin in ms</span>\n",
       "                            </div></th><th><div class=\"djtooltip\">\n",
       "                                <p id=\"nonprimary\">spike_vector</p>\n",
       "                                <span class=\"djtooltiptext\">in case bin_size is not 0: number of spikes; otherwise: times of spikes (original data)</span>\n",
       "                            </div> </th> </tr> </thead>\n",
       "                <tbody> <tr> <td>46</td>\n",
       "<td>0</td>\n",
       "<td>1</td>\n",
       "<td>100</td>\n",
       "<td>=BLOB=</td></tr><tr><td>46</td>\n",
       "<td>0</td>\n",
       "<td>1</td>\n",
       "<td>400</td>\n",
       "<td>=BLOB=</td></tr><tr><td>46</td>\n",
       "<td>0</td>\n",
       "<td>1</td>\n",
       "<td>1000</td>\n",
       "<td>=BLOB=</td></tr><tr><td>46</td>\n",
       "<td>1</td>\n",
       "<td>1</td>\n",
       "<td>100</td>\n",
       "<td>=BLOB=</td></tr><tr><td>46</td>\n",
       "<td>1</td>\n",
       "<td>1</td>\n",
       "<td>400</td>\n",
       "<td>=BLOB=</td></tr><tr><td>46</td>\n",
       "<td>1</td>\n",
       "<td>1</td>\n",
       "<td>1000</td>\n",
       "<td>=BLOB=</td></tr><tr><td>46</td>\n",
       "<td>2</td>\n",
       "<td>1</td>\n",
       "<td>100</td>\n",
       "<td>=BLOB=</td></tr><tr><td>46</td>\n",
       "<td>2</td>\n",
       "<td>1</td>\n",
       "<td>400</td>\n",
       "<td>=BLOB=</td></tr><tr><td>46</td>\n",
       "<td>2</td>\n",
       "<td>1</td>\n",
       "<td>1000</td>\n",
       "<td>=BLOB=</td></tr><tr><td>46</td>\n",
       "<td>3</td>\n",
       "<td>1</td>\n",
       "<td>100</td>\n",
       "<td>=BLOB=</td></tr><tr><td>46</td>\n",
       "<td>3</td>\n",
       "<td>1</td>\n",
       "<td>400</td>\n",
       "<td>=BLOB=</td></tr><tr><td>46</td>\n",
       "<td>3</td>\n",
       "<td>1</td>\n",
       "<td>1000</td>\n",
       "<td>=BLOB=</td> </tr> </tbody>\n",
       "            </table>\n",
       "            <p>...</p>\n",
       "            <p>Total: 763</p></div>\n",
       "            "
      ],
      "text/plain": [
       "*patient_id    *unit_id    *session_nr    *bin_size    spike_vect\n",
       "+------------+ +---------+ +------------+ +----------+ +--------+\n",
       "46             0           1              100          =BLOB=    \n",
       "46             0           1              400          =BLOB=    \n",
       "46             0           1              1000         =BLOB=    \n",
       "46             1           1              100          =BLOB=    \n",
       "46             1           1              400          =BLOB=    \n",
       "46             1           1              1000         =BLOB=    \n",
       "46             2           1              100          =BLOB=    \n",
       "46             2           1              400          =BLOB=    \n",
       "46             2           1              1000         =BLOB=    \n",
       "46             3           1              100          =BLOB=    \n",
       "46             3           1              400          =BLOB=    \n",
       "46             3           1              1000         =BLOB=    \n",
       "   ...\n",
       " (Total: 763)"
      ]
     },
     "execution_count": 4,
     "metadata": {},
     "output_type": "execute_result"
    }
   ],
   "source": [
    "BinnedSpikesDuringMovie()"
   ]
  },
  {
   "cell_type": "markdown",
   "metadata": {},
   "source": [
    "### Load in example unit\n",
    "Note: for using analysis, would loop over the desired units for a given patient. "
   ]
  },
  {
   "cell_type": "code",
   "execution_count": 5,
   "metadata": {},
   "outputs": [
    {
     "name": "stdout",
     "output_type": "stream",
     "text": [
      "CSC10_MUA2.npy\n"
     ]
    }
   ],
   "source": [
    "test_name = (SpikeTimesDuringMovie & 'patient_id=46' & \"unit_id=10\" & \"session_nr=1\").fetch(\"spike_times\")[0]\n",
    "print(test_name)\n",
    "test_unit = np.load(test_name)\n",
    "\n",
    "os.remove(test_name)"
   ]
  },
  {
   "cell_type": "markdown",
   "metadata": {},
   "source": [
    "### Load in necessary patient meta-data \n",
    "Note: @Tamara -- are these in the database already? "
   ]
  },
  {
   "cell_type": "code",
   "execution_count": 7,
   "metadata": {},
   "outputs": [],
   "source": [
    "# load timing related patient files (different than the actual spiking data)\n",
    "path_wl = ('/home/alana/DeepHumanVision_pilot/data_preprocessing/patient_data/46/ffplay-watchlog-20151212-193220.log')\n",
    "\n",
    "path_events = '/home/tamara/Documents/DeepHumanVision_pilot/data_base/data/patient_data/46/event_file/Events.nev'\n",
    "\n",
    "path_daqlog = '/home/alana/DeepHumanVision_pilot/data_preprocessing/patient_data/46/timedDAQ-log-20151212-193106.log'"
   ]
  },
  {
   "cell_type": "code",
   "execution_count": 8,
   "metadata": {},
   "outputs": [
    {
     "name": "stdout",
     "output_type": "stream",
     "text": [
      "Min Daq Diff: 1.1 ms, Max Daq Diff: 5.0 ms\n",
      "Maximum Error after Event fit: 1.9 ms\n"
     ]
    }
   ],
   "source": [
    "# get pause values for the patient\n",
    "TimeClass = du.TimeConversion(path_wl, path_daqlog, path_events)\n",
    "start, stop = TimeClass.convert_pauses()"
   ]
  },
  {
   "cell_type": "markdown",
   "metadata": {},
   "source": [
    "### Retrieve/generate pts (presentation time stamps) and rectimes (cpu time for neural/movie events) & bin "
   ]
  },
  {
   "cell_type": "code",
   "execution_count": 10,
   "metadata": {},
   "outputs": [
    {
     "name": "stdout",
     "output_type": "stream",
     "text": [
      "Min Daq Diff: 1.1 ms, Max Daq Diff: 5.0 ms\n",
      "Maximum Error after Event fit: 1.9 ms\n"
     ]
    }
   ],
   "source": [
    "# get global recording time values for the on/off-set of the movie\n",
    "pts, rectime_usec = TimeClass.convert()\n",
    "rectime = du.make_msec(rectime_usec)\n",
    "\n",
    "rec_on = rectime[0]\n",
    "rec_off = rectime[-1]\n",
    "\n",
    "# make bins\n",
    "bins = 1000 # define bin size in msec\n",
    "\n",
    "total_msec = rec_off - rec_on \n",
    "total_bins = int(total_msec / bins)\n",
    "bins = np.linspace(rec_on, rec_off, total_bins)"
   ]
  },
  {
   "cell_type": "code",
   "execution_count": 11,
   "metadata": {},
   "outputs": [],
   "source": [
    "# remove the pauses from the binning edges \n",
    "bins_no_pauses, pause_indices = ph.rm_pauses_bins(bins, start, stop, return_intervals=True)"
   ]
  },
  {
   "cell_type": "code",
   "execution_count": 12,
   "metadata": {},
   "outputs": [
    {
     "data": {
      "text/plain": [
       "array([22791043.3345    , 22792043.54614523, 22793043.75779045, ...,\n",
       "       28413232.99231432, 28414233.20395955, 28415233.41560477])"
      ]
     },
     "execution_count": 12,
     "metadata": {},
     "output_type": "execute_result"
    }
   ],
   "source": [
    "bins_no_pauses"
   ]
  },
  {
   "cell_type": "code",
   "execution_count": 13,
   "metadata": {},
   "outputs": [
    {
     "data": {
      "image/png": "[encoded data removed]",
      "text/plain": [
       "<Figure size 432x288 with 1 Axes>"
      ]
     },
     "metadata": {
      "needs_background": "light"
     },
     "output_type": "display_data"
    },
    {
     "data": {
      "image/png": "[encoded data removed]",
      "text/plain": [
       "<Figure size 432x288 with 1 Axes>"
      ]
     },
     "metadata": {
      "needs_background": "light"
     },
     "output_type": "display_data"
    }
   ],
   "source": [
    "plt.plot(bins)\n",
    "plt.title(\"Original Bins\")\n",
    "plt.show()\n",
    "\n",
    "plt.plot(bins_no_pauses)\n",
    "plt.title(\"Pauses Removed\")\n",
    "plt.show()"
   ]
  },
  {
   "cell_type": "code",
   "execution_count": 14,
   "metadata": {},
   "outputs": [
    {
     "data": {
      "image/png": "[encoded data removed]",
      "text/plain": [
       "<Figure size 432x288 with 1 Axes>"
      ]
     },
     "metadata": {
      "needs_background": "light"
     },
     "output_type": "display_data"
    }
   ],
   "source": [
    "test_unit_no_pauses = ph.rm_pauses_spikes(test_unit, start, stop)\n",
    "binary_binned, _ = np.histogram(test_unit_no_pauses, bins=bins_no_pauses)\n",
    "\n",
    "plt.plot(binary_binned)\n",
    "plt.title(\"Spikes during playback, only.\")\n",
    "plt.show()"
   ]
  },
  {
   "cell_type": "code",
   "execution_count": 15,
   "metadata": {},
   "outputs": [
    {
     "data": {
      "text/html": [
       "\n",
       "        \n",
       "        <style type=\"text/css\">\n",
       "            .Relation{\n",
       "                border-collapse:collapse;\n",
       "            }\n",
       "            .Relation th{\n",
       "                background: #A0A0A0; color: #ffffff; padding:4px; border:#f0e0e0 1px solid;\n",
       "                font-weight: normal; font-family: monospace; font-size: 100%;\n",
       "            }\n",
       "            .Relation td{\n",
       "                padding:4px; border:#f0e0e0 1px solid; font-size:100%;\n",
       "            }\n",
       "            .Relation tr:nth-child(odd){\n",
       "                background: #ffffff;\n",
       "            }\n",
       "            .Relation tr:nth-child(even){\n",
       "                background: #f3f1ff;\n",
       "            }\n",
       "            /* Tooltip container */\n",
       "            .djtooltip {\n",
       "            }\n",
       "            /* Tooltip text */\n",
       "            .djtooltip .djtooltiptext {\n",
       "                visibility: hidden;\n",
       "                width: 120px;\n",
       "                background-color: black;\n",
       "                color: #fff;\n",
       "                text-align: center;\n",
       "                padding: 5px 0;\n",
       "                border-radius: 6px;\n",
       "                /* Position the tooltip text - see examples below! */\n",
       "                position: absolute;\n",
       "                z-index: 1;\n",
       "            }\n",
       "            #primary {\n",
       "                font-weight: bold;\n",
       "                color: black;\n",
       "            }\n",
       "\n",
       "            #nonprimary {\n",
       "                font-weight: normal;\n",
       "                color: white;\n",
       "            }\n",
       "\n",
       "            /* Show the tooltip text when you mouse over the tooltip container */\n",
       "            .djtooltip:hover .djtooltiptext {\n",
       "                visibility: visible;\n",
       "            }\n",
       "        </style>\n",
       "        \n",
       "        <b></b>\n",
       "            <div style=\"max-height:1000px;max-width:1500px;overflow:auto;\">\n",
       "            <table border=\"1\" class=\"Relation\">\n",
       "                <thead> <tr style=\"text-align: right;\"> <th> <div class=\"djtooltip\">\n",
       "                                <p id=\"primary\">session_nr</p>\n",
       "                                <span class=\"djtooltiptext\">session ID</span>\n",
       "                            </div></th><th><div class=\"djtooltip\">\n",
       "                                <p id=\"primary\">patient_id</p>\n",
       "                                <span class=\"djtooltiptext\">patient ID</span>\n",
       "                            </div></th><th><div class=\"djtooltip\">\n",
       "                                <p id=\"primary\">name</p>\n",
       "                                <span class=\"djtooltiptext\">unique name for data cleaning</span>\n",
       "                            </div></th><th><div class=\"djtooltip\">\n",
       "                                <p id=\"primary\">annotator_id</p>\n",
       "                                <span class=\"djtooltiptext\">unique ID for each annotator</span>\n",
       "                            </div></th><th><div class=\"djtooltip\">\n",
       "                                <p id=\"nonprimary\">data</p>\n",
       "                                <span class=\"djtooltiptext\">actual data</span>\n",
       "                            </div></th><th><div class=\"djtooltip\">\n",
       "                                <p id=\"nonprimary\">description</p>\n",
       "                                <span class=\"djtooltiptext\">description of data cleaning</span>\n",
       "                            </div> </th> </tr> </thead>\n",
       "                <tbody> <tr> <td>1</td>\n",
       "<td>46</td>\n",
       "<td>4stddev</td>\n",
       "<td>p5</td>\n",
       "<td>=BLOB=</td>\n",
       "<td>indicating bins where sum of all spikes is higher than 4 std devs from mean</td></tr><tr><td>1</td>\n",
       "<td>46</td>\n",
       "<td>continuous</td>\n",
       "<td>p1</td>\n",
       "<td>=BLOB=</td>\n",
       "<td></td></tr><tr><td>1</td>\n",
       "<td>46</td>\n",
       "<td>continuous_pts</td>\n",
       "<td>p5</td>\n",
       "<td>=BLOB=</td>\n",
       "<td>continuous watching regarding pts of movie</td></tr><tr><td>1</td>\n",
       "<td>50</td>\n",
       "<td>4stddev</td>\n",
       "<td>p5</td>\n",
       "<td>=BLOB=</td>\n",
       "<td>continuous watch regarding pts of movie (after data cleaning)</td></tr><tr><td>1</td>\n",
       "<td>50</td>\n",
       "<td>continuous_pts</td>\n",
       "<td>p5</td>\n",
       "<td>=BLOB=</td>\n",
       "<td>continuous watch regarding pts of movie</td> </tr> </tbody>\n",
       "            </table>\n",
       "            \n",
       "            <p>Total: 5</p></div>\n",
       "            "
      ],
      "text/plain": [
       "*session_nr    *patient_id    *name          *annotator_id  data       description   \n",
       "+------------+ +------------+ +------------+ +------------+ +--------+ +------------+\n",
       "1              46             4stddev        p5             =BLOB=     indicating bin\n",
       "1              46             continuous     p1             =BLOB=                   \n",
       "1              46             continuous_pts p5             =BLOB=     continuous wat\n",
       "1              50             4stddev        p5             =BLOB=     continuous wat\n",
       "1              50             continuous_pts p5             =BLOB=     continuous wat\n",
       " (Total: 5)"
      ]
     },
     "execution_count": 15,
     "metadata": {},
     "output_type": "execute_result"
    }
   ],
   "source": [
    "PatientLevelDataCleaning()"
   ]
  },
  {
   "cell_type": "markdown",
   "metadata": {},
   "source": [
    "### Load in artifact-cleaning vectors\n",
    "Note: this area is the most likely to change out of the entire pipeline"
   ]
  },
  {
   "cell_type": "code",
   "execution_count": 35,
   "metadata": {},
   "outputs": [
    {
     "name": "stdout",
     "output_type": "stream",
     "text": [
      "Original continuous watch vector: 5624\n"
     ]
    },
    {
     "name": "stderr",
     "output_type": "stream",
     "text": [
      "/home/alana/miniconda2/envs/dhv/lib/python3.8/site-packages/datajoint/connection.py:215: UserWarning: MySQL server has gone away. Reconnecting to the server.\n",
      "  warnings.warn(\"MySQL server has gone away. Reconnecting to the server.\")\n"
     ]
    }
   ],
   "source": [
    "#load artifact related cleaning vectors\n",
    "bin_arts   = np.load(\"binaries/46/1000/indicators/vector_artefacts_binned1000.npy\")\n",
    "\n",
    "\n",
    "cont_watch_name = (PatientLevelDataCleaning & 'patient_id=46' & \"name='continuous_pts'\"\n",
    "                  & \"annotator_id='p5'\").fetch(\"data\")[0]\n",
    "cont_watch = np.load(cont_watch_name)\n",
    "os.remove(cont_watch_name)\n",
    "\n",
    "\n",
    "print(\"Original continuous watch vector:\", len(cont_watch))"
   ]
  },
  {
   "cell_type": "code",
   "execution_count": 18,
   "metadata": {},
   "outputs": [
    {
     "data": {
      "text/plain": [
       "[<matplotlib.lines.Line2D at 0x7f59124fecd0>]"
      ]
     },
     "execution_count": 18,
     "metadata": {},
     "output_type": "execute_result"
    },
    {
     "data": {
      "image/png": "[encoded data removed]",
      "text/plain": [
       "<Figure size 432x288 with 1 Axes>"
      ]
     },
     "metadata": {
      "needs_background": "light"
     },
     "output_type": "display_data"
    }
   ],
   "source": [
    "plt.plot(cont_watch)"
   ]
  },
  {
   "cell_type": "code",
   "execution_count": 17,
   "metadata": {},
   "outputs": [],
   "source": [
    "# remove pauses from the continuous watch bin\n",
    "if pause_indices[-1] == len(cont_watch):\n",
    "    last = pause_indices.pop()\n",
    "    pause_indices.append(last - 1)\n",
    "\n",
    "cont_watch_no_pauses = np.delete(cont_watch, pause_indices)"
   ]
  },
  {
   "cell_type": "code",
   "execution_count": 36,
   "metadata": {},
   "outputs": [],
   "source": [
    "assert len(cont_watch_no_pauses) == len(binary_binned)"
   ]
  },
  {
   "cell_type": "code",
   "execution_count": 27,
   "metadata": {},
   "outputs": [
    {
     "data": {
      "text/plain": [
       "[<matplotlib.lines.Line2D at 0x7f591245c1f0>]"
      ]
     },
     "execution_count": 27,
     "metadata": {},
     "output_type": "execute_result"
    },
    {
     "data": {
      "image/png": "[encoded data removed]",
      "text/plain": [
       "<Figure size 432x288 with 1 Axes>"
      ]
     },
     "metadata": {
      "needs_background": "light"
     },
     "output_type": "display_data"
    }
   ],
   "source": [
    "plt.plot(cont_watch_no_pauses)"
   ]
  },
  {
   "cell_type": "code",
   "execution_count": 34,
   "metadata": {},
   "outputs": [],
   "source": [
    "### Currently, in flux. Working on bin-level artifact removal. \n",
    "\n",
    "## apply bin-removal artifact procedure \n",
    "# ind_art = art.get_art_ind(bin_arts)[0]\n",
    "# unit_no_art = art.remove_art_from_array(test_unit, ind_art)\n",
    "# cont_watch_no_art = art.remove_art_from_array(cont_watch, ind_art)\n",
    "\n",
    "## apply cont-watch clipping  \n",
    "#unit_clipped = clip.clip_array(unit_no_art, cont_watch_no_art)[0]"
   ]
  },
  {
   "cell_type": "markdown",
   "metadata": {},
   "source": [
    "## Change point detection -  comparing \"raw\" binned activity to \"cleaned\" "
   ]
  },
  {
   "cell_type": "code",
   "execution_count": 37,
   "metadata": {},
   "outputs": [
    {
     "name": "stdout",
     "output_type": "stream",
     "text": [
      "tau:  3478\n",
      "mean pre-tau:  0.07648073605520414\n",
      "std  pre-tau:  0.2855823042559116\n",
      "mean post-tau:  0.16299559471365638\n",
      "std  post-tau: 0.4230986474482247\n",
      "\n",
      "T-tests:\n",
      "2tail, pre- to post-tau 3.0753385581486934e-16\n",
      "2tail, pre- to post-tau -8.19902588408013\n",
      "\n"
     ]
    },
    {
     "data": {
      "image/png": "[encoded data removed]",
      "text/plain": [
       "<Figure size 1800x360 with 1 Axes>"
      ]
     },
     "metadata": {
      "needs_background": "light"
     },
     "output_type": "display_data"
    },
    {
     "data": {
      "text/plain": [
       "(3478,\n",
       " Ttest_indResult(statistic=-8.19902588408013, pvalue=3.0753385581486934e-16))"
      ]
     },
     "execution_count": 37,
     "metadata": {},
     "output_type": "execute_result"
    }
   ],
   "source": [
    "cpt.find_changepoint_tt(binary_binned)"
   ]
  },
  {
   "cell_type": "code",
   "execution_count": 38,
   "metadata": {},
   "outputs": [
    {
     "name": "stdout",
     "output_type": "stream",
     "text": [
      "tau:  3466\n",
      "mean pre-tau:  0.07674552798615118\n",
      "std  pre-tau:  0.2860407292247776\n",
      "mean post-tau:  0.20099255583126552\n",
      "std  post-tau: 0.4665474344902648\n",
      "\n",
      "T-tests:\n",
      "2tail, pre- to post-tau 5.395872524024868e-22\n",
      "2tail, pre- to post-tau -9.693703359908142\n",
      "\n"
     ]
    },
    {
     "data": {
      "image/png": "[encoded data removed]",
      "text/plain": [
       "<Figure size 1800x360 with 1 Axes>"
      ]
     },
     "metadata": {
      "needs_background": "light"
     },
     "output_type": "display_data"
    },
    {
     "data": {
      "text/plain": [
       "(3466,\n",
       " Ttest_indResult(statistic=-9.693703359908142, pvalue=5.395872524024868e-22))"
      ]
     },
     "execution_count": 38,
     "metadata": {},
     "output_type": "execute_result"
    }
   ],
   "source": [
    "unit_cw_np = clip.clip_array(binary_binned, cont_watch_no_pauses)[0]\n",
    "\n",
    "cpt.find_changepoint_tt(unit_cw_np)"
   ]
  }
 ],
 "metadata": {
  "kernelspec": {
   "display_name": "Python 3",
   "language": "python",
   "name": "python3"
  },
  "language_info": {
   "codemirror_mode": {
    "name": "ipython",
    "version": 3
   },
   "file_extension": ".py",
   "mimetype": "text/x-python",
   "name": "python",
   "nbconvert_exporter": "python",
   "pygments_lexer": "ipython3",
   "version": "3.8.2"
  }
 },
 "nbformat": 4,
 "nbformat_minor": 4
}
