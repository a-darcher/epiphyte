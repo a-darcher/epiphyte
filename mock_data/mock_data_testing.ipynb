{
 "cells": [
  {
   "cell_type": "code",
   "execution_count": 3,
   "metadata": {},
   "outputs": [
    {
     "name": "stdin",
     "output_type": "stream",
     "text": [
      "Please enter DataJoint username:  root\n",
      "Please enter DataJoint password:  ···············\n"
     ]
    },
    {
     "name": "stdout",
     "output_type": "stream",
     "text": [
      "Connecting root@localhost:3306\n"
     ]
    }
   ],
   "source": [
    "import os\n",
    "import sys\n",
    "import numpy as np\n",
    "import random\n",
    "from random import uniform\n",
    "import copy\n",
    "\n",
    "import matplotlib.pyplot as plt\n",
    "\n",
    "# local application imports \n",
    "import database.config as config\n",
    "import preprocessing.data_preprocessing.data_utils as data_utils\n",
    "import annotation.stimulus_driven_annotation.movies.processing_labels as processing_labels\n",
    "import preprocessing.data_preprocessing.create_vectors_from_time_points as create_vectors_from_time_points\n",
    "\n",
    "import preprocessing.data_preprocessing.binning as binning"
   ]
  },
  {
   "cell_type": "code",
   "execution_count": 197,
   "metadata": {},
   "outputs": [],
   "source": [
    "\"\"\"\n",
    "Functions related to generating mock data. \n",
    "\"\"\"\n",
    "\n",
    "\n",
    "    \n",
    "    \n",
    "def generate_spikes(patient_id, session_nr, nr_units, begin_recording_time, stop_recording_time):\n",
    "    \"\"\"\n",
    "    Generates mock spike trains for a \"patient.\"\n",
    "    \n",
    "    Writes spike trains to file as numpy binaries. \n",
    "    \n",
    "    \"\"\"\n",
    "    spikes = []\n",
    "    for i in range(nr_units):\n",
    "        nr_spikes = int(uniform(10000, 16000))\n",
    "        spike_vec = []\n",
    "        for j in range(nr_spikes):\n",
    "            spike_vec.append(uniform(begin_recording_time, stop_recording_time))\n",
    "        spike_vec = np.sort(spike_vec)\n",
    "        spikes.append(spike_vec)\n",
    "\n",
    "    return spikes \n",
    "#     # Directory set-up\n",
    "#     save_dir = \"{}/mock_data/patient_data/{}/session_{}/spiking_data/\".format(config.PATH_TO_REPO, patient_id, session_nr)\n",
    "\n",
    "#     if not os.path.exists(save_dir):\n",
    "#         os.makedirs(save_dir)\n",
    "\n",
    "#     unit_types = ['M', 'S']\n",
    "#     for i in range((nr_units)):\n",
    "#         ## NOTE: because of the random naming scheme, re-running this\n",
    "#         ## code will cause issues later in the pipeline (too many file for \n",
    "#         ## number of expected units)\n",
    "#         np.save(os.path.join(save_dir, \"CSC{}_{}UA{}.npy\".format(i+1, random.choice(unit_types), '1')), spikes[i])    \n",
    "    \n",
    "\n",
    "def generate_channel_file(patient_id, session_nr, nr_unit, nr_units_per_brain_region=None):\n",
    "    \"\"\"\n",
    "    Generates ChannelNames.txt file. \n",
    "    \n",
    "    If not given an array-like containing the number of units to \n",
    "    assign to each brain region, will automatically generate. \n",
    "    \"\"\"\n",
    "    brain_regions = [\"LA\", \"LAH\", 'LEC', \"LMH\", \"LPHC\", \"RA\", \"RAH\", \"REC\", \"RMH\", \"RPCH\"]\n",
    "\n",
    "    # Generate number of units per brain region\n",
    "    if not nr_units_per_brain_region:\n",
    "        nr_units_per_brain_region = []\n",
    "        \n",
    "        seed = nr_unit / 10\n",
    "        counter = nr_unit\n",
    "        for i in range(len(brain_regions)):\n",
    "            if i != len(brain_regions):\n",
    "                random_int = int(np.random.normal(loc=seed, scale=2.0))\n",
    "                nr_units_per_brain_region.append(random_int)\n",
    "                counter -= random_int \n",
    "            if i == len(brain_regions):\n",
    "                nr_units_per_brain_region.append(counter)\n",
    "                \n",
    "    assert sum(nr_units_per_brain_region) == nr_unit, \"Number of units per brain region doesn't match total units.\"\n",
    "      \n",
    "    #return nr_units_per_brain_region\n",
    "    \n",
    "    channel_save_dir = \"/home/hitchhiker/Documents/DeepHumanVision_deploy/mock_data/ChannelNames.txt\"\n",
    "    \n",
    "    f1 = open(channel_save_dir, 'w+')\n",
    "    for i in range(len(nr_units_per_brain_region)):\n",
    "        for j in range(nr_units_per_brain_region[i]):\n",
    "            f1.write(\"{}{}.ncs\\n\".format(brain_regions[i], j+1))\n",
    "\n",
    "    f1.close()\n",
    "    \n",
    "    \n",
    "def generate_pings():\n",
    "    \"\"\"\n",
    "    Recreate how Neurolynx interfaces with a local computer. \n",
    "    \"\"\"\n",
    "    len_context_files = random.randint(4000, 5400) # generate length of events.nev & DAQ file. \n",
    "\n",
    "    # recreate pings\n",
    "    if len_context_files % 8 == 0:\n",
    "        reps = int(len_context_files / 8)\n",
    "    else:\n",
    "        reps = int(len_context_files / 8) + 1\n",
    "\n",
    "    signal_tile = np.tile([1,2,4,8,16,32,64,128], reps)\n",
    "    signal_tile = signal_tile[:len_context_files]\n",
    "    \n",
    "    return len_context_files, signal_tile\n",
    "    \n",
    "def generate_events(patient_id, session_nr, len_context_files, signal_tile, begin_recording_time, stop_recording_time):\n",
    "    \"\"\"\n",
    "    Generate mock Events.nev file. Save as Events.npy file. \n",
    "    \"\"\"\n",
    "    \n",
    "    # recreate event timestamps\n",
    "    events = np.linspace(begin_recording_time, stop_recording_time, num=len_context_files)\n",
    "\n",
    "    events_mat = np.array(list(zip(events, signal_tile)))\n",
    "\n",
    "\n",
    "    evname_save = \"/home/hitchhiker/Documents/DeepHumanVision_deploy/mock_data/Events.npy\"\n",
    "\n",
    "    if os.path.exists(evname_save):\n",
    "        os.remove(evname_save)\n",
    "\n",
    "    np.save(evname_save, events_mat)\n",
    "    \n",
    "#     return events_mat\n",
    "    \n",
    "def generate_daq_log(patient_id, session_nr, len_context_files, signal_tile, begin_recording_time, stop_recording_time, seed=1590528227608515, stimulus_len=83.816666):\n",
    "    \"\"\"\n",
    "    Generate mock DAQ log. \n",
    "    \n",
    "    Must use same values for signal_tile and len_context_files as the events.nev mock-up\n",
    "    \n",
    "    params:\n",
    "    stimulus_len: length of the stimulus presentation, in minutes\n",
    "    \n",
    "    \"\"\"\n",
    "#    events = np.linspace(begin_recording_time, stop_recording_time, num=len_context_files)\n",
    "#     diffs = np.diff(events)\n",
    "#     diffs = np.insert(diffs, 0, 0)\n",
    "    \n",
    "    \n",
    "    \n",
    "    #uses same values for signal_tile and len_context_files as the events.nev mock-up\n",
    "    values = signal_tile\n",
    "    index = np.arange(len_context_files)\n",
    "    \n",
    "    # generate projected end time for the DAQ log, in unix time microseconds\n",
    "    #movie_len_unix = (stimulus_len * 60 * 1000 * 1000)\n",
    "    rec_len_unix = (stop_recording_time - begin_recording_time) \n",
    "    \n",
    "    end_time = seed + rec_len_unix \n",
    "    add_interval = int((end_time - seed) / len_context_files)\n",
    "    \n",
    "    print(\"Recording length, in usec: \", rec_len_unix)\n",
    "    print(\"End time of recording, in epoch time: \",end_time)\n",
    "    print(\"Length of interval iteratively added: \", add_interval)\n",
    "    \n",
    "    pre = []\n",
    "    post = []\n",
    "\n",
    "    for i in range(len_context_files):\n",
    "        interval_diff = (np.random.normal(1000, 200) / 2)\n",
    "\n",
    "        pre.append(int(seed - interval_diff))\n",
    "        post.append(int(seed + interval_diff))\n",
    "        #seed += np.random.normal(1000144, 100)\n",
    "        seed += add_interval \n",
    "        \n",
    "    log_lines = list(zip(values, index, pre, post))\n",
    "\n",
    "\n",
    "    logname_save = \"/home/hitchhiker/Documents/DeepHumanVision_deploy/mock_data/timedDAQ-log-20200526-232347.log\"\n",
    "\n",
    "    if os.path.exists(logname_save):\n",
    "        os.remove(logname_save)\n",
    "\n",
    "    with open(logname_save, 'a') as file:\n",
    "        file.write(\"Initial signature: 255\t255\\n255\\t255\\t\\ndata\\tStamp\\tpre\\tpost\\n\")\n",
    "        for datum in log_lines:\n",
    "            file.write(\"{}\\t{}\\t{}\\t{}\\n\".format(datum[0], datum[1], datum[2], datum[3]))\n",
    "        file.close()\n",
    "    \n",
    "    #return values, index, pre, post\n",
    "\n",
    "    \n",
    "def generate_perfect_watchlog(patient_id, session_nr, seed=1590528227608515):\n",
    "    \"\"\"\n",
    "    Generate a movie watchlog file without pauses or skips.\n",
    "    \"\"\"\n",
    "\n",
    "    nr_movie_frames = 125725      # movie length: 5029 seconds (AVI file); 5029/0.04 = 125725\n",
    "    perfect_pts = [round((x * 0.04), 2) for x in range(1, nr_movie_frames+1)]  \n",
    "    \n",
    "    pause_pool = 5 * 1000 * 1000 * 60 # 5 minutes in unix/epoch time -- use for max pause time\n",
    "    \n",
    "    wl_seed = seed + 1e9\n",
    "    # generate projected end time for the DAQ log, in unix time microseconds\n",
    "    movie_len_unix = (stimulus_len * 60 * 1000 * 1000) - pause_pool\n",
    "    end_time = seed + movie_len_unix \n",
    "    add_interval = int((end_time - seed) / nr_movie_frames)\n",
    "    \n",
    "    print(\"Length of the stimulus, in usec: \", movie_len_unix)\n",
    "    print(\"End of stimulus, in epoch time: \", end_time)\n",
    "    print(\"Length of interval iteratively added : \", add_interval)\n",
    "    \n",
    "    cpu_time = []\n",
    "    \n",
    "    for i in range(nr_movie_frames):\n",
    "        wl_seed += add_interval\n",
    "        cpu_time.append(int(wl_seed))   \n",
    "    \n",
    "    ####\n",
    "    \n",
    "    ## add in pauses\n",
    "    nr_pauses = int(uniform(1,6))\n",
    "    min_pause = 0.1 * 1000 * 1000 * 60\n",
    "    \n",
    "    # randomly select indices from perfect watchlog \n",
    "    indices_pause = random.sample(range(len(cpu_time) - 5000), nr_pauses)\n",
    "        \n",
    "    cpu_time = np.array(cpu_time)\n",
    "    \n",
    "    for i, index in enumerate(indices_pause): \n",
    "        if (len(indices_pause) - i) > 0: \n",
    "            pause_len = random.randint(min_pause, pause_pool)\n",
    "            #pause_len = int(random.sample(range(min_pause, pause_pool))) ## TODO: this might be causing too big a difference btw wl and daq\n",
    "            cpu_time = np.concatenate((cpu_time[:index],cpu_time[index:] + pause_len)) \n",
    "            pause_pool -= pause_len\n",
    "        else:\n",
    "            pause_len = pause_pool\n",
    "            cpu_time = np.concatenate((cpu_time[:index],cpu_time[index:] + pause_len))\n",
    "\n",
    "    # randomly select indices from perfect watchlog \n",
    "    nr_skips = int(uniform(1,4))\n",
    "    \n",
    "    indices_skip = random.sample(range(len(perfect_pts) - 5000), nr_skips)\n",
    "\n",
    "    skip_pts = np.array(copy.copy(perfect_pts))\n",
    "    \n",
    "    max_skip = 500\n",
    "\n",
    "    for i, index in enumerate(indices_skip): \n",
    "        # note: careful about values here -- can exceed mocked movie length. \n",
    "        # currently set so that the max possible skip is the penultimate frame\n",
    "        if len(indices_skip) > 1:\n",
    "            skip_len = int(uniform((max_skip * -1), max_skip))\n",
    "            skip_pts = np.concatenate((skip_pts[:index],skip_pts[index:] + skip_len)) \n",
    "            max_skip -= skip_len\n",
    "\n",
    "        if len(indices_skip) == 1:\n",
    "            skip_len = max_skip\n",
    "            skip_pts = np.concatenate((skip_pts[:index],skip_pts[index:] + skip_len)) \n",
    "\n",
    "    # test for rounding issue\n",
    "    skip_pts = [round(frame, 2) for frame in skip_pts]\n",
    "\n",
    "    # prevents generated frame from exceeding the mock movie length\n",
    "    skip_pts_revised = []\n",
    "    for i, frame in enumerate(skip_pts):\n",
    "        if frame > (nr_movie_frames * 0.04):\n",
    "            skip_pts_revised.append(nr_movie_frames * 0.04)\n",
    "        if frame <= (nr_movie_frames * 0.04):\n",
    "            skip_pts_revised.append(frame)\n",
    "        if frame < 0: \n",
    "            skip_pts_revised.append(0.0)\n",
    "    \n",
    "    ####\n",
    "    wl_name_save = \"/home/hitchhiker/Documents/DeepHumanVision_deploy/mock_data/ffplay-watchlog-20200526-232347.log\"\n",
    "\n",
    "    if os.path.exists(wl_name_save):\n",
    "        os.remove(wl_name_save)\n",
    "\n",
    "    with open(wl_name_save, 'a') as file:\n",
    "        file.write(\"movie_stimulus.avi\\n\")\n",
    "        for i in range(nr_movie_frames):\n",
    "            #file.write(\"pts\\t{}\\ttime\\t{}\\n\".format(perfect_pts[i], cpu_time[i]))\n",
    "            file.write(\"pts\\t{}\\ttime\\t{}\\n\".format(skip_pts_revised[i], cpu_time[i]))\n",
    "        file.close()\n",
    "        \n",
    "        \n",
    "def generate_playback_artifacts(patient_id, session_nr, seed=1590528227608515, stimulus_len=83.816666):\n",
    "    \"\"\"\n",
    "    Generate a movie watchlog file with pauses and skips.\n",
    "    \"\"\"\n",
    "    \n",
    "    nr_movie_frames = 125725      # movie length: 5029 seconds (AVI file); 5029/0.04 = 125725\n",
    "    perfect_pts = [round((x * 0.04), 2) for x in range(1, nr_movie_frames+1)]  \n",
    "\n",
    "    wl_seed = seed + 1e9\n",
    "    # generate projected end time for the DAQ log, in unix time microseconds\n",
    "    movie_len_unix = (stimulus_len * 60 * 1000 * 1000)\n",
    "    end_time = seed + movie_len_unix \n",
    "    add_interval = int((end_time - seed) / nr_movie_frames)\n",
    "    \n",
    "    print(movie_len_unix)\n",
    "    print(end_time)\n",
    "    print(add_interval)\n",
    "    \n",
    "    cpu_time = []\n",
    "    \n",
    "    for i in range(nr_movie_frames):\n",
    "        wl_seed += add_interval\n",
    "        cpu_time.append(int(wl_seed))    \n",
    "        \n",
    "    ## add in pauses\n",
    "    nr_pauses = int(uniform(1,6))\n",
    "\n",
    "    # randomly select indices from perfect watchlog \n",
    "    indices_pause = random.sample(range(len(cpu_time) - 5000), nr_pauses)\n",
    "    \n",
    "    cpu_time = np.array(cpu_time)\n",
    "    \n",
    "    for i, index in enumerate(indices_pause): \n",
    "        pause_len = int(uniform(1e9, 3e9)) ## TODO: this might be causing too big a difference btw wl and daq\n",
    "        cpu_time = np.concatenate((cpu_time[:index],cpu_time[index:] + pause_len)) \n",
    "        \n",
    "    nr_skips = int(uniform(1,4))\n",
    "\n",
    "    # randomly select indices from perfect watchlog \n",
    "    indices_skip = random.sample(range(len(perfect_pts) - 5000), nr_skips)\n",
    "\n",
    "    skip_pts = np.array(copy.copy(perfect_pts))\n",
    "    \n",
    "    max_skip = 500\n",
    "\n",
    "    for i, index in enumerate(indices_skip): \n",
    "        # note: careful about values here -- can exceed mocked movie length. \n",
    "        # currently set so that the max possible skip is the penultimate frame\n",
    "        if len(indices_skip) > 1:\n",
    "            skip_len = int(uniform((max_skip * -1), max_skip))\n",
    "            skip_pts = np.concatenate((skip_pts[:index],skip_pts[index:] + skip_len)) \n",
    "            max_skip -= skip_len\n",
    "\n",
    "        if len(indices_skip) == 1:\n",
    "            skip_len = max_skip\n",
    "            skip_pts = np.concatenate((skip_pts[:index],skip_pts[index:] + skip_len)) \n",
    "\n",
    "    # test for rounding issue\n",
    "    skip_pts = [round(frame, 2) for frame in skip_pts]\n",
    "\n",
    "    # prevents generated frame from exceeding the mock movie length\n",
    "    skip_pts_revised = []\n",
    "    for i, frame in enumerate(skip_pts):\n",
    "        if frame > (nr_movie_frames * 0.04):\n",
    "            skip_pts_revised.append(nr_movie_frames * 0.04)\n",
    "        if frame <= (nr_movie_frames * 0.04):\n",
    "            skip_pts_revised.append(frame)\n",
    "        if frame < 0: \n",
    "            skip_pts_revised.append(0.0)\n",
    "    \n",
    "    wl_name_save = \"/home/hitchhiker/Documents/DeepHumanVision_deploy/mock_data/ffplay-watchlog-20200526-232347.log\"\n",
    "\n",
    "    if os.path.exists(wl_name_save):\n",
    "        os.remove(wl_name_save)\n",
    "    \n",
    "    with open(wl_name_save, 'a') as file:\n",
    "        file.write(\"movie_stimulus.avi\\n\")\n",
    "        for i in range(nr_movie_frames):\n",
    "            if i not in indices_pause:\n",
    "                file.write(\"pts\\t{}\\ttime\\t{}\\n\".format(skip_pts_revised[i], cpu_time[i]))\n",
    "            if i in indices_pause: \n",
    "                file.write(\"Pausing\\nContinuing\\tafter\\tpause\\n\")\n",
    "\n",
    "    file.close()\n",
    "    \n",
    "            \n",
    "            \n",
    "#    return skip_pts_revised, cpu_time\n",
    "#     wlsave_dir = \"{}/mock_data/patient_data/{}/session_{}/watchlogs/\".format(config.PATH_TO_REPO, patient_id, session_nr)\n",
    "\n",
    "#     if not os.path.exists(wlsave_dir):\n",
    "#         os.makedirs(wlsave_dir)\n",
    "\n",
    "#     wl_name_save = \"{}/mock_data/patient_data/{}/session_{}/watchlogs/ffplay-watchlog-20200526-232347.log\".format(config.PATH_TO_REPO, patient_id, session_nr)\n",
    "\n",
    "\n",
    "        \n",
    "#     with open(wl_name_save, 'a') as file:\n",
    "#         file.write(\"movie_stimulus.avi\\n\")\n",
    "#         for i in range(nr_movie_frames):\n",
    "#             if i not in indices_pause:\n",
    "#                 file.write(\"pts\\t{}\\ttime\\t{}\\n\".format(skip_pts_revised[i], cpu_time[i]))\n",
    "#             if i in indices_pause: \n",
    "#                 file.write(\"Pausing\\nContinuing\\tafter\\tpause\\n\")\n",
    "    \n",
    "#     file.close()\n",
    "\n",
    "    \n",
    "def make_events_and_daq(patient_id, session_nr, begin_recording_time, stop_recording_time, seed=1590528227608515, stimulus_len=83.816666):\n",
    "    \"\"\"\n",
    "    Put together events and daq code, compute all at once. \n",
    "    \"\"\"\n",
    "    len_context_files, signal_tile = generate_pings()\n",
    "    \n",
    "    generate_events(patient_id, session_nr, len_context_files, signal_tile, begin_recording_time, stop_recording_time)\n",
    "    generate_daq_log(patient_id, session_nr, len_context_files, signal_tile, seed, stimulus_len)\n",
    "\n",
    "    "
   ]
  },
  {
   "cell_type": "code",
   "execution_count": 116,
   "metadata": {},
   "outputs": [
    {
     "name": "stdout",
     "output_type": "stream",
     "text": [
      "5028999960.0\n",
      "1590533256608475.0\n",
      "39999\n"
     ]
    }
   ],
   "source": [
    "nr_movie_frames = 125725      # movie length: 5029 seconds (AVI file); 5029/0.04 = 125725\n",
    "perfect_pts = [round((x * 0.04), 2) for x in range(1, nr_movie_frames+1)]  \n",
    "\n",
    "wl_seed = seed + 1e9\n",
    "# generate projected end time for the DAQ log, in unix time microseconds\n",
    "movie_len_unix = (stimulus_len * 60 * 1000 * 1000)\n",
    "end_time = seed + movie_len_unix \n",
    "add_interval = int((end_time - seed) / nr_movie_frames)\n",
    "\n",
    "print(movie_len_unix)\n",
    "print(end_time)\n",
    "print(add_interval)\n",
    "\n",
    "cpu_time = []\n",
    "\n",
    "for i in range(nr_movie_frames):\n",
    "    wl_seed += add_interval\n",
    "    cpu_time.append(int(wl_seed)) "
   ]
  },
  {
   "cell_type": "code",
   "execution_count": 191,
   "metadata": {},
   "outputs": [
    {
     "name": "stdout",
     "output_type": "stream",
     "text": [
      "300000000\n"
     ]
    }
   ],
   "source": [
    "print(5 * 1000 * 1000 * 60)"
   ]
  },
  {
   "cell_type": "code",
   "execution_count": 185,
   "metadata": {},
   "outputs": [
    {
     "data": {
      "text/plain": [
       "100.48123791666667"
      ]
     },
     "execution_count": 185,
     "metadata": {},
     "output_type": "execute_result"
    }
   ],
   "source": [
    "(wl_seed - seed) / 1000 / 1000 / 60 "
   ]
  },
  {
   "cell_type": "code",
   "execution_count": 195,
   "metadata": {},
   "outputs": [],
   "source": [
    "patient_id = 1\n",
    "session_nr = 1\n",
    "\n",
    "nr_units_patient_1 = 100\n",
    "begin_recording_time = 449860058000\n",
    "stop_recording_time =  455889058000\n",
    "nr_units_per_brain_region_1 = [7, 12, 9, 10, 15, 13, 8, 11, 12, 3]\n",
    "\n",
    "seed=1590528227608515\n",
    "stimulus_len=83.816666"
   ]
  },
  {
   "cell_type": "code",
   "execution_count": 198,
   "metadata": {},
   "outputs": [
    {
     "name": "stdout",
     "output_type": "stream",
     "text": [
      "Recording length, in usec:  6029000000\n",
      "End time of recording, in epoch time:  1590534256608515\n",
      "Length of interval iteratively added:  1311507\n",
      "Length of the stimulus, in usec:  4728999960.0\n",
      "End of stimulus, in epoch time:  1590532956608475.0\n",
      "Length of interval iteratively added :  37613\n"
     ]
    }
   ],
   "source": [
    "spikes = generate_spikes(patient_id, session_nr, nr_units_patient_1, begin_recording_time, stop_recording_time)\n",
    "generate_channel_file(patient_id, session_nr, nr_units_patient_1, nr_units_per_brain_region_1)\n",
    "\n",
    "\n",
    "len_context_files, signal_tile = generate_pings()\n",
    "generate_events(patient_id, session_nr, len_context_files, signal_tile, begin_recording_time, stop_recording_time)\n",
    "generate_daq_log(patient_id, session_nr, len_context_files, signal_tile, begin_recording_time, stop_recording_time, seed, stimulus_len)\n",
    "\n",
    "generate_perfect_watchlog(patient_id, session_nr)\n",
    "#generate_playback_artifacts(patient_id, session_nr)"
   ]
  },
  {
   "cell_type": "code",
   "execution_count": 199,
   "metadata": {},
   "outputs": [
    {
     "name": "stdout",
     "output_type": "stream",
     "text": [
      "Min Daq Diff: 0.2 ms, Max Daq Diff: 1.7 ms\n",
      "Maximum Error after Event fit: 0.4 ms\n",
      "Min Daq Diff: 0.2 ms, Max Daq Diff: 1.7 ms\n",
      "Maximum Error after Event fit: 0.4 ms\n",
      "Min Daq Diff: 0.2 ms, Max Daq Diff: 1.7 ms\n",
      "Maximum Error after Event fit: 0.4 ms\n",
      "There is a skip in the movie frame playback that is bigger than 25.0 frames.\n",
      "The biggest skip is 10074.0 frames.\n",
      "Timepoints of skips, in neural_rec_time: [4.52841558e+11 4.54504453e+11]\n",
      "Start timepoints: [450860313088.0, 452841595875.25, 454504490461.25]\n",
      "Stop timepoints: [452841558254.0, 454504452840.25, 455867866812.25]\n",
      "\n"
     ]
    }
   ],
   "source": [
    "wl = \"ffplay-watchlog-20200526-232347.log\"\n",
    "dq = \"timedDAQ-log-20200526-232347.log\"\n",
    "ev = \"Events.npy\"\n",
    "\n",
    "tc = data_utils.TimeConversion(wl, dq, ev)\n",
    "pts, daq_time, cpu_time = tc.convert()\n",
    "convert_start, convert_stop = tc.convert_pauses()\n",
    "start_values, stop_values, values = tc.convert_skips()"
   ]
  },
  {
   "cell_type": "code",
   "execution_count": 200,
   "metadata": {},
   "outputs": [],
   "source": [
    "unit = spikes[0] / 1000"
   ]
  },
  {
   "cell_type": "code",
   "execution_count": 201,
   "metadata": {},
   "outputs": [],
   "source": [
    "bin_size = 1000\n",
    "\n",
    "rectime = daq_time / 1000\n",
    "rec_on = rectime[0]\n",
    "rec_off = rectime[-1]\n",
    "\n",
    "total_msec = rec_off - rec_on\n",
    "total_bins = int(total_msec / bin_size)\n",
    "bins = np.linspace(rec_on, rec_off, total_bins)"
   ]
  },
  {
   "cell_type": "code",
   "execution_count": 202,
   "metadata": {},
   "outputs": [
    {
     "data": {
      "text/plain": [
       "array([4.50860313e+08, 4.50860351e+08, 4.50860388e+08, ...,\n",
       "       4.55867792e+08, 4.55867829e+08, 4.55867867e+08])"
      ]
     },
     "execution_count": 202,
     "metadata": {},
     "output_type": "execute_result"
    }
   ],
   "source": [
    "rectime"
   ]
  },
  {
   "cell_type": "code",
   "execution_count": 203,
   "metadata": {},
   "outputs": [],
   "source": [
    "binned_spikes, _ = np.histogram(unit, bins=bins)"
   ]
  },
  {
   "cell_type": "code",
   "execution_count": 204,
   "metadata": {},
   "outputs": [
    {
     "data": {
      "text/plain": [
       "[<matplotlib.lines.Line2D at 0x7f219fcff450>]"
      ]
     },
     "execution_count": 204,
     "metadata": {},
     "output_type": "execute_result"
    },
    {
     "data": {
      "image/png": "[encoded data removed]",
      "text/plain": [
       "<Figure size 432x288 with 1 Axes>"
      ]
     },
     "metadata": {
      "needs_background": "light"
     },
     "output_type": "display_data"
    }
   ],
   "source": [
    "plt.plot(binned_spikes)"
   ]
  },
  {
   "cell_type": "code",
   "execution_count": 205,
   "metadata": {},
   "outputs": [
    {
     "data": {
      "text/plain": [
       "[<matplotlib.lines.Line2D at 0x7f219fdd68d0>]"
      ]
     },
     "execution_count": 205,
     "metadata": {},
     "output_type": "execute_result"
    },
    {
     "data": {
      "image/png": "[encoded data removed]",
      "text/plain": [
       "<Figure size 432x288 with 1 Axes>"
      ]
     },
     "metadata": {
      "needs_background": "light"
     },
     "output_type": "display_data"
    }
   ],
   "source": [
    "plt.plot(pts)"
   ]
  },
  {
   "cell_type": "code",
   "execution_count": 206,
   "metadata": {},
   "outputs": [
    {
     "data": {
      "text/plain": [
       "[<matplotlib.lines.Line2D at 0x7f219fca1810>]"
      ]
     },
     "execution_count": 206,
     "metadata": {},
     "output_type": "execute_result"
    },
    {
     "data": {
      "image/png": "[encoded data removed]",
      "text/plain": [
       "<Figure size 432x288 with 1 Axes>"
      ]
     },
     "metadata": {
      "needs_background": "light"
     },
     "output_type": "display_data"
    }
   ],
   "source": [
    "plt.plot(cpu_time)"
   ]
  },
  {
   "cell_type": "code",
   "execution_count": 165,
   "metadata": {},
   "outputs": [
    {
     "data": {
      "text/plain": [
       "array([1590529227648514, 1590529227688513, 1590529227728512, ...,\n",
       "       1590534256402792, 1590534256442791, 1590534256482790])"
      ]
     },
     "execution_count": 165,
     "metadata": {},
     "output_type": "execute_result"
    }
   ],
   "source": [
    "cpu_time"
   ]
  }
 ],
 "metadata": {
  "kernelspec": {
   "display_name": "Python 3",
   "language": "python",
   "name": "python3"
  },
  "language_info": {
   "codemirror_mode": {
    "name": "ipython",
    "version": 3
   },
   "file_extension": ".py",
   "mimetype": "text/x-python",
   "name": "python",
   "nbconvert_exporter": "python",
   "pygments_lexer": "ipython3",
   "version": "3.7.7"
  }
 },
 "nbformat": 4,
 "nbformat_minor": 4
}
