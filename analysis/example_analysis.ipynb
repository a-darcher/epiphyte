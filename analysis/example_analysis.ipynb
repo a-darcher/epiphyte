{
 "cells": [
  {
   "cell_type": "markdown",
   "metadata": {},
   "source": [
    "# Example analysis pipeline\n",
    "\n",
    "## Simple comparison of neural activity during stimulus condition on/off \n"
   ]
  },
  {
   "cell_type": "markdown",
   "metadata": {},
   "source": [
    "Load in relevant local application modules:"
   ]
  },
  {
   "cell_type": "code",
   "execution_count": 2,
   "metadata": {},
   "outputs": [
    {
     "name": "stdin",
     "output_type": "stream",
     "text": [
      "Please enter DataJoint username:  root\n",
      "Please enter DataJoint password:  ···············\n"
     ]
    },
    {
     "name": "stdout",
     "output_type": "stream",
     "text": [
      "Connecting root@localhost:3306\n"
     ]
    }
   ],
   "source": [
    "import sys\n",
    "import matplotlib.pyplot as plt\n",
    "\n",
    "from types import SimpleNamespace\n",
    "import inflect\n",
    "\n",
    "# Local application imports \n",
    "from database.db_setup import *\n",
    "import preprocessing.data_preprocessing.binning as binning\n",
    "import preprocessing.data_preprocessing.create_vectors_from_time_points as create\n",
    "import annotation.stimulus_driven_annotation.movies.annotation_utils as utils"
   ]
  },
  {
   "cell_type": "markdown",
   "metadata": {},
   "source": [
    "Set parameters:"
   ]
  },
  {
   "cell_type": "code",
   "execution_count": 3,
   "metadata": {},
   "outputs": [],
   "source": [
    "patient_id = 2\n",
    "session_nr = 1\n",
    "unit_nr = 0\n",
    "bin_size = 1000"
   ]
  },
  {
   "cell_type": "markdown",
   "metadata": {},
   "source": [
    "Get activity from the database, set binning parameters, and bin: "
   ]
  },
  {
   "cell_type": "code",
   "execution_count": 11,
   "metadata": {},
   "outputs": [
    {
     "name": "stdout",
     "output_type": "stream",
     "text": [
      "489283.99182812497\n"
     ]
    }
   ],
   "source": [
    "spike_times = get_spiking_activity(patient_id, session_nr, unit_nr)\n",
    "spike_times = np.sort(spike_times) / 1000\n",
    "\n",
    "exclude_pauses = False\n",
    "output_edges = True\n",
    "\n",
    "binned_spikes, edges = binning.bin_spikes(patient_id, session_nr, spike_times, bin_size, exclude_pauses, output_edges) "
   ]
  },
  {
   "cell_type": "code",
   "execution_count": 16,
   "metadata": {},
   "outputs": [
    {
     "data": {
      "text/plain": [
       "[<matplotlib.collections.EventCollection at 0x7f3cbb4292d0>]"
      ]
     },
     "execution_count": 16,
     "metadata": {},
     "output_type": "execute_result"
    },
    {
     "data": {
      "image/png": "[encoded data removed]",
      "text/plain": [
       "<Figure size 432x288 with 1 Axes>"
      ]
     },
     "metadata": {
      "needs_background": "light"
     },
     "output_type": "display_data"
    }
   ],
   "source": [
    "plt.eventplot(spike_times)"
   ]
  },
  {
   "cell_type": "code",
   "execution_count": 12,
   "metadata": {},
   "outputs": [
    {
     "data": {
      "text/plain": [
       "[<matplotlib.lines.Line2D at 0x7fd7c10cb510>]"
      ]
     },
     "execution_count": 12,
     "metadata": {},
     "output_type": "execute_result"
    },
    {
     "data": {
      "image/png": "[encoded data removed]",
      "text/plain": [
       "<Figure size 432x288 with 1 Axes>"
      ]
     },
     "metadata": {
      "needs_background": "light"
     },
     "output_type": "display_data"
    }
   ],
   "source": [
    "plt.plot(binned_spikes)"
   ]
  },
  {
   "cell_type": "code",
   "execution_count": 13,
   "metadata": {},
   "outputs": [],
   "source": [
    "rectime = get_neural_rectime_of_patient(patient_id, session_nr) / 1000"
   ]
  },
  {
   "cell_type": "code",
   "execution_count": 34,
   "metadata": {},
   "outputs": [],
   "source": [
    "recprime = rectime[0:2500] "
   ]
  },
  {
   "cell_type": "code",
   "execution_count": 31,
   "metadata": {},
   "outputs": [
    {
     "data": {
      "text/plain": [
       "25144.2"
      ]
     },
     "execution_count": 31,
     "metadata": {},
     "output_type": "execute_result"
    }
   ],
   "source": [
    "len(rectime) / 5"
   ]
  },
  {
   "cell_type": "code",
   "execution_count": 24,
   "metadata": {},
   "outputs": [
    {
     "data": {
      "text/plain": [
       "354899.8647075349"
      ]
     },
     "execution_count": 24,
     "metadata": {},
     "output_type": "execute_result"
    }
   ],
   "source": [
    "spike_times[-1]"
   ]
  },
  {
   "cell_type": "code",
   "execution_count": 35,
   "metadata": {},
   "outputs": [
    {
     "data": {
      "text/plain": [
       "354555.945640625"
      ]
     },
     "execution_count": 35,
     "metadata": {},
     "output_type": "execute_result"
    }
   ],
   "source": [
    "recprime[-1]"
   ]
  },
  {
   "cell_type": "code",
   "execution_count": 36,
   "metadata": {},
   "outputs": [],
   "source": [
    "rec_on = recprime[0]\n",
    "rec_off = recprime[-1]\n",
    "\n",
    "total_msec = rec_off - rec_on\n",
    "total_bins = int(total_msec / bin_size)\n",
    "bins = np.linspace(rec_on, rec_off, total_bins)\n",
    "\n",
    "binned2, _ = np.histogram(spike_times, bins=bins)"
   ]
  },
  {
   "cell_type": "code",
   "execution_count": 38,
   "metadata": {},
   "outputs": [
    {
     "data": {
      "text/plain": [
       "4694.0205937499995"
      ]
     },
     "execution_count": 38,
     "metadata": {},
     "output_type": "execute_result"
    }
   ],
   "source": [
    "total_msec"
   ]
  },
  {
   "cell_type": "code",
   "execution_count": 37,
   "metadata": {},
   "outputs": [
    {
     "data": {
      "text/plain": [
       "[<matplotlib.lines.Line2D at 0x7fd7c0f66fd0>]"
      ]
     },
     "execution_count": 37,
     "metadata": {},
     "output_type": "execute_result"
    },
    {
     "data": {
      "image/png": "[encoded data removed]",
      "text/plain": [
       "<Figure size 432x288 with 1 Axes>"
      ]
     },
     "metadata": {
      "needs_background": "light"
     },
     "output_type": "display_data"
    }
   ],
   "source": [
    "plt.plot(binned2)"
   ]
  },
  {
   "cell_type": "code",
   "execution_count": 40,
   "metadata": {},
   "outputs": [],
   "source": [
    "events = np.load(\"/home/hitchhiker/Documents/DeepHumanVision_deploy/mock_data/patient_data/2/session_1/event_file/Events.npy\")"
   ]
  },
  {
   "cell_type": "code",
   "execution_count": 47,
   "metadata": {},
   "outputs": [
    {
     "data": {
      "text/plain": [
       "84.00485"
      ]
     },
     "execution_count": 47,
     "metadata": {},
     "output_type": "execute_result"
    }
   ],
   "source": [
    "(events[-1][0] - events[0][0]) / 1000 / 60"
   ]
  },
  {
   "cell_type": "code",
   "execution_count": null,
   "metadata": {},
   "outputs": [],
   "source": []
  },
  {
   "cell_type": "code",
   "execution_count": 19,
   "metadata": {},
   "outputs": [
    {
     "data": {
      "image/svg+xml": [
       "<svg height=\"247pt\" viewBox=\"0.00 0.00 1272.50 247.00\" width=\"1273pt\" xmlns=\"http://www.w3.org/2000/svg\" xmlns:xlink=\"http://www.w3.org/1999/xlink\">\n",
       "<g class=\"graph\" id=\"graph0\" transform=\"scale(1 1) rotate(0) translate(4 243)\">\n",
       "<title>%3</title>\n",
       "<polygon fill=\"#ffffff\" points=\"-4,4 -4,-243 1268.5,-243 1268.5,4 -4,4\" stroke=\"transparent\"/>\n",
       "<!-- LabelProcessingMethod -->\n",
       "<g class=\"node\" id=\"node1\">\n",
       "<title>LabelProcessingMethod</title>\n",
       "<g id=\"a_node1\"><a xlink:title=\"algorithm_name       \r",
       "------------------------------\r",
       "description          \r",
       "\">\n",
       "<polygon fill=\"#000000\" fill-opacity=\"0.125490\" points=\"142.5,-168 21.5,-168 21.5,-133 142.5,-133 142.5,-168\" stroke=\"transparent\"/>\n",
       "<text fill=\"#000000\" font-family=\"arial\" font-size=\"10.00\" text-anchor=\"start\" text-decoration=\"underline\" x=\"29.5\" y=\"-149\">LabelProcessingMethod</text>\n",
       "</a>\n",
       "</g>\n",
       "</g>\n",
       "<!-- ProcessedMovieAnnotation -->\n",
       "<g class=\"node\" id=\"node14\">\n",
       "<title>ProcessedMovieAnnotation</title>\n",
       "<g id=\"a_node14\"><a xlink:title=\"→ LabelName\r",
       "→ LabelProcessingMethod\r",
       "last_entry_date      \r",
       "------------------------------\r",
       "processed_frames     \r",
       "\">\n",
       "<ellipse cx=\"82\" cy=\"-79.5\" fill=\"#ff0000\" fill-opacity=\"0.125490\" rx=\"13\" ry=\"13\" stroke=\"#ff0000\" stroke-opacity=\"0.125490\"/>\n",
       "<text fill=\"#7f0000\" font-family=\"arial\" font-size=\"12.00\" text-anchor=\"start\" text-decoration=\"underline\" x=\"8\" y=\"-77.4\">ProcessedMovieAnnotation</text>\n",
       "</a>\n",
       "</g>\n",
       "</g>\n",
       "<!-- LabelProcessingMethod&#45;&gt;ProcessedMovieAnnotation -->\n",
       "<g class=\"edge\" id=\"edge1\">\n",
       "<title>LabelProcessingMethod-&gt;ProcessedMovieAnnotation</title>\n",
       "<path d=\"M82,-132.9494C82,-120.4658 82,-103.9634 82,-92.6156\" fill=\"none\" stroke=\"#000000\" stroke-opacity=\"0.250980\" stroke-width=\".75\"/>\n",
       "</g>\n",
       "<!-- SpikeTimesDuringMovie -->\n",
       "<g class=\"node\" id=\"node2\">\n",
       "<title>SpikeTimesDuringMovie</title>\n",
       "<g id=\"a_node2\"><a xlink:title=\"→ ElectrodeUnit\r",
       "→ MovieSession\r",
       "------------------------------\r",
       "spike_times          \r",
       "\">\n",
       "<ellipse cx=\"1172\" cy=\"-79.5\" fill=\"#00007f\" fill-opacity=\"0.250980\" rx=\"92.5\" ry=\"17.5\" stroke=\"#00007f\" stroke-opacity=\"0.250980\"/>\n",
       "<text fill=\"#00007f\" font-family=\"arial\" font-size=\"12.00\" text-anchor=\"middle\" x=\"1172\" y=\"-76.4\">SpikeTimesDuringMovie</text>\n",
       "</a>\n",
       "</g>\n",
       "</g>\n",
       "<!-- Annotator -->\n",
       "<g class=\"node\" id=\"node3\">\n",
       "<title>Annotator</title>\n",
       "<g id=\"a_node3\"><a xlink:title=\"annotator_id         \r",
       "------------------------------\r",
       "first_name           \r",
       "last_name            \r",
       "additional_information=&quot;&quot; \r",
       "\">\n",
       "<polygon fill=\"#000000\" fill-opacity=\"0.125490\" points=\"519.5,-168 460.5,-168 460.5,-133 519.5,-133 519.5,-168\" stroke=\"transparent\"/>\n",
       "<text fill=\"#000000\" font-family=\"arial\" font-size=\"10.00\" text-anchor=\"start\" text-decoration=\"underline\" x=\"468.5\" y=\"-149\">Annotator</text>\n",
       "</a>\n",
       "</g>\n",
       "</g>\n",
       "<!-- MovieAnnotation -->\n",
       "<g class=\"node\" id=\"node6\">\n",
       "<title>MovieAnnotation</title>\n",
       "<g id=\"a_node6\"><a xlink:title=\"→ Annotator\r",
       "→ LabelName\r",
       "annotation_date      \r",
       "------------------------------\r",
       "values               \r",
       "start_times          \r",
       "stop_times           \r",
       "category             \r",
       "indicator_function   \r",
       "additional_information=&quot;&quot; \r",
       "\">\n",
       "<ellipse cx=\"249\" cy=\"-79.5\" fill=\"#00007f\" fill-opacity=\"0.250980\" rx=\"66.7502\" ry=\"17.5\" stroke=\"#00007f\" stroke-opacity=\"0.250980\"/>\n",
       "<text fill=\"#00007f\" font-family=\"arial\" font-size=\"12.00\" text-anchor=\"start\" text-decoration=\"underline\" x=\"203.5\" y=\"-77.4\">MovieAnnotation</text>\n",
       "</a>\n",
       "</g>\n",
       "</g>\n",
       "<!-- Annotator&#45;&gt;MovieAnnotation -->\n",
       "<g class=\"edge\" id=\"edge2\">\n",
       "<title>Annotator-&gt;MovieAnnotation</title>\n",
       "<path d=\"M460.4487,-141.794C418.7192,-129.5003 342.1995,-106.9571 293.5543,-92.6259\" fill=\"none\" stroke=\"#000000\" stroke-opacity=\"0.250980\" stroke-width=\".75\"/>\n",
       "</g>\n",
       "<!-- ManualAnnotation -->\n",
       "<g class=\"node\" id=\"node7\">\n",
       "<title>ManualAnnotation</title>\n",
       "<g id=\"a_node7\"><a xlink:title=\"→ MovieSession\r",
       "→ Annotator\r",
       "label_entry_date     \r",
       "name                 \r",
       "------------------------------\r",
       "x_zero               \r",
       "x_one                \r",
       "y_zero               \r",
       "y_one                \r",
       "additional_information=&quot;&quot; \r",
       "\">\n",
       "<polygon fill=\"#00ff00\" fill-opacity=\"0.188235\" points=\"624,-97 510,-97 510,-62 624,-62 624,-97\" stroke=\"#00ff00\" stroke-opacity=\"0.188235\"/>\n",
       "<text fill=\"#006400\" font-family=\"arial\" font-size=\"12.00\" text-anchor=\"start\" text-decoration=\"underline\" x=\"518\" y=\"-77.4\">ManualAnnotation</text>\n",
       "</a>\n",
       "</g>\n",
       "</g>\n",
       "<!-- Annotator&#45;&gt;ManualAnnotation -->\n",
       "<g class=\"edge\" id=\"edge3\">\n",
       "<title>Annotator-&gt;ManualAnnotation</title>\n",
       "<path d=\"M509.0337,-132.9494C520.88,-122.0262 536.0631,-108.0262 547.9184,-97.0947\" fill=\"none\" stroke=\"#000000\" stroke-opacity=\"0.250980\" stroke-width=\".75\"/>\n",
       "</g>\n",
       "<!-- UnitLevelDataCleaning -->\n",
       "<g class=\"node\" id=\"node10\">\n",
       "<title>UnitLevelDataCleaning</title>\n",
       "<g id=\"a_node10\"><a xlink:title=\"→ ElectrodeUnit\r",
       "→ MovieSession\r",
       "→ Annotator\r",
       "name                 \r",
       "------------------------------\r",
       "data                 \r",
       "description=&quot;&quot;       \r",
       "\">\n",
       "<ellipse cx=\"935\" cy=\"-79.5\" fill=\"#00007f\" fill-opacity=\"0.250980\" rx=\"88.5007\" ry=\"17.5\" stroke=\"#00007f\" stroke-opacity=\"0.250980\"/>\n",
       "<text fill=\"#00007f\" font-family=\"arial\" font-size=\"12.00\" text-anchor=\"start\" text-decoration=\"underline\" x=\"872\" y=\"-77.4\">UnitLevelDataCleaning</text>\n",
       "</a>\n",
       "</g>\n",
       "</g>\n",
       "<!-- Annotator&#45;&gt;UnitLevelDataCleaning -->\n",
       "<g class=\"edge\" id=\"edge4\">\n",
       "<title>Annotator-&gt;UnitLevelDataCleaning</title>\n",
       "<path d=\"M519.8342,-146.18C580.0567,-137.4008 720.4324,-116.6391 838,-97 848.3801,-95.266 859.3711,-93.3552 870.0803,-91.4526\" fill=\"none\" stroke=\"#000000\" stroke-opacity=\"0.250980\" stroke-width=\".75\"/>\n",
       "</g>\n",
       "<!-- PatientLevelDataCleaning -->\n",
       "<g class=\"node\" id=\"node12\">\n",
       "<title>PatientLevelDataCleaning</title>\n",
       "<g id=\"a_node12\"><a xlink:title=\"→ MovieSession\r",
       "→ Annotator\r",
       "name                 \r",
       "------------------------------\r",
       "data                 \r",
       "description=&quot;&quot;       \r",
       "\">\n",
       "<polygon fill=\"#00ff00\" fill-opacity=\"0.188235\" points=\"492,-97 334,-97 334,-62 492,-62 492,-97\" stroke=\"#00ff00\" stroke-opacity=\"0.188235\"/>\n",
       "<text fill=\"#006400\" font-family=\"arial\" font-size=\"12.00\" text-anchor=\"start\" text-decoration=\"underline\" x=\"342\" y=\"-77.4\">PatientLevelDataCleaning</text>\n",
       "</a>\n",
       "</g>\n",
       "</g>\n",
       "<!-- Annotator&#45;&gt;PatientLevelDataCleaning -->\n",
       "<g class=\"edge\" id=\"edge5\">\n",
       "<title>Annotator-&gt;PatientLevelDataCleaning</title>\n",
       "<path d=\"M470.9663,-132.9494C459.12,-122.0262 443.9369,-108.0262 432.0816,-97.0947\" fill=\"none\" stroke=\"#000000\" stroke-opacity=\"0.250980\" stroke-width=\".75\"/>\n",
       "</g>\n",
       "<!-- MoviePauses -->\n",
       "<g class=\"node\" id=\"node4\">\n",
       "<title>MoviePauses</title>\n",
       "<g id=\"a_node4\"><a xlink:title=\"→ MovieSession\r",
       "------------------------------\r",
       "start_times          \r",
       "stop_times           \r",
       "description=&quot;&quot;       \r",
       "further_information=&quot;&quot; \r",
       "\">\n",
       "<ellipse cx=\"687\" cy=\"-79.5\" fill=\"#ff0000\" fill-opacity=\"0.125490\" rx=\"13\" ry=\"13\" stroke=\"#ff0000\" stroke-opacity=\"0.125490\"/>\n",
       "<text fill=\"#7f0000\" font-family=\"arial\" font-size=\"12.00\" text-anchor=\"middle\" x=\"687\" y=\"-76.4\">MoviePauses</text>\n",
       "</a>\n",
       "</g>\n",
       "</g>\n",
       "<!-- ElectrodeUnit -->\n",
       "<g class=\"node\" id=\"node5\">\n",
       "<title>ElectrodeUnit</title>\n",
       "<g id=\"a_node5\"><a xlink:title=\"→ Patient\r",
       "unit_id              \r",
       "------------------------------\r",
       "csc                  \r",
       "unit_type            \r",
       "unit_nr              \r",
       "brain_region         \r",
       "additional_information=&quot;&quot; \r",
       "\">\n",
       "<ellipse cx=\"935\" cy=\"-150.5\" fill=\"#00007f\" fill-opacity=\"0.250980\" rx=\"55.7503\" ry=\"17.5\" stroke=\"#00007f\" stroke-opacity=\"0.250980\"/>\n",
       "<text fill=\"#00007f\" font-family=\"arial\" font-size=\"12.00\" text-anchor=\"start\" text-decoration=\"underline\" x=\"898.5\" y=\"-148.4\">ElectrodeUnit</text>\n",
       "</a>\n",
       "</g>\n",
       "</g>\n",
       "<!-- ElectrodeUnit&#45;&gt;SpikeTimesDuringMovie -->\n",
       "<g class=\"edge\" id=\"edge6\">\n",
       "<title>ElectrodeUnit-&gt;SpikeTimesDuringMovie</title>\n",
       "<path d=\"M975.4725,-138.3753C1016.06,-126.2162 1078.6321,-107.471 1122.2318,-94.4094\" fill=\"none\" stroke=\"#000000\" stroke-opacity=\"0.250980\" stroke-width=\".75\"/>\n",
       "</g>\n",
       "<!-- ElectrodeUnit&#45;&gt;UnitLevelDataCleaning -->\n",
       "<g class=\"edge\" id=\"edge7\">\n",
       "<title>ElectrodeUnit-&gt;UnitLevelDataCleaning</title>\n",
       "<path d=\"M935,-132.9494C935,-122.1083 935,-108.2366 935,-97.3418\" fill=\"none\" stroke=\"#000000\" stroke-opacity=\"0.250980\" stroke-width=\".75\"/>\n",
       "</g>\n",
       "<!-- ProcessedMovieAnnotation.Entry -->\n",
       "<g class=\"node\" id=\"node11\">\n",
       "<title>ProcessedMovieAnnotation.Entry</title>\n",
       "<g id=\"a_node11\"><a xlink:title=\"→ ProcessedMovieAnnotation\r",
       "→ MovieAnnotation\r",
       "\">\n",
       "<polygon fill=\"transparent\" points=\"163,-22.5 1,-22.5 1,-3.5 163,-3.5 163,-22.5\" stroke=\"transparent\"/>\n",
       "<text fill=\"#000000\" font-family=\"arial\" font-size=\"10.00\" text-anchor=\"middle\" x=\"82\" y=\"-10.5\">ProcessedMovieAnnotation.Entry</text>\n",
       "</a>\n",
       "</g>\n",
       "</g>\n",
       "<!-- MovieAnnotation&#45;&gt;ProcessedMovieAnnotation.Entry -->\n",
       "<g class=\"edge\" id=\"edge8\">\n",
       "<title>MovieAnnotation-&gt;ProcessedMovieAnnotation.Entry</title>\n",
       "<path d=\"M211.9373,-64.7415C179.6501,-51.8846 133.7805,-33.6192 106.0604,-22.5809\" fill=\"none\" stroke=\"#000000\" stroke-opacity=\"0.250980\" stroke-width=\".75\"/>\n",
       "</g>\n",
       "<!-- PatientAlignedMovieAnnotation -->\n",
       "<g class=\"node\" id=\"node15\">\n",
       "<title>PatientAlignedMovieAnnotation</title>\n",
       "<g id=\"a_node15\"><a xlink:title=\"→ MovieAnnotation\r",
       "→ MovieSession\r",
       "------------------------------\r",
       "label_in_patient_time \r",
       "values               \r",
       "start_times          \r",
       "stop_times           \r",
       "additionl_information=&quot;&quot; \r",
       "\">\n",
       "<ellipse cx=\"663\" cy=\"-13\" fill=\"#ff0000\" fill-opacity=\"0.125490\" rx=\"13\" ry=\"13\" stroke=\"#ff0000\" stroke-opacity=\"0.125490\"/>\n",
       "<text fill=\"#7f0000\" font-family=\"arial\" font-size=\"12.00\" text-anchor=\"middle\" x=\"663\" y=\"-9.9\">PatientAlignedMovieAnnotation</text>\n",
       "</a>\n",
       "</g>\n",
       "</g>\n",
       "<!-- MovieAnnotation&#45;&gt;PatientAlignedMovieAnnotation -->\n",
       "<g class=\"edge\" id=\"edge9\">\n",
       "<title>MovieAnnotation-&gt;PatientAlignedMovieAnnotation</title>\n",
       "<path d=\"M298.3434,-67.5172C307.1924,-65.5457 316.3496,-63.6201 325,-62 450.8862,-38.4231 604.9664,-19.7484 650.0431,-14.4882\" fill=\"none\" stroke=\"#000000\" stroke-opacity=\"0.250980\" stroke-width=\".75\"/>\n",
       "</g>\n",
       "<!-- MovieSkips -->\n",
       "<g class=\"node\" id=\"node8\">\n",
       "<title>MovieSkips</title>\n",
       "<g id=\"a_node8\"><a xlink:title=\"→ MovieSession\r",
       "------------------------------\r",
       "values               \r",
       "start_times          \r",
       "stop_times           \r",
       "notes=&quot;&quot;             \r",
       "\">\n",
       "<ellipse cx=\"789\" cy=\"-79.5\" fill=\"#ff0000\" fill-opacity=\"0.125490\" rx=\"13\" ry=\"13\" stroke=\"#ff0000\" stroke-opacity=\"0.125490\"/>\n",
       "<text fill=\"#7f0000\" font-family=\"arial\" font-size=\"12.00\" text-anchor=\"middle\" x=\"789\" y=\"-76.4\">MovieSkips</text>\n",
       "</a>\n",
       "</g>\n",
       "</g>\n",
       "<!-- LabelName -->\n",
       "<g class=\"node\" id=\"node9\">\n",
       "<title>LabelName</title>\n",
       "<g id=\"a_node9\"><a xlink:title=\"label_name           \r",
       "\">\n",
       "<polygon fill=\"#000000\" fill-opacity=\"0.125490\" points=\"253.5,-168 188.5,-168 188.5,-133 253.5,-133 253.5,-168\" stroke=\"transparent\"/>\n",
       "<text fill=\"#000000\" font-family=\"arial\" font-size=\"10.00\" text-anchor=\"start\" text-decoration=\"underline\" x=\"196.5\" y=\"-149\">LabelName</text>\n",
       "</a>\n",
       "</g>\n",
       "</g>\n",
       "<!-- LabelName&#45;&gt;MovieAnnotation -->\n",
       "<g class=\"edge\" id=\"edge10\">\n",
       "<title>LabelName-&gt;MovieAnnotation</title>\n",
       "<path d=\"M227.9214,-132.9494C232.1967,-122.1083 237.6673,-108.2366 241.9638,-97.3418\" fill=\"none\" stroke=\"#000000\" stroke-opacity=\"0.250980\" stroke-width=\".75\"/>\n",
       "</g>\n",
       "<!-- LabelName&#45;&gt;ProcessedMovieAnnotation -->\n",
       "<g class=\"edge\" id=\"edge11\">\n",
       "<title>LabelName-&gt;ProcessedMovieAnnotation</title>\n",
       "<path d=\"M188.4107,-133.8537C158.079,-118.3605 114.5338,-96.118 93.8183,-85.5367\" fill=\"none\" stroke=\"#000000\" stroke-opacity=\"0.250980\" stroke-width=\".75\"/>\n",
       "</g>\n",
       "<!-- Patient -->\n",
       "<g class=\"node\" id=\"node13\">\n",
       "<title>Patient</title>\n",
       "<g id=\"a_node13\"><a xlink:title=\"patient_id           \r",
       "------------------------------\r",
       "age                  \r",
       "gender               \r",
       "year                 \r",
       "removed_tissue=&quot;unknown&quot; \r",
       "epilepsy_type=&quot;unknown&quot; \r",
       "additional_information=&quot;&quot; \r",
       "\">\n",
       "<polygon fill=\"#000000\" fill-opacity=\"0.125490\" points=\"892.5,-239 845.5,-239 845.5,-204 892.5,-204 892.5,-239\" stroke=\"transparent\"/>\n",
       "<text fill=\"#000000\" font-family=\"arial\" font-size=\"10.00\" text-anchor=\"start\" text-decoration=\"underline\" x=\"853.5\" y=\"-220\">Patient</text>\n",
       "</a>\n",
       "</g>\n",
       "</g>\n",
       "<!-- Patient&#45;&gt;ElectrodeUnit -->\n",
       "<g class=\"edge\" id=\"edge12\">\n",
       "<title>Patient-&gt;ElectrodeUnit</title>\n",
       "<path d=\"M885.3146,-203.9494C895.6976,-192.7798 909.0712,-178.3931 919.3275,-167.3598\" fill=\"none\" stroke=\"#000000\" stroke-opacity=\"0.250980\" stroke-width=\".75\"/>\n",
       "</g>\n",
       "<!-- MovieSession -->\n",
       "<g class=\"node\" id=\"node16\">\n",
       "<title>MovieSession</title>\n",
       "<g id=\"a_node16\"><a xlink:title=\"session_nr           \r",
       "→ Patient\r",
       "------------------------------\r",
       "date                 \r",
       "time                 \r",
       "order_movie_frames   \r",
       "cpu_time             \r",
       "neural_recording_time \r",
       "channel_names        \r",
       "additional_information=&quot;&quot; \r",
       "\">\n",
       "<ellipse cx=\"796\" cy=\"-150.5\" fill=\"#00007f\" fill-opacity=\"0.250980\" rx=\"57.5\" ry=\"17.5\" stroke=\"#00007f\" stroke-opacity=\"0.250980\"/>\n",
       "<text fill=\"#00007f\" font-family=\"arial\" font-size=\"12.00\" text-anchor=\"start\" text-decoration=\"underline\" x=\"758\" y=\"-148.4\">MovieSession</text>\n",
       "</a>\n",
       "</g>\n",
       "</g>\n",
       "<!-- Patient&#45;&gt;MovieSession -->\n",
       "<g class=\"edge\" id=\"edge13\">\n",
       "<title>Patient-&gt;MovieSession</title>\n",
       "<path d=\"M850.9551,-203.9494C839.4708,-192.7798 824.6788,-178.3931 813.3347,-167.3598\" fill=\"none\" stroke=\"#000000\" stroke-opacity=\"0.250980\" stroke-width=\".75\"/>\n",
       "</g>\n",
       "<!-- ProcessedMovieAnnotation&#45;&gt;ProcessedMovieAnnotation.Entry -->\n",
       "<g class=\"edge\" id=\"edge14\">\n",
       "<title>ProcessedMovieAnnotation-&gt;ProcessedMovieAnnotation.Entry</title>\n",
       "<path d=\"M82,-66.3617C82,-53.4921 82,-34.1836 82,-22.663\" fill=\"none\" stroke=\"#000000\" stroke-opacity=\"0.250980\" stroke-width=\".75\"/>\n",
       "</g>\n",
       "<!-- MovieSession&#45;&gt;SpikeTimesDuringMovie -->\n",
       "<g class=\"edge\" id=\"edge15\">\n",
       "<title>MovieSession-&gt;SpikeTimesDuringMovie</title>\n",
       "<path d=\"M840.9119,-139.4472C850.4897,-137.2113 860.5622,-134.9503 870,-133 913.4109,-124.0294 1028.1021,-104.0966 1102.9904,-91.2558\" fill=\"none\" stroke=\"#000000\" stroke-opacity=\"0.250980\" stroke-width=\".75\"/>\n",
       "</g>\n",
       "<!-- MovieSession&#45;&gt;MoviePauses -->\n",
       "<g class=\"edge\" id=\"edge16\">\n",
       "<title>MovieSession-&gt;MoviePauses</title>\n",
       "<path d=\"M771.5383,-134.5662C748.5655,-119.6023 715.2374,-97.8932 698.098,-86.729\" fill=\"none\" stroke=\"#000000\" stroke-opacity=\"0.250980\" stroke-width=\"2\"/>\n",
       "</g>\n",
       "<!-- MovieSession&#45;&gt;ManualAnnotation -->\n",
       "<g class=\"edge\" id=\"edge17\">\n",
       "<title>MovieSession-&gt;ManualAnnotation</title>\n",
       "<path d=\"M755.5865,-137.9701C718.9922,-126.6242 664.7044,-109.7926 623.7596,-97.0979\" fill=\"none\" stroke=\"#000000\" stroke-opacity=\"0.250980\" stroke-width=\".75\"/>\n",
       "</g>\n",
       "<!-- MovieSession&#45;&gt;MovieSkips -->\n",
       "<g class=\"edge\" id=\"edge18\">\n",
       "<title>MovieSession-&gt;MovieSkips</title>\n",
       "<path d=\"M794.2697,-132.9494C793.0389,-120.4658 791.4119,-103.9634 790.2931,-92.6156\" fill=\"none\" stroke=\"#000000\" stroke-opacity=\"0.250980\" stroke-width=\"2\"/>\n",
       "</g>\n",
       "<!-- MovieSession&#45;&gt;UnitLevelDataCleaning -->\n",
       "<g class=\"edge\" id=\"edge19\">\n",
       "<title>MovieSession-&gt;UnitLevelDataCleaning</title>\n",
       "<path d=\"M825.4783,-135.4427C848.1108,-123.8823 879.3328,-107.9343 902.6518,-96.0232\" fill=\"none\" stroke=\"#000000\" stroke-opacity=\"0.250980\" stroke-width=\".75\"/>\n",
       "</g>\n",
       "<!-- MovieSession&#45;&gt;PatientLevelDataCleaning -->\n",
       "<g class=\"edge\" id=\"edge20\">\n",
       "<title>MovieSession-&gt;PatientLevelDataCleaning</title>\n",
       "<path d=\"M746.1052,-141.7163C687.405,-131.3211 587.0346,-113.3548 501,-97 498.0924,-96.4473 495.1317,-95.8802 492.1418,-95.304\" fill=\"none\" stroke=\"#000000\" stroke-opacity=\"0.250980\" stroke-width=\".75\"/>\n",
       "</g>\n",
       "<!-- MovieSession&#45;&gt;PatientAlignedMovieAnnotation -->\n",
       "<g class=\"edge\" id=\"edge21\">\n",
       "<title>MovieSession-&gt;PatientAlignedMovieAnnotation</title>\n",
       "<path d=\"M841.3716,-139.6578C850.8266,-137.43 860.734,-135.1188 870,-133 947.0306,-115.3862 1085.0779,-121.4293 1033,-62 1008.8717,-34.4657 738.9825,-17.3581 676.0586,-13.7266\" fill=\"none\" stroke=\"#000000\" stroke-opacity=\"0.250980\" stroke-width=\".75\"/>\n",
       "</g>\n",
       "</g>\n",
       "</svg>"
      ],
      "text/plain": [
       "<datajoint.diagram.Diagram at 0x7f3cbb17f490>"
      ]
     },
     "execution_count": 19,
     "metadata": {},
     "output_type": "execute_result"
    }
   ],
   "source": [
    "erd = dj.ERD(dhv_schema)\n",
    "erd"
   ]
  },
  {
   "cell_type": "code",
   "execution_count": 23,
   "metadata": {},
   "outputs": [
    {
     "data": {
      "text/html": [
       "\n",
       "        \n",
       "        <style type=\"text/css\">\n",
       "            .Relation{\n",
       "                border-collapse:collapse;\n",
       "            }\n",
       "            .Relation th{\n",
       "                background: #A0A0A0; color: #ffffff; padding:4px; border:#f0e0e0 1px solid;\n",
       "                font-weight: normal; font-family: monospace; font-size: 100%;\n",
       "            }\n",
       "            .Relation td{\n",
       "                padding:4px; border:#f0e0e0 1px solid; font-size:100%;\n",
       "            }\n",
       "            .Relation tr:nth-child(odd){\n",
       "                background: #ffffff;\n",
       "            }\n",
       "            .Relation tr:nth-child(even){\n",
       "                background: #f3f1ff;\n",
       "            }\n",
       "            /* Tooltip container */\n",
       "            .djtooltip {\n",
       "            }\n",
       "            /* Tooltip text */\n",
       "            .djtooltip .djtooltiptext {\n",
       "                visibility: hidden;\n",
       "                width: 120px;\n",
       "                background-color: black;\n",
       "                color: #fff;\n",
       "                text-align: center;\n",
       "                padding: 5px 0;\n",
       "                border-radius: 6px;\n",
       "                /* Position the tooltip text - see examples below! */\n",
       "                position: absolute;\n",
       "                z-index: 1;\n",
       "            }\n",
       "            #primary {\n",
       "                font-weight: bold;\n",
       "                color: black;\n",
       "            }\n",
       "\n",
       "            #nonprimary {\n",
       "                font-weight: normal;\n",
       "                color: white;\n",
       "            }\n",
       "\n",
       "            /* Show the tooltip text when you mouse over the tooltip container */\n",
       "            .djtooltip:hover .djtooltiptext {\n",
       "                visibility: visible;\n",
       "            }\n",
       "        </style>\n",
       "        \n",
       "        <b>data of individual movie watching sessions</b>\n",
       "            <div style=\"max-height:1000px;max-width:1500px;overflow:auto;\">\n",
       "            <table border=\"1\" class=\"Relation\">\n",
       "                <thead> <tr style=\"text-align: right;\"> <th> <div class=\"djtooltip\">\n",
       "                                <p id=\"primary\">session_nr</p>\n",
       "                                <span class=\"djtooltiptext\">session ID</span>\n",
       "                            </div></th><th><div class=\"djtooltip\">\n",
       "                                <p id=\"primary\">patient_id</p>\n",
       "                                <span class=\"djtooltiptext\">patient ID</span>\n",
       "                            </div></th><th><div class=\"djtooltip\">\n",
       "                                <p id=\"nonprimary\">date</p>\n",
       "                                <span class=\"djtooltiptext\">date of movie session</span>\n",
       "                            </div></th><th><div class=\"djtooltip\">\n",
       "                                <p id=\"nonprimary\">time</p>\n",
       "                                <span class=\"djtooltiptext\"></span>\n",
       "                            </div></th><th><div class=\"djtooltip\">\n",
       "                                <p id=\"nonprimary\">order_movie_frames</p>\n",
       "                                <span class=\"djtooltiptext\">order of movie frames for patient (watch log)</span>\n",
       "                            </div></th><th><div class=\"djtooltip\">\n",
       "                                <p id=\"nonprimary\">cpu_time</p>\n",
       "                                <span class=\"djtooltiptext\">cpu time stamps (dts)</span>\n",
       "                            </div></th><th><div class=\"djtooltip\">\n",
       "                                <p id=\"nonprimary\">neural_recording_time</p>\n",
       "                                <span class=\"djtooltiptext\">neural recording time (rectime)</span>\n",
       "                            </div></th><th><div class=\"djtooltip\">\n",
       "                                <p id=\"nonprimary\">channel_names</p>\n",
       "                                <span class=\"djtooltiptext\">list of brain regions</span>\n",
       "                            </div></th><th><div class=\"djtooltip\">\n",
       "                                <p id=\"nonprimary\">additional_information</p>\n",
       "                                <span class=\"djtooltiptext\">space for additional information</span>\n",
       "                            </div> </th> </tr> </thead>\n",
       "                <tbody> <tr> <td>1</td>\n",
       "<td>1</td>\n",
       "<td>2019-01-01</td>\n",
       "<td>12:00:00</td>\n",
       "<td>=BLOB=</td>\n",
       "<td>=BLOB=</td>\n",
       "<td>=BLOB=</td>\n",
       "<td>=BLOB=</td>\n",
       "<td></td></tr><tr><td>1</td>\n",
       "<td>2</td>\n",
       "<td>2019-01-01</td>\n",
       "<td>12:00:00</td>\n",
       "<td>=BLOB=</td>\n",
       "<td>=BLOB=</td>\n",
       "<td>=BLOB=</td>\n",
       "<td>=BLOB=</td>\n",
       "<td></td></tr><tr><td>1</td>\n",
       "<td>3</td>\n",
       "<td>2019-01-01</td>\n",
       "<td>12:00:00</td>\n",
       "<td>=BLOB=</td>\n",
       "<td>=BLOB=</td>\n",
       "<td>=BLOB=</td>\n",
       "<td>=BLOB=</td>\n",
       "<td></td> </tr> </tbody>\n",
       "            </table>\n",
       "            \n",
       "            <p>Total: 3</p></div>\n",
       "            "
      ],
      "text/plain": [
       "*session_nr    *patient_id    date           time         order_movi cpu_time   neural_rec channel_na additional_inf\n",
       "+------------+ +------------+ +------------+ +----------+ +--------+ +--------+ +--------+ +--------+ +------------+\n",
       "1              1              2019-01-01     12:00:00     =BLOB=     =BLOB=     =BLOB=     =BLOB=                   \n",
       "1              2              2019-01-01     12:00:00     =BLOB=     =BLOB=     =BLOB=     =BLOB=                   \n",
       "1              3              2019-01-01     12:00:00     =BLOB=     =BLOB=     =BLOB=     =BLOB=                   \n",
       " (Total: 3)"
      ]
     },
     "execution_count": 23,
     "metadata": {},
     "output_type": "execute_result"
    }
   ],
   "source": [
    "MovieSession()"
   ]
  },
  {
   "cell_type": "code",
   "execution_count": 24,
   "metadata": {},
   "outputs": [
    {
     "name": "stdout",
     "output_type": "stream",
     "text": [
      "Note: Divide the patient dts vector by 1000 to get milliseconds\n"
     ]
    }
   ],
   "source": [
    "dts = get_dts_of_patient(patient_id, session_nr)\n",
    "dts = dts /  1000"
   ]
  },
  {
   "cell_type": "code",
   "execution_count": 25,
   "metadata": {},
   "outputs": [
    {
     "data": {
      "text/plain": [
       "1590528227649.515"
      ]
     },
     "execution_count": 25,
     "metadata": {},
     "output_type": "execute_result"
    }
   ],
   "source": [
    "dts[0]"
   ]
  },
  {
   "cell_type": "code",
   "execution_count": 26,
   "metadata": {},
   "outputs": [
    {
     "data": {
      "text/plain": [
       "[<matplotlib.lines.Line2D at 0x7f3cba72b750>]"
      ]
     },
     "execution_count": 26,
     "metadata": {},
     "output_type": "execute_result"
    },
    {
     "data": {
      "image/png": "[encoded data removed]",
      "text/plain": [
       "<Figure size 432x288 with 1 Axes>"
      ]
     },
     "metadata": {
      "needs_background": "light"
     },
     "output_type": "display_data"
    }
   ],
   "source": [
    "plt.plot(dts)"
   ]
  },
  {
   "cell_type": "markdown",
   "metadata": {},
   "source": [
    "Using edges outputted above, generate a vector representing when a feature was presented during the stimulus:  "
   ]
  },
  {
   "cell_type": "code",
   "execution_count": 22,
   "metadata": {},
   "outputs": [
    {
     "data": {
      "text/html": [
       "\n",
       "        \n",
       "        <style type=\"text/css\">\n",
       "            .Relation{\n",
       "                border-collapse:collapse;\n",
       "            }\n",
       "            .Relation th{\n",
       "                background: #A0A0A0; color: #ffffff; padding:4px; border:#f0e0e0 1px solid;\n",
       "                font-weight: normal; font-family: monospace; font-size: 100%;\n",
       "            }\n",
       "            .Relation td{\n",
       "                padding:4px; border:#f0e0e0 1px solid; font-size:100%;\n",
       "            }\n",
       "            .Relation tr:nth-child(odd){\n",
       "                background: #ffffff;\n",
       "            }\n",
       "            .Relation tr:nth-child(even){\n",
       "                background: #f3f1ff;\n",
       "            }\n",
       "            /* Tooltip container */\n",
       "            .djtooltip {\n",
       "            }\n",
       "            /* Tooltip text */\n",
       "            .djtooltip .djtooltiptext {\n",
       "                visibility: hidden;\n",
       "                width: 120px;\n",
       "                background-color: black;\n",
       "                color: #fff;\n",
       "                text-align: center;\n",
       "                padding: 5px 0;\n",
       "                border-radius: 6px;\n",
       "                /* Position the tooltip text - see examples below! */\n",
       "                position: absolute;\n",
       "                z-index: 1;\n",
       "            }\n",
       "            #primary {\n",
       "                font-weight: bold;\n",
       "                color: black;\n",
       "            }\n",
       "\n",
       "            #nonprimary {\n",
       "                font-weight: normal;\n",
       "                color: white;\n",
       "            }\n",
       "\n",
       "            /* Show the tooltip text when you mouse over the tooltip container */\n",
       "            .djtooltip:hover .djtooltiptext {\n",
       "                visibility: visible;\n",
       "            }\n",
       "        </style>\n",
       "        \n",
       "        <b>Movie Annotations aligned to patient time / time points are in neural recording time</b>\n",
       "            <div style=\"max-height:1000px;max-width:1500px;overflow:auto;\">\n",
       "            <table border=\"1\" class=\"Relation\">\n",
       "                <thead> <tr style=\"text-align: right;\"> <th> <div class=\"djtooltip\">\n",
       "                                <p id=\"primary\">annotator_id</p>\n",
       "                                <span class=\"djtooltiptext\">unique ID for each annotator</span>\n",
       "                            </div></th><th><div class=\"djtooltip\">\n",
       "                                <p id=\"primary\">label_name</p>\n",
       "                                <span class=\"djtooltiptext\">label name</span>\n",
       "                            </div></th><th><div class=\"djtooltip\">\n",
       "                                <p id=\"primary\">annotation_date</p>\n",
       "                                <span class=\"djtooltiptext\">date of annotation</span>\n",
       "                            </div></th><th><div class=\"djtooltip\">\n",
       "                                <p id=\"primary\">session_nr</p>\n",
       "                                <span class=\"djtooltiptext\">session ID</span>\n",
       "                            </div></th><th><div class=\"djtooltip\">\n",
       "                                <p id=\"primary\">patient_id</p>\n",
       "                                <span class=\"djtooltiptext\">patient ID</span>\n",
       "                            </div></th><th><div class=\"djtooltip\">\n",
       "                                <p id=\"nonprimary\">label_in_patient_time</p>\n",
       "                                <span class=\"djtooltiptext\">label matched to patient time (pts)</span>\n",
       "                            </div></th><th><div class=\"djtooltip\">\n",
       "                                <p id=\"nonprimary\">values</p>\n",
       "                                <span class=\"djtooltiptext\">list of values that represent label</span>\n",
       "                            </div></th><th><div class=\"djtooltip\">\n",
       "                                <p id=\"nonprimary\">start_times</p>\n",
       "                                <span class=\"djtooltiptext\">list of start times of label segments in neural recording time</span>\n",
       "                            </div></th><th><div class=\"djtooltip\">\n",
       "                                <p id=\"nonprimary\">stop_times</p>\n",
       "                                <span class=\"djtooltiptext\">list of stop times of label segments in neural recording time</span>\n",
       "                            </div></th><th><div class=\"djtooltip\">\n",
       "                                <p id=\"nonprimary\">additionl_information</p>\n",
       "                                <span class=\"djtooltiptext\"></span>\n",
       "                            </div> </th> </tr> </thead>\n",
       "                <tbody> <tr> <td>p1</td>\n",
       "<td>character1</td>\n",
       "<td>2019-12-12</td>\n",
       "<td>1</td>\n",
       "<td>1</td>\n",
       "<td>=BLOB=</td>\n",
       "<td>=BLOB=</td>\n",
       "<td>=BLOB=</td>\n",
       "<td>=BLOB=</td>\n",
       "<td></td></tr><tr><td>p1</td>\n",
       "<td>character1</td>\n",
       "<td>2019-12-12</td>\n",
       "<td>1</td>\n",
       "<td>2</td>\n",
       "<td>=BLOB=</td>\n",
       "<td>=BLOB=</td>\n",
       "<td>=BLOB=</td>\n",
       "<td>=BLOB=</td>\n",
       "<td></td></tr><tr><td>p1</td>\n",
       "<td>character1</td>\n",
       "<td>2019-12-12</td>\n",
       "<td>1</td>\n",
       "<td>3</td>\n",
       "<td>=BLOB=</td>\n",
       "<td>=BLOB=</td>\n",
       "<td>=BLOB=</td>\n",
       "<td>=BLOB=</td>\n",
       "<td></td></tr><tr><td>p1</td>\n",
       "<td>character2</td>\n",
       "<td>2019-10-10</td>\n",
       "<td>1</td>\n",
       "<td>1</td>\n",
       "<td>=BLOB=</td>\n",
       "<td>=BLOB=</td>\n",
       "<td>=BLOB=</td>\n",
       "<td>=BLOB=</td>\n",
       "<td></td></tr><tr><td>p1</td>\n",
       "<td>character2</td>\n",
       "<td>2019-10-10</td>\n",
       "<td>1</td>\n",
       "<td>2</td>\n",
       "<td>=BLOB=</td>\n",
       "<td>=BLOB=</td>\n",
       "<td>=BLOB=</td>\n",
       "<td>=BLOB=</td>\n",
       "<td></td></tr><tr><td>p1</td>\n",
       "<td>character2</td>\n",
       "<td>2019-10-10</td>\n",
       "<td>1</td>\n",
       "<td>3</td>\n",
       "<td>=BLOB=</td>\n",
       "<td>=BLOB=</td>\n",
       "<td>=BLOB=</td>\n",
       "<td>=BLOB=</td>\n",
       "<td></td></tr><tr><td>p1</td>\n",
       "<td>location1</td>\n",
       "<td>2020-01-01</td>\n",
       "<td>1</td>\n",
       "<td>1</td>\n",
       "<td>=BLOB=</td>\n",
       "<td>=BLOB=</td>\n",
       "<td>=BLOB=</td>\n",
       "<td>=BLOB=</td>\n",
       "<td></td></tr><tr><td>p1</td>\n",
       "<td>location1</td>\n",
       "<td>2020-01-01</td>\n",
       "<td>1</td>\n",
       "<td>2</td>\n",
       "<td>=BLOB=</td>\n",
       "<td>=BLOB=</td>\n",
       "<td>=BLOB=</td>\n",
       "<td>=BLOB=</td>\n",
       "<td></td></tr><tr><td>p1</td>\n",
       "<td>location1</td>\n",
       "<td>2020-01-01</td>\n",
       "<td>1</td>\n",
       "<td>3</td>\n",
       "<td>=BLOB=</td>\n",
       "<td>=BLOB=</td>\n",
       "<td>=BLOB=</td>\n",
       "<td>=BLOB=</td>\n",
       "<td></td> </tr> </tbody>\n",
       "            </table>\n",
       "            \n",
       "            <p>Total: 9</p></div>\n",
       "            "
      ],
      "text/plain": [
       "*annotator_id  *label_name    *annotation_da *session_nr    *patient_id    label_in_p values     start_time stop_times additionl_info\n",
       "+------------+ +------------+ +------------+ +------------+ +------------+ +--------+ +--------+ +--------+ +--------+ +------------+\n",
       "p1             character1     2019-12-12     1              1              =BLOB=     =BLOB=     =BLOB=     =BLOB=                   \n",
       "p1             character1     2019-12-12     1              2              =BLOB=     =BLOB=     =BLOB=     =BLOB=                   \n",
       "p1             character1     2019-12-12     1              3              =BLOB=     =BLOB=     =BLOB=     =BLOB=                   \n",
       "p1             character2     2019-10-10     1              1              =BLOB=     =BLOB=     =BLOB=     =BLOB=                   \n",
       "p1             character2     2019-10-10     1              2              =BLOB=     =BLOB=     =BLOB=     =BLOB=                   \n",
       "p1             character2     2019-10-10     1              3              =BLOB=     =BLOB=     =BLOB=     =BLOB=                   \n",
       "p1             location1      2020-01-01     1              1              =BLOB=     =BLOB=     =BLOB=     =BLOB=                   \n",
       "p1             location1      2020-01-01     1              2              =BLOB=     =BLOB=     =BLOB=     =BLOB=                   \n",
       "p1             location1      2020-01-01     1              3              =BLOB=     =BLOB=     =BLOB=     =BLOB=                   \n",
       " (Total: 9)"
      ]
     },
     "execution_count": 22,
     "metadata": {},
     "output_type": "execute_result"
    }
   ],
   "source": [
    "PatientAlignedMovieAnnotation()"
   ]
  },
  {
   "cell_type": "code",
   "execution_count": 7,
   "metadata": {},
   "outputs": [],
   "source": [
    "label_name = \"character1\"\n",
    "annotator_id = \"p1\"\n",
    "annotation_date = \"2019-12-12\t\"\n",
    "\n",
    "values, starts, stops = get_patient_aligned_annotations(patient_id, label_name, annotator_id, annotation_date)"
   ]
  },
  {
   "cell_type": "code",
   "execution_count": 28,
   "metadata": {},
   "outputs": [
    {
     "data": {
      "text/plain": [
       "array([349861.92504688])"
      ]
     },
     "execution_count": 28,
     "metadata": {},
     "output_type": "execute_result"
    }
   ],
   "source": [
    "starts"
   ]
  },
  {
   "cell_type": "code",
   "execution_count": 29,
   "metadata": {},
   "outputs": [
    {
     "data": {
      "text/plain": [
       "array([839145.916875])"
      ]
     },
     "execution_count": 29,
     "metadata": {},
     "output_type": "execute_result"
    }
   ],
   "source": [
    "stops"
   ]
  },
  {
   "cell_type": "code",
   "execution_count": 30,
   "metadata": {},
   "outputs": [
    {
     "data": {
      "text/plain": [
       "array([0])"
      ]
     },
     "execution_count": 30,
     "metadata": {},
     "output_type": "execute_result"
    }
   ],
   "source": [
    "values"
   ]
  },
  {
   "cell_type": "code",
   "execution_count": 8,
   "metadata": {},
   "outputs": [],
   "source": [
    "character1_binned = create.create_vector_from_start_stop_times_reference(edges, values, starts, stops)"
   ]
  },
  {
   "cell_type": "code",
   "execution_count": 9,
   "metadata": {},
   "outputs": [
    {
     "data": {
      "image/png": "[encoded data removed]",
      "text/plain": [
       "<Figure size 1440x216 with 1 Axes>"
      ]
     },
     "metadata": {
      "needs_background": "light"
     },
     "output_type": "display_data"
    }
   ],
   "source": [
    "fig = plt.figure(figsize=(20,3))\n",
    "plt.plot(binned_spikes, label=\"Neural Activity\")\n",
    "plt.plot(character1_binned, color=\"r\", label=\"Stimulus Label\")\n",
    "if exclude_pauses:\n",
    "    plt.title(\"Binned spikes excluding pauses - patient {}, unit {}\".format(patient_id, unit_nr), fontsize=20)\n",
    "else:\n",
    "    plt.title(\"Binned spikes including pauses - patient {}, unit {}\".format(patient_id, unit_nr), fontsize=20)\n",
    "plt.xlabel(\"time (bin size {} milliseconds)\".format(bin_size), fontsize=15)\n",
    "plt.ylabel(\"firing rate\", fontsize=15)\n",
    "\n",
    "plt.legend()\n",
    "\n",
    "plt.show()"
   ]
  },
  {
   "cell_type": "markdown",
   "metadata": {},
   "source": [
    "Split activity into groups corresponding to the stimulus values, \n",
    "\n",
    "* One: Stimulus-on condition \n",
    "* Zero: Stimulus-off condition"
   ]
  },
  {
   "cell_type": "code",
   "execution_count": 65,
   "metadata": {},
   "outputs": [],
   "source": [
    "tom_splits = utils.split_activity_by_value(binned_spikes, tom_binned)\n",
    "tom_activity = SimpleNamespace(**tom_splits)"
   ]
  },
  {
   "cell_type": "code",
   "execution_count": 66,
   "metadata": {},
   "outputs": [
    {
     "name": "stdout",
     "output_type": "stream",
     "text": [
      "[0 1 1 ... 0 0 0]\n",
      "[4 1 2 ... 0 1 0]\n",
      "4804\n",
      "4804\n"
     ]
    }
   ],
   "source": [
    "print(tom_activity.zero)\n",
    "print(tom_activity.one)\n",
    "\n",
    "print(len(tom_activity.zero) + len(tom_activity.one))\n",
    "print(len(tom_binned))"
   ]
  },
  {
   "cell_type": "code",
   "execution_count": 69,
   "metadata": {},
   "outputs": [],
   "source": [
    "## TODO, add in perm testing module to use here \n",
    "## TODO: mock movie labels (original labels,  and then mock patient aligned labels. check that the watchlog can be sufficiently busted up )\n",
    "\n"
   ]
  }
 ],
 "metadata": {
  "kernelspec": {
   "display_name": "Python 3",
   "language": "python",
   "name": "python3"
  },
  "language_info": {
   "codemirror_mode": {
    "name": "ipython",
    "version": 3
   },
   "file_extension": ".py",
   "mimetype": "text/x-python",
   "name": "python",
   "nbconvert_exporter": "python",
   "pygments_lexer": "ipython3",
   "version": "3.7.7"
  }
 },
 "nbformat": 4,
 "nbformat_minor": 4
}
