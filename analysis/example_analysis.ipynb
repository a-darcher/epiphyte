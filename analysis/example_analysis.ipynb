{
 "cells": [
  {
   "cell_type": "markdown",
   "metadata": {},
   "source": [
    "# Example analysis pipeline\n",
    "\n",
    "## Simple comparison of neural activity during stimulus condition on/off \n"
   ]
  },
  {
   "cell_type": "markdown",
   "metadata": {},
   "source": [
    "Load in relevant local application modules:"
   ]
  },
  {
   "cell_type": "code",
   "execution_count": 1,
   "metadata": {},
   "outputs": [
    {
     "name": "stdin",
     "output_type": "stream",
     "text": [
      "Please enter DataJoint username:  root\n",
      "Please enter DataJoint password:  ···············\n"
     ]
    },
    {
     "name": "stdout",
     "output_type": "stream",
     "text": [
      "Connecting root@localhost:3306\n"
     ]
    }
   ],
   "source": [
    "import sys\n",
    "import matplotlib.pyplot as plt\n",
    "\n",
    "import os\n",
    "import sys\n",
    "import numpy as np\n",
    "import random\n",
    "from random import uniform\n",
    "import copy\n",
    "\n",
    "from types import SimpleNamespace\n",
    "import inflect\n",
    "\n",
    "# Local application imports \n",
    "from database.db_setup import *\n",
    "import preprocessing.data_preprocessing.binning as binning\n",
    "import preprocessing.data_preprocessing.create_vectors_from_time_points as create\n",
    "import annotation.stimulus_driven_annotation.movies.annotation_utils as utils"
   ]
  },
  {
   "cell_type": "code",
   "execution_count": 2,
   "metadata": {},
   "outputs": [
    {
     "data": {
      "image/svg+xml": [
       "<svg height=\"247pt\" viewBox=\"0.00 0.00 1272.50 247.00\" width=\"1273pt\" xmlns=\"http://www.w3.org/2000/svg\" xmlns:xlink=\"http://www.w3.org/1999/xlink\">\n",
       "<g class=\"graph\" id=\"graph0\" transform=\"scale(1 1) rotate(0) translate(4 243)\">\n",
       "<title>%3</title>\n",
       "<polygon fill=\"#ffffff\" points=\"-4,4 -4,-243 1268.5,-243 1268.5,4 -4,4\" stroke=\"transparent\"/>\n",
       "<!-- ManualAnnotation -->\n",
       "<g class=\"node\" id=\"node1\">\n",
       "<title>ManualAnnotation</title>\n",
       "<g id=\"a_node1\"><a xlink:title=\"→ MovieSession\r",
       "→ Annotator\r",
       "label_entry_date     \r",
       "name                 \r",
       "------------------------------\r",
       "x_zero               \r",
       "x_one                \r",
       "y_zero               \r",
       "y_one                \r",
       "additional_information=&quot;&quot; \r",
       "\">\n",
       "<polygon fill=\"#00ff00\" fill-opacity=\"0.188235\" points=\"624,-97 510,-97 510,-62 624,-62 624,-97\" stroke=\"#00ff00\" stroke-opacity=\"0.188235\"/>\n",
       "<text fill=\"#006400\" font-family=\"arial\" font-size=\"12.00\" text-anchor=\"start\" text-decoration=\"underline\" x=\"518\" y=\"-77.4\">ManualAnnotation</text>\n",
       "</a>\n",
       "</g>\n",
       "</g>\n",
       "<!-- SpikeTimesDuringMovie -->\n",
       "<g class=\"node\" id=\"node2\">\n",
       "<title>SpikeTimesDuringMovie</title>\n",
       "<g id=\"a_node2\"><a xlink:title=\"→ ElectrodeUnit\r",
       "→ MovieSession\r",
       "------------------------------\r",
       "spike_times          \r",
       "\">\n",
       "<ellipse cx=\"1172\" cy=\"-79.5\" fill=\"#00007f\" fill-opacity=\"0.250980\" rx=\"92.5\" ry=\"17.5\" stroke=\"#00007f\" stroke-opacity=\"0.250980\"/>\n",
       "<text fill=\"#00007f\" font-family=\"arial\" font-size=\"12.00\" text-anchor=\"middle\" x=\"1172\" y=\"-76.4\">SpikeTimesDuringMovie</text>\n",
       "</a>\n",
       "</g>\n",
       "</g>\n",
       "<!-- ProcessedMovieAnnotation.Entry -->\n",
       "<g class=\"node\" id=\"node3\">\n",
       "<title>ProcessedMovieAnnotation.Entry</title>\n",
       "<g id=\"a_node3\"><a xlink:title=\"→ ProcessedMovieAnnotation\r",
       "→ MovieAnnotation\r",
       "\">\n",
       "<polygon fill=\"transparent\" points=\"163,-22.5 1,-22.5 1,-3.5 163,-3.5 163,-22.5\" stroke=\"transparent\"/>\n",
       "<text fill=\"#000000\" font-family=\"arial\" font-size=\"10.00\" text-anchor=\"middle\" x=\"82\" y=\"-10.5\">ProcessedMovieAnnotation.Entry</text>\n",
       "</a>\n",
       "</g>\n",
       "</g>\n",
       "<!-- MovieSession -->\n",
       "<g class=\"node\" id=\"node4\">\n",
       "<title>MovieSession</title>\n",
       "<g id=\"a_node4\"><a xlink:title=\"session_nr           \r",
       "→ Patient\r",
       "------------------------------\r",
       "date                 \r",
       "time                 \r",
       "order_movie_frames   \r",
       "cpu_time             \r",
       "neural_recording_time \r",
       "channel_names        \r",
       "additional_information=&quot;&quot; \r",
       "\">\n",
       "<ellipse cx=\"796\" cy=\"-150.5\" fill=\"#00007f\" fill-opacity=\"0.250980\" rx=\"57.5\" ry=\"17.5\" stroke=\"#00007f\" stroke-opacity=\"0.250980\"/>\n",
       "<text fill=\"#00007f\" font-family=\"arial\" font-size=\"12.00\" text-anchor=\"start\" text-decoration=\"underline\" x=\"758\" y=\"-148.4\">MovieSession</text>\n",
       "</a>\n",
       "</g>\n",
       "</g>\n",
       "<!-- MovieSession&#45;&gt;ManualAnnotation -->\n",
       "<g class=\"edge\" id=\"edge1\">\n",
       "<title>MovieSession-&gt;ManualAnnotation</title>\n",
       "<path d=\"M755.5865,-137.9701C718.9922,-126.6242 664.7044,-109.7926 623.7596,-97.0979\" fill=\"none\" stroke=\"#000000\" stroke-opacity=\"0.250980\" stroke-width=\".75\"/>\n",
       "</g>\n",
       "<!-- MovieSession&#45;&gt;SpikeTimesDuringMovie -->\n",
       "<g class=\"edge\" id=\"edge2\">\n",
       "<title>MovieSession-&gt;SpikeTimesDuringMovie</title>\n",
       "<path d=\"M840.9119,-139.4472C850.4897,-137.2113 860.5622,-134.9503 870,-133 913.4109,-124.0294 1028.1021,-104.0966 1102.9904,-91.2558\" fill=\"none\" stroke=\"#000000\" stroke-opacity=\"0.250980\" stroke-width=\".75\"/>\n",
       "</g>\n",
       "<!-- MoviePauses -->\n",
       "<g class=\"node\" id=\"node5\">\n",
       "<title>MoviePauses</title>\n",
       "<g id=\"a_node5\"><a xlink:title=\"→ MovieSession\r",
       "------------------------------\r",
       "start_times          \r",
       "stop_times           \r",
       "description=&quot;&quot;       \r",
       "further_information=&quot;&quot; \r",
       "\">\n",
       "<ellipse cx=\"687\" cy=\"-79.5\" fill=\"#ff0000\" fill-opacity=\"0.125490\" rx=\"13\" ry=\"13\" stroke=\"#ff0000\" stroke-opacity=\"0.125490\"/>\n",
       "<text fill=\"#7f0000\" font-family=\"arial\" font-size=\"12.00\" text-anchor=\"middle\" x=\"687\" y=\"-76.4\">MoviePauses</text>\n",
       "</a>\n",
       "</g>\n",
       "</g>\n",
       "<!-- MovieSession&#45;&gt;MoviePauses -->\n",
       "<g class=\"edge\" id=\"edge3\">\n",
       "<title>MovieSession-&gt;MoviePauses</title>\n",
       "<path d=\"M771.5383,-134.5662C748.5655,-119.6023 715.2374,-97.8932 698.098,-86.729\" fill=\"none\" stroke=\"#000000\" stroke-opacity=\"0.250980\" stroke-width=\"2\"/>\n",
       "</g>\n",
       "<!-- MovieSkips -->\n",
       "<g class=\"node\" id=\"node8\">\n",
       "<title>MovieSkips</title>\n",
       "<g id=\"a_node8\"><a xlink:title=\"→ MovieSession\r",
       "------------------------------\r",
       "values               \r",
       "start_times          \r",
       "stop_times           \r",
       "notes=&quot;&quot;             \r",
       "\">\n",
       "<ellipse cx=\"789\" cy=\"-79.5\" fill=\"#ff0000\" fill-opacity=\"0.125490\" rx=\"13\" ry=\"13\" stroke=\"#ff0000\" stroke-opacity=\"0.125490\"/>\n",
       "<text fill=\"#7f0000\" font-family=\"arial\" font-size=\"12.00\" text-anchor=\"middle\" x=\"789\" y=\"-76.4\">MovieSkips</text>\n",
       "</a>\n",
       "</g>\n",
       "</g>\n",
       "<!-- MovieSession&#45;&gt;MovieSkips -->\n",
       "<g class=\"edge\" id=\"edge4\">\n",
       "<title>MovieSession-&gt;MovieSkips</title>\n",
       "<path d=\"M794.2697,-132.9494C793.0389,-120.4658 791.4119,-103.9634 790.2931,-92.6156\" fill=\"none\" stroke=\"#000000\" stroke-opacity=\"0.250980\" stroke-width=\"2\"/>\n",
       "</g>\n",
       "<!-- UnitLevelDataCleaning -->\n",
       "<g class=\"node\" id=\"node10\">\n",
       "<title>UnitLevelDataCleaning</title>\n",
       "<g id=\"a_node10\"><a xlink:title=\"→ ElectrodeUnit\r",
       "→ MovieSession\r",
       "→ Annotator\r",
       "name                 \r",
       "------------------------------\r",
       "data                 \r",
       "description=&quot;&quot;       \r",
       "\">\n",
       "<ellipse cx=\"935\" cy=\"-79.5\" fill=\"#00007f\" fill-opacity=\"0.250980\" rx=\"88.5007\" ry=\"17.5\" stroke=\"#00007f\" stroke-opacity=\"0.250980\"/>\n",
       "<text fill=\"#00007f\" font-family=\"arial\" font-size=\"12.00\" text-anchor=\"start\" text-decoration=\"underline\" x=\"872\" y=\"-77.4\">UnitLevelDataCleaning</text>\n",
       "</a>\n",
       "</g>\n",
       "</g>\n",
       "<!-- MovieSession&#45;&gt;UnitLevelDataCleaning -->\n",
       "<g class=\"edge\" id=\"edge5\">\n",
       "<title>MovieSession-&gt;UnitLevelDataCleaning</title>\n",
       "<path d=\"M825.4783,-135.4427C848.1108,-123.8823 879.3328,-107.9343 902.6518,-96.0232\" fill=\"none\" stroke=\"#000000\" stroke-opacity=\"0.250980\" stroke-width=\".75\"/>\n",
       "</g>\n",
       "<!-- PatientAlignedMovieAnnotation -->\n",
       "<g class=\"node\" id=\"node11\">\n",
       "<title>PatientAlignedMovieAnnotation</title>\n",
       "<g id=\"a_node11\"><a xlink:title=\"→ MovieAnnotation\r",
       "→ MovieSession\r",
       "------------------------------\r",
       "label_in_patient_time \r",
       "values               \r",
       "start_times          \r",
       "stop_times           \r",
       "additionl_information=&quot;&quot; \r",
       "\">\n",
       "<ellipse cx=\"663\" cy=\"-13\" fill=\"#ff0000\" fill-opacity=\"0.125490\" rx=\"13\" ry=\"13\" stroke=\"#ff0000\" stroke-opacity=\"0.125490\"/>\n",
       "<text fill=\"#7f0000\" font-family=\"arial\" font-size=\"12.00\" text-anchor=\"middle\" x=\"663\" y=\"-9.9\">PatientAlignedMovieAnnotation</text>\n",
       "</a>\n",
       "</g>\n",
       "</g>\n",
       "<!-- MovieSession&#45;&gt;PatientAlignedMovieAnnotation -->\n",
       "<g class=\"edge\" id=\"edge6\">\n",
       "<title>MovieSession-&gt;PatientAlignedMovieAnnotation</title>\n",
       "<path d=\"M841.3716,-139.6578C850.8266,-137.43 860.734,-135.1188 870,-133 947.0306,-115.3862 1085.0779,-121.4293 1033,-62 1008.8717,-34.4657 738.9825,-17.3581 676.0586,-13.7266\" fill=\"none\" stroke=\"#000000\" stroke-opacity=\"0.250980\" stroke-width=\".75\"/>\n",
       "</g>\n",
       "<!-- PatientLevelDataCleaning -->\n",
       "<g class=\"node\" id=\"node12\">\n",
       "<title>PatientLevelDataCleaning</title>\n",
       "<g id=\"a_node12\"><a xlink:title=\"→ MovieSession\r",
       "→ Annotator\r",
       "name                 \r",
       "------------------------------\r",
       "data                 \r",
       "description=&quot;&quot;       \r",
       "\">\n",
       "<polygon fill=\"#00ff00\" fill-opacity=\"0.188235\" points=\"492,-97 334,-97 334,-62 492,-62 492,-97\" stroke=\"#00ff00\" stroke-opacity=\"0.188235\"/>\n",
       "<text fill=\"#006400\" font-family=\"arial\" font-size=\"12.00\" text-anchor=\"start\" text-decoration=\"underline\" x=\"342\" y=\"-77.4\">PatientLevelDataCleaning</text>\n",
       "</a>\n",
       "</g>\n",
       "</g>\n",
       "<!-- MovieSession&#45;&gt;PatientLevelDataCleaning -->\n",
       "<g class=\"edge\" id=\"edge7\">\n",
       "<title>MovieSession-&gt;PatientLevelDataCleaning</title>\n",
       "<path d=\"M746.1052,-141.7163C687.405,-131.3211 587.0346,-113.3548 501,-97 498.0924,-96.4473 495.1317,-95.8802 492.1418,-95.304\" fill=\"none\" stroke=\"#000000\" stroke-opacity=\"0.250980\" stroke-width=\".75\"/>\n",
       "</g>\n",
       "<!-- LabelName -->\n",
       "<g class=\"node\" id=\"node6\">\n",
       "<title>LabelName</title>\n",
       "<g id=\"a_node6\"><a xlink:title=\"label_name           \r",
       "\">\n",
       "<polygon fill=\"#000000\" fill-opacity=\"0.125490\" points=\"253.5,-168 188.5,-168 188.5,-133 253.5,-133 253.5,-168\" stroke=\"transparent\"/>\n",
       "<text fill=\"#000000\" font-family=\"arial\" font-size=\"10.00\" text-anchor=\"start\" text-decoration=\"underline\" x=\"196.5\" y=\"-149\">LabelName</text>\n",
       "</a>\n",
       "</g>\n",
       "</g>\n",
       "<!-- MovieAnnotation -->\n",
       "<g class=\"node\" id=\"node15\">\n",
       "<title>MovieAnnotation</title>\n",
       "<g id=\"a_node15\"><a xlink:title=\"→ Annotator\r",
       "→ LabelName\r",
       "annotation_date      \r",
       "------------------------------\r",
       "values               \r",
       "start_times          \r",
       "stop_times           \r",
       "category             \r",
       "indicator_function   \r",
       "additional_information=&quot;&quot; \r",
       "\">\n",
       "<ellipse cx=\"249\" cy=\"-79.5\" fill=\"#00007f\" fill-opacity=\"0.250980\" rx=\"66.7502\" ry=\"17.5\" stroke=\"#00007f\" stroke-opacity=\"0.250980\"/>\n",
       "<text fill=\"#00007f\" font-family=\"arial\" font-size=\"12.00\" text-anchor=\"start\" text-decoration=\"underline\" x=\"203.5\" y=\"-77.4\">MovieAnnotation</text>\n",
       "</a>\n",
       "</g>\n",
       "</g>\n",
       "<!-- LabelName&#45;&gt;MovieAnnotation -->\n",
       "<g class=\"edge\" id=\"edge8\">\n",
       "<title>LabelName-&gt;MovieAnnotation</title>\n",
       "<path d=\"M227.9214,-132.9494C232.1967,-122.1083 237.6673,-108.2366 241.9638,-97.3418\" fill=\"none\" stroke=\"#000000\" stroke-opacity=\"0.250980\" stroke-width=\".75\"/>\n",
       "</g>\n",
       "<!-- ProcessedMovieAnnotation -->\n",
       "<g class=\"node\" id=\"node16\">\n",
       "<title>ProcessedMovieAnnotation</title>\n",
       "<g id=\"a_node16\"><a xlink:title=\"→ LabelName\r",
       "→ LabelProcessingMethod\r",
       "last_entry_date      \r",
       "------------------------------\r",
       "processed_frames     \r",
       "\">\n",
       "<ellipse cx=\"82\" cy=\"-79.5\" fill=\"#ff0000\" fill-opacity=\"0.125490\" rx=\"13\" ry=\"13\" stroke=\"#ff0000\" stroke-opacity=\"0.125490\"/>\n",
       "<text fill=\"#7f0000\" font-family=\"arial\" font-size=\"12.00\" text-anchor=\"start\" text-decoration=\"underline\" x=\"8\" y=\"-77.4\">ProcessedMovieAnnotation</text>\n",
       "</a>\n",
       "</g>\n",
       "</g>\n",
       "<!-- LabelName&#45;&gt;ProcessedMovieAnnotation -->\n",
       "<g class=\"edge\" id=\"edge9\">\n",
       "<title>LabelName-&gt;ProcessedMovieAnnotation</title>\n",
       "<path d=\"M188.4107,-133.8537C158.079,-118.3605 114.5338,-96.118 93.8183,-85.5367\" fill=\"none\" stroke=\"#000000\" stroke-opacity=\"0.250980\" stroke-width=\".75\"/>\n",
       "</g>\n",
       "<!-- Annotator -->\n",
       "<g class=\"node\" id=\"node7\">\n",
       "<title>Annotator</title>\n",
       "<g id=\"a_node7\"><a xlink:title=\"annotator_id         \r",
       "------------------------------\r",
       "first_name           \r",
       "last_name            \r",
       "additional_information=&quot;&quot; \r",
       "\">\n",
       "<polygon fill=\"#000000\" fill-opacity=\"0.125490\" points=\"519.5,-168 460.5,-168 460.5,-133 519.5,-133 519.5,-168\" stroke=\"transparent\"/>\n",
       "<text fill=\"#000000\" font-family=\"arial\" font-size=\"10.00\" text-anchor=\"start\" text-decoration=\"underline\" x=\"468.5\" y=\"-149\">Annotator</text>\n",
       "</a>\n",
       "</g>\n",
       "</g>\n",
       "<!-- Annotator&#45;&gt;ManualAnnotation -->\n",
       "<g class=\"edge\" id=\"edge10\">\n",
       "<title>Annotator-&gt;ManualAnnotation</title>\n",
       "<path d=\"M509.0337,-132.9494C520.88,-122.0262 536.0631,-108.0262 547.9184,-97.0947\" fill=\"none\" stroke=\"#000000\" stroke-opacity=\"0.250980\" stroke-width=\".75\"/>\n",
       "</g>\n",
       "<!-- Annotator&#45;&gt;UnitLevelDataCleaning -->\n",
       "<g class=\"edge\" id=\"edge11\">\n",
       "<title>Annotator-&gt;UnitLevelDataCleaning</title>\n",
       "<path d=\"M519.8342,-146.18C580.0567,-137.4008 720.4324,-116.6391 838,-97 848.3801,-95.266 859.3711,-93.3552 870.0803,-91.4526\" fill=\"none\" stroke=\"#000000\" stroke-opacity=\"0.250980\" stroke-width=\".75\"/>\n",
       "</g>\n",
       "<!-- Annotator&#45;&gt;PatientLevelDataCleaning -->\n",
       "<g class=\"edge\" id=\"edge12\">\n",
       "<title>Annotator-&gt;PatientLevelDataCleaning</title>\n",
       "<path d=\"M470.9663,-132.9494C459.12,-122.0262 443.9369,-108.0262 432.0816,-97.0947\" fill=\"none\" stroke=\"#000000\" stroke-opacity=\"0.250980\" stroke-width=\".75\"/>\n",
       "</g>\n",
       "<!-- Annotator&#45;&gt;MovieAnnotation -->\n",
       "<g class=\"edge\" id=\"edge13\">\n",
       "<title>Annotator-&gt;MovieAnnotation</title>\n",
       "<path d=\"M460.4487,-141.794C418.7192,-129.5003 342.1995,-106.9571 293.5543,-92.6259\" fill=\"none\" stroke=\"#000000\" stroke-opacity=\"0.250980\" stroke-width=\".75\"/>\n",
       "</g>\n",
       "<!-- ElectrodeUnit -->\n",
       "<g class=\"node\" id=\"node9\">\n",
       "<title>ElectrodeUnit</title>\n",
       "<g id=\"a_node9\"><a xlink:title=\"→ Patient\r",
       "unit_id              \r",
       "------------------------------\r",
       "csc                  \r",
       "unit_type            \r",
       "unit_nr              \r",
       "brain_region         \r",
       "additional_information=&quot;&quot; \r",
       "\">\n",
       "<ellipse cx=\"935\" cy=\"-150.5\" fill=\"#00007f\" fill-opacity=\"0.250980\" rx=\"55.7503\" ry=\"17.5\" stroke=\"#00007f\" stroke-opacity=\"0.250980\"/>\n",
       "<text fill=\"#00007f\" font-family=\"arial\" font-size=\"12.00\" text-anchor=\"start\" text-decoration=\"underline\" x=\"898.5\" y=\"-148.4\">ElectrodeUnit</text>\n",
       "</a>\n",
       "</g>\n",
       "</g>\n",
       "<!-- ElectrodeUnit&#45;&gt;SpikeTimesDuringMovie -->\n",
       "<g class=\"edge\" id=\"edge14\">\n",
       "<title>ElectrodeUnit-&gt;SpikeTimesDuringMovie</title>\n",
       "<path d=\"M975.4725,-138.3753C1016.06,-126.2162 1078.6321,-107.471 1122.2318,-94.4094\" fill=\"none\" stroke=\"#000000\" stroke-opacity=\"0.250980\" stroke-width=\".75\"/>\n",
       "</g>\n",
       "<!-- ElectrodeUnit&#45;&gt;UnitLevelDataCleaning -->\n",
       "<g class=\"edge\" id=\"edge15\">\n",
       "<title>ElectrodeUnit-&gt;UnitLevelDataCleaning</title>\n",
       "<path d=\"M935,-132.9494C935,-122.1083 935,-108.2366 935,-97.3418\" fill=\"none\" stroke=\"#000000\" stroke-opacity=\"0.250980\" stroke-width=\".75\"/>\n",
       "</g>\n",
       "<!-- Patient -->\n",
       "<g class=\"node\" id=\"node13\">\n",
       "<title>Patient</title>\n",
       "<g id=\"a_node13\"><a xlink:title=\"patient_id           \r",
       "------------------------------\r",
       "age                  \r",
       "gender               \r",
       "year                 \r",
       "removed_tissue=&quot;unknown&quot; \r",
       "epilepsy_type=&quot;unknown&quot; \r",
       "additional_information=&quot;&quot; \r",
       "\">\n",
       "<polygon fill=\"#000000\" fill-opacity=\"0.125490\" points=\"892.5,-239 845.5,-239 845.5,-204 892.5,-204 892.5,-239\" stroke=\"transparent\"/>\n",
       "<text fill=\"#000000\" font-family=\"arial\" font-size=\"10.00\" text-anchor=\"start\" text-decoration=\"underline\" x=\"853.5\" y=\"-220\">Patient</text>\n",
       "</a>\n",
       "</g>\n",
       "</g>\n",
       "<!-- Patient&#45;&gt;MovieSession -->\n",
       "<g class=\"edge\" id=\"edge16\">\n",
       "<title>Patient-&gt;MovieSession</title>\n",
       "<path d=\"M850.9551,-203.9494C839.4708,-192.7798 824.6788,-178.3931 813.3347,-167.3598\" fill=\"none\" stroke=\"#000000\" stroke-opacity=\"0.250980\" stroke-width=\".75\"/>\n",
       "</g>\n",
       "<!-- Patient&#45;&gt;ElectrodeUnit -->\n",
       "<g class=\"edge\" id=\"edge17\">\n",
       "<title>Patient-&gt;ElectrodeUnit</title>\n",
       "<path d=\"M885.3146,-203.9494C895.6976,-192.7798 909.0712,-178.3931 919.3275,-167.3598\" fill=\"none\" stroke=\"#000000\" stroke-opacity=\"0.250980\" stroke-width=\".75\"/>\n",
       "</g>\n",
       "<!-- LabelProcessingMethod -->\n",
       "<g class=\"node\" id=\"node14\">\n",
       "<title>LabelProcessingMethod</title>\n",
       "<g id=\"a_node14\"><a xlink:title=\"algorithm_name       \r",
       "------------------------------\r",
       "description          \r",
       "\">\n",
       "<polygon fill=\"#000000\" fill-opacity=\"0.125490\" points=\"142.5,-168 21.5,-168 21.5,-133 142.5,-133 142.5,-168\" stroke=\"transparent\"/>\n",
       "<text fill=\"#000000\" font-family=\"arial\" font-size=\"10.00\" text-anchor=\"start\" text-decoration=\"underline\" x=\"29.5\" y=\"-149\">LabelProcessingMethod</text>\n",
       "</a>\n",
       "</g>\n",
       "</g>\n",
       "<!-- LabelProcessingMethod&#45;&gt;ProcessedMovieAnnotation -->\n",
       "<g class=\"edge\" id=\"edge18\">\n",
       "<title>LabelProcessingMethod-&gt;ProcessedMovieAnnotation</title>\n",
       "<path d=\"M82,-132.9494C82,-120.4658 82,-103.9634 82,-92.6156\" fill=\"none\" stroke=\"#000000\" stroke-opacity=\"0.250980\" stroke-width=\".75\"/>\n",
       "</g>\n",
       "<!-- MovieAnnotation&#45;&gt;ProcessedMovieAnnotation.Entry -->\n",
       "<g class=\"edge\" id=\"edge19\">\n",
       "<title>MovieAnnotation-&gt;ProcessedMovieAnnotation.Entry</title>\n",
       "<path d=\"M211.9373,-64.7415C179.6501,-51.8846 133.7805,-33.6192 106.0604,-22.5809\" fill=\"none\" stroke=\"#000000\" stroke-opacity=\"0.250980\" stroke-width=\".75\"/>\n",
       "</g>\n",
       "<!-- MovieAnnotation&#45;&gt;PatientAlignedMovieAnnotation -->\n",
       "<g class=\"edge\" id=\"edge20\">\n",
       "<title>MovieAnnotation-&gt;PatientAlignedMovieAnnotation</title>\n",
       "<path d=\"M298.3434,-67.5172C307.1924,-65.5457 316.3496,-63.6201 325,-62 450.8862,-38.4231 604.9664,-19.7484 650.0431,-14.4882\" fill=\"none\" stroke=\"#000000\" stroke-opacity=\"0.250980\" stroke-width=\".75\"/>\n",
       "</g>\n",
       "<!-- ProcessedMovieAnnotation&#45;&gt;ProcessedMovieAnnotation.Entry -->\n",
       "<g class=\"edge\" id=\"edge21\">\n",
       "<title>ProcessedMovieAnnotation-&gt;ProcessedMovieAnnotation.Entry</title>\n",
       "<path d=\"M82,-66.3617C82,-53.4921 82,-34.1836 82,-22.663\" fill=\"none\" stroke=\"#000000\" stroke-opacity=\"0.250980\" stroke-width=\".75\"/>\n",
       "</g>\n",
       "</g>\n",
       "</svg>"
      ],
      "text/plain": [
       "<datajoint.diagram.Diagram at 0x7fc518657110>"
      ]
     },
     "execution_count": 2,
     "metadata": {},
     "output_type": "execute_result"
    }
   ],
   "source": [
    "erd = dj.ERD(dhv_schema)\n",
    "erd"
   ]
  },
  {
   "cell_type": "code",
   "execution_count": 56,
   "metadata": {},
   "outputs": [
    {
     "name": "stdout",
     "output_type": "stream",
     "text": [
      "`db_deploy_mock`.`#label_processing_method` (2 tuples)\n",
      "`db_deploy_mock`.`__processed_movie_annotation` (0 tuples)\n",
      "`db_deploy_mock`.`__processed_movie_annotation__entry` (0 tuples)\n"
     ]
    },
    {
     "name": "stdin",
     "output_type": "stream",
     "text": [
      "Proceed? [yes, No]:  yes\n"
     ]
    },
    {
     "name": "stdout",
     "output_type": "stream",
     "text": [
      "Tables dropped.  Restart kernel.\n",
      "`db_deploy_mock`.`#label_name` (3 tuples)\n",
      "`db_deploy_mock`.`_movie_annotation` (3 tuples)\n",
      "`db_deploy_mock`.`__patient_aligned_movie_annotation` (9 tuples)\n"
     ]
    },
    {
     "name": "stdin",
     "output_type": "stream",
     "text": [
      "Proceed? [yes, No]:  yes\n"
     ]
    },
    {
     "name": "stdout",
     "output_type": "stream",
     "text": [
      "Tables dropped.  Restart kernel.\n",
      "`db_deploy_mock`.`#annotator` (2 tuples)\n",
      "`db_deploy_mock`.`patient_level_data_cleaning` (0 tuples)\n",
      "`db_deploy_mock`.`manual_annotation` (0 tuples)\n",
      "`db_deploy_mock`.`_unit_level_data_cleaning` (0 tuples)\n"
     ]
    },
    {
     "name": "stdin",
     "output_type": "stream",
     "text": [
      "Proceed? [yes, No]:  yes\n"
     ]
    },
    {
     "name": "stdout",
     "output_type": "stream",
     "text": [
      "Tables dropped.  Restart kernel.\n",
      "`db_deploy_mock`.`#patient` (3 tuples)\n",
      "`db_deploy_mock`.`_movie_session` (3 tuples)\n",
      "`db_deploy_mock`.`__movie_skips` (3 tuples)\n",
      "`db_deploy_mock`.`__movie_pauses` (3 tuples)\n",
      "`db_deploy_mock`.`_electrode_unit` (268 tuples)\n",
      "`db_deploy_mock`.`_spike_times_during_movie` (268 tuples)\n"
     ]
    },
    {
     "name": "stdin",
     "output_type": "stream",
     "text": [
      "Proceed? [yes, No]:  yes\n"
     ]
    },
    {
     "name": "stdout",
     "output_type": "stream",
     "text": [
      "Tables dropped.  Restart kernel.\n"
     ]
    }
   ],
   "source": [
    "LabelProcessingMethod.drop()\n",
    "LabelName.drop()\n",
    "Annotator.drop()\n",
    "Patient.drop()"
   ]
  },
  {
   "cell_type": "markdown",
   "metadata": {},
   "source": [
    "Set parameters:"
   ]
  },
  {
   "cell_type": "code",
   "execution_count": 14,
   "metadata": {},
   "outputs": [],
   "source": [
    "patient_id = 2\n",
    "session_nr = 1\n",
    "unit_nr = 1\n",
    "bin_size = 1000"
   ]
  },
  {
   "cell_type": "markdown",
   "metadata": {},
   "source": [
    "Get activity from the database, set binning parameters, and bin: "
   ]
  },
  {
   "cell_type": "code",
   "execution_count": 15,
   "metadata": {},
   "outputs": [],
   "source": [
    "spike_times = get_spiking_activity(patient_id, session_nr, unit_nr)\n",
    "spike_times = np.sort(spike_times) / 1000\n",
    "\n",
    "exclude_pauses = False\n",
    "output_edges = True\n",
    "\n",
    "binned_spikes, edges = binning.bin_spikes(patient_id, session_nr, spike_times, bin_size, exclude_pauses, output_edges) "
   ]
  },
  {
   "cell_type": "code",
   "execution_count": 9,
   "metadata": {},
   "outputs": [
    {
     "data": {
      "text/plain": [
       "[<matplotlib.collections.EventCollection at 0x7fc578c39250>]"
      ]
     },
     "execution_count": 9,
     "metadata": {},
     "output_type": "execute_result"
    },
    {
     "data": {
      "image/png": "[encoded data removed]",
      "text/plain": [
       "<Figure size 432x288 with 1 Axes>"
      ]
     },
     "metadata": {
      "needs_background": "light"
     },
     "output_type": "display_data"
    }
   ],
   "source": [
    "plt.eventplot(spike_times)"
   ]
  },
  {
   "cell_type": "code",
   "execution_count": 54,
   "metadata": {},
   "outputs": [
    {
     "data": {
      "text/plain": [
       "102.33818333333333"
      ]
     },
     "execution_count": 54,
     "metadata": {},
     "output_type": "execute_result"
    }
   ],
   "source": [
    "begin = 349760058000\n",
    "stop =  355900349000\n",
    "\n",
    "(stop - begin) / 1000 / 1000 / 60"
   ]
  },
  {
   "cell_type": "code",
   "execution_count": null,
   "metadata": {},
   "outputs": [],
   "source": []
  },
  {
   "cell_type": "code",
   "execution_count": 18,
   "metadata": {},
   "outputs": [
    {
     "data": {
      "text/plain": [
       "355900079.20821905"
      ]
     },
     "execution_count": 18,
     "metadata": {},
     "output_type": "execute_result"
    }
   ],
   "source": [
    "spike_times[-1]"
   ]
  },
  {
   "cell_type": "code",
   "execution_count": 17,
   "metadata": {},
   "outputs": [
    {
     "data": {
      "text/plain": [
       "363076582.2035"
      ]
     },
     "execution_count": 17,
     "metadata": {},
     "output_type": "execute_result"
    }
   ],
   "source": [
    "edges[-1]"
   ]
  },
  {
   "cell_type": "code",
   "execution_count": 44,
   "metadata": {},
   "outputs": [
    {
     "data": {
      "text/plain": [
       "361921652.29825"
      ]
     },
     "execution_count": 44,
     "metadata": {},
     "output_type": "execute_result"
    }
   ],
   "source": [
    "361921652298.25 / 1000"
   ]
  },
  {
   "cell_type": "code",
   "execution_count": 16,
   "metadata": {},
   "outputs": [
    {
     "data": {
      "text/plain": [
       "[<matplotlib.lines.Line2D at 0x7fc57879f110>]"
      ]
     },
     "execution_count": 16,
     "metadata": {},
     "output_type": "execute_result"
    },
    {
     "data": {
      "image/png": "[encoded data removed]",
      "text/plain": [
       "<Figure size 432x288 with 1 Axes>"
      ]
     },
     "metadata": {
      "needs_background": "light"
     },
     "output_type": "display_data"
    }
   ],
   "source": [
    "plt.plot(binned_spikes)"
   ]
  },
  {
   "cell_type": "code",
   "execution_count": 7,
   "metadata": {},
   "outputs": [
    {
     "data": {
      "text/plain": [
       "array([4.49860098e+08, 4.49861098e+08, 4.49862098e+08, ...,\n",
       "       4.59177825e+08, 4.59178825e+08, 4.59179825e+08])"
      ]
     },
     "execution_count": 7,
     "metadata": {},
     "output_type": "execute_result"
    }
   ],
   "source": [
    "edges"
   ]
  },
  {
   "cell_type": "code",
   "execution_count": 11,
   "metadata": {},
   "outputs": [
    {
     "data": {
      "text/html": [
       "\n",
       "        \n",
       "        <style type=\"text/css\">\n",
       "            .Relation{\n",
       "                border-collapse:collapse;\n",
       "            }\n",
       "            .Relation th{\n",
       "                background: #A0A0A0; color: #ffffff; padding:4px; border:#f0e0e0 1px solid;\n",
       "                font-weight: normal; font-family: monospace; font-size: 100%;\n",
       "            }\n",
       "            .Relation td{\n",
       "                padding:4px; border:#f0e0e0 1px solid; font-size:100%;\n",
       "            }\n",
       "            .Relation tr:nth-child(odd){\n",
       "                background: #ffffff;\n",
       "            }\n",
       "            .Relation tr:nth-child(even){\n",
       "                background: #f3f1ff;\n",
       "            }\n",
       "            /* Tooltip container */\n",
       "            .djtooltip {\n",
       "            }\n",
       "            /* Tooltip text */\n",
       "            .djtooltip .djtooltiptext {\n",
       "                visibility: hidden;\n",
       "                width: 120px;\n",
       "                background-color: black;\n",
       "                color: #fff;\n",
       "                text-align: center;\n",
       "                padding: 5px 0;\n",
       "                border-radius: 6px;\n",
       "                /* Position the tooltip text - see examples below! */\n",
       "                position: absolute;\n",
       "                z-index: 1;\n",
       "            }\n",
       "            #primary {\n",
       "                font-weight: bold;\n",
       "                color: black;\n",
       "            }\n",
       "\n",
       "            #nonprimary {\n",
       "                font-weight: normal;\n",
       "                color: white;\n",
       "            }\n",
       "\n",
       "            /* Show the tooltip text when you mouse over the tooltip container */\n",
       "            .djtooltip:hover .djtooltiptext {\n",
       "                visibility: visible;\n",
       "            }\n",
       "        </style>\n",
       "        \n",
       "        <b>Movie Annotations aligned to patient time / time points are in neural recording time</b>\n",
       "            <div style=\"max-height:1000px;max-width:1500px;overflow:auto;\">\n",
       "            <table border=\"1\" class=\"Relation\">\n",
       "                <thead> <tr style=\"text-align: right;\"> <th> <div class=\"djtooltip\">\n",
       "                                <p id=\"primary\">annotator_id</p>\n",
       "                                <span class=\"djtooltiptext\">unique ID for each annotator</span>\n",
       "                            </div></th><th><div class=\"djtooltip\">\n",
       "                                <p id=\"primary\">label_name</p>\n",
       "                                <span class=\"djtooltiptext\">label name</span>\n",
       "                            </div></th><th><div class=\"djtooltip\">\n",
       "                                <p id=\"primary\">annotation_date</p>\n",
       "                                <span class=\"djtooltiptext\">date of annotation</span>\n",
       "                            </div></th><th><div class=\"djtooltip\">\n",
       "                                <p id=\"primary\">session_nr</p>\n",
       "                                <span class=\"djtooltiptext\">session ID</span>\n",
       "                            </div></th><th><div class=\"djtooltip\">\n",
       "                                <p id=\"primary\">patient_id</p>\n",
       "                                <span class=\"djtooltiptext\">patient ID</span>\n",
       "                            </div></th><th><div class=\"djtooltip\">\n",
       "                                <p id=\"nonprimary\">label_in_patient_time</p>\n",
       "                                <span class=\"djtooltiptext\">label matched to patient time (pts)</span>\n",
       "                            </div></th><th><div class=\"djtooltip\">\n",
       "                                <p id=\"nonprimary\">values</p>\n",
       "                                <span class=\"djtooltiptext\">list of values that represent label</span>\n",
       "                            </div></th><th><div class=\"djtooltip\">\n",
       "                                <p id=\"nonprimary\">start_times</p>\n",
       "                                <span class=\"djtooltiptext\">list of start times of label segments in neural recording time</span>\n",
       "                            </div></th><th><div class=\"djtooltip\">\n",
       "                                <p id=\"nonprimary\">stop_times</p>\n",
       "                                <span class=\"djtooltiptext\">list of stop times of label segments in neural recording time</span>\n",
       "                            </div></th><th><div class=\"djtooltip\">\n",
       "                                <p id=\"nonprimary\">additionl_information</p>\n",
       "                                <span class=\"djtooltiptext\"></span>\n",
       "                            </div> </th> </tr> </thead>\n",
       "                <tbody> <tr> <td>p1</td>\n",
       "<td>character1</td>\n",
       "<td>2019-12-12</td>\n",
       "<td>1</td>\n",
       "<td>1</td>\n",
       "<td>=BLOB=</td>\n",
       "<td>=BLOB=</td>\n",
       "<td>=BLOB=</td>\n",
       "<td>=BLOB=</td>\n",
       "<td></td></tr><tr><td>p1</td>\n",
       "<td>character1</td>\n",
       "<td>2019-12-12</td>\n",
       "<td>1</td>\n",
       "<td>2</td>\n",
       "<td>=BLOB=</td>\n",
       "<td>=BLOB=</td>\n",
       "<td>=BLOB=</td>\n",
       "<td>=BLOB=</td>\n",
       "<td></td></tr><tr><td>p1</td>\n",
       "<td>character1</td>\n",
       "<td>2019-12-12</td>\n",
       "<td>1</td>\n",
       "<td>3</td>\n",
       "<td>=BLOB=</td>\n",
       "<td>=BLOB=</td>\n",
       "<td>=BLOB=</td>\n",
       "<td>=BLOB=</td>\n",
       "<td></td></tr><tr><td>p1</td>\n",
       "<td>character2</td>\n",
       "<td>2019-10-10</td>\n",
       "<td>1</td>\n",
       "<td>1</td>\n",
       "<td>=BLOB=</td>\n",
       "<td>=BLOB=</td>\n",
       "<td>=BLOB=</td>\n",
       "<td>=BLOB=</td>\n",
       "<td></td></tr><tr><td>p1</td>\n",
       "<td>character2</td>\n",
       "<td>2019-10-10</td>\n",
       "<td>1</td>\n",
       "<td>2</td>\n",
       "<td>=BLOB=</td>\n",
       "<td>=BLOB=</td>\n",
       "<td>=BLOB=</td>\n",
       "<td>=BLOB=</td>\n",
       "<td></td></tr><tr><td>p1</td>\n",
       "<td>character2</td>\n",
       "<td>2019-10-10</td>\n",
       "<td>1</td>\n",
       "<td>3</td>\n",
       "<td>=BLOB=</td>\n",
       "<td>=BLOB=</td>\n",
       "<td>=BLOB=</td>\n",
       "<td>=BLOB=</td>\n",
       "<td></td></tr><tr><td>p1</td>\n",
       "<td>location1</td>\n",
       "<td>2020-01-01</td>\n",
       "<td>1</td>\n",
       "<td>1</td>\n",
       "<td>=BLOB=</td>\n",
       "<td>=BLOB=</td>\n",
       "<td>=BLOB=</td>\n",
       "<td>=BLOB=</td>\n",
       "<td></td></tr><tr><td>p1</td>\n",
       "<td>location1</td>\n",
       "<td>2020-01-01</td>\n",
       "<td>1</td>\n",
       "<td>2</td>\n",
       "<td>=BLOB=</td>\n",
       "<td>=BLOB=</td>\n",
       "<td>=BLOB=</td>\n",
       "<td>=BLOB=</td>\n",
       "<td></td></tr><tr><td>p1</td>\n",
       "<td>location1</td>\n",
       "<td>2020-01-01</td>\n",
       "<td>1</td>\n",
       "<td>3</td>\n",
       "<td>=BLOB=</td>\n",
       "<td>=BLOB=</td>\n",
       "<td>=BLOB=</td>\n",
       "<td>=BLOB=</td>\n",
       "<td></td> </tr> </tbody>\n",
       "            </table>\n",
       "            \n",
       "            <p>Total: 9</p></div>\n",
       "            "
      ],
      "text/plain": [
       "*annotator_id  *label_name    *annotation_da *session_nr    *patient_id    label_in_p values     start_time stop_times additionl_info\n",
       "+------------+ +------------+ +------------+ +------------+ +------------+ +--------+ +--------+ +--------+ +--------+ +------------+\n",
       "p1             character1     2019-12-12     1              1              =BLOB=     =BLOB=     =BLOB=     =BLOB=                   \n",
       "p1             character1     2019-12-12     1              2              =BLOB=     =BLOB=     =BLOB=     =BLOB=                   \n",
       "p1             character1     2019-12-12     1              3              =BLOB=     =BLOB=     =BLOB=     =BLOB=                   \n",
       "p1             character2     2019-10-10     1              1              =BLOB=     =BLOB=     =BLOB=     =BLOB=                   \n",
       "p1             character2     2019-10-10     1              2              =BLOB=     =BLOB=     =BLOB=     =BLOB=                   \n",
       "p1             character2     2019-10-10     1              3              =BLOB=     =BLOB=     =BLOB=     =BLOB=                   \n",
       "p1             location1      2020-01-01     1              1              =BLOB=     =BLOB=     =BLOB=     =BLOB=                   \n",
       "p1             location1      2020-01-01     1              2              =BLOB=     =BLOB=     =BLOB=     =BLOB=                   \n",
       "p1             location1      2020-01-01     1              3              =BLOB=     =BLOB=     =BLOB=     =BLOB=                   \n",
       " (Total: 9)"
      ]
     },
     "execution_count": 11,
     "metadata": {},
     "output_type": "execute_result"
    }
   ],
   "source": [
    "PatientAlignedMovieAnnotation()"
   ]
  },
  {
   "cell_type": "code",
   "execution_count": 17,
   "metadata": {},
   "outputs": [],
   "source": [
    "label_name = \"location1\"\n",
    "annotation_date = \"2020-01-01\"\n",
    "annotator_id = \"p1\"\n",
    "\n",
    "pat_aligned_label = get_patient_aligned_annotations(patient_id, label_name, annotator_id, annotation_date)"
   ]
  },
  {
   "cell_type": "code",
   "execution_count": 18,
   "metadata": {},
   "outputs": [
    {
     "data": {
      "text/plain": [
       "(array([0]), array([449860.09750073]), array([458282.33527466]))"
      ]
     },
     "execution_count": 18,
     "metadata": {},
     "output_type": "execute_result"
    }
   ],
   "source": [
    "pat_aligned_label"
   ]
  },
  {
   "cell_type": "code",
   "execution_count": 31,
   "metadata": {},
   "outputs": [],
   "source": [
    "rec = get_neural_rectime_of_patient(3, session_nr)"
   ]
  },
  {
   "cell_type": "code",
   "execution_count": 32,
   "metadata": {},
   "outputs": [
    {
     "data": {
      "text/plain": [
       "168.20430335833333"
      ]
     },
     "execution_count": 32,
     "metadata": {},
     "output_type": "execute_result"
    }
   ],
   "source": [
    "(rec[-1] - rec[0]) / 1000 / 1000 / 60"
   ]
  },
  {
   "cell_type": "code",
   "execution_count": 41,
   "metadata": {},
   "outputs": [
    {
     "data": {
      "text/plain": [
       "361921652298.25"
      ]
     },
     "execution_count": 41,
     "metadata": {},
     "output_type": "execute_result"
    }
   ],
   "source": [
    "np.max(rec)"
   ]
  },
  {
   "cell_type": "code",
   "execution_count": 62,
   "metadata": {},
   "outputs": [
    {
     "data": {
      "text/plain": [
       "(array([0, 1, 2, 3]),\n",
       " array([4.49861247e+08, 4.73750484e+08, 5.52512790e+08, 5.61540968e+08]),\n",
       " array([4.73749294e+08, 5.52511600e+08, 5.61539779e+08, 5.99368481e+08]))"
      ]
     },
     "execution_count": 62,
     "metadata": {},
     "output_type": "execute_result"
    }
   ],
   "source": [
    "get_info_continuous_watch_segments(patient_id, session_nr)"
   ]
  },
  {
   "cell_type": "code",
   "execution_count": 63,
   "metadata": {},
   "outputs": [
    {
     "data": {
      "text/plain": [
       "(array([506049.53045211, 542000.52297208, 550610.11469553, 564309.35611276,\n",
       "        587416.12386267]),\n",
       " array([506051.9133717 , 542002.90211572, 550612.49586211, 564311.73961107,\n",
       "        587418.51156834]))"
      ]
     },
     "execution_count": 63,
     "metadata": {},
     "output_type": "execute_result"
    }
   ],
   "source": [
    "get_start_stop_times_pauses(patient_id, session_nr)"
   ]
  },
  {
   "cell_type": "code",
   "execution_count": 22,
   "metadata": {},
   "outputs": [
    {
     "name": "stdout",
     "output_type": "stream",
     "text": [
      "Note: Divide the patient dts vector by 1000 to get milliseconds\n"
     ]
    }
   ],
   "source": [
    "dts = get_dts_of_patient(patient_id, session_nr)\n",
    "dts = dts /  1000"
   ]
  },
  {
   "cell_type": "code",
   "execution_count": 23,
   "metadata": {},
   "outputs": [
    {
     "data": {
      "text/plain": [
       "1590528227648.514"
      ]
     },
     "execution_count": 23,
     "metadata": {},
     "output_type": "execute_result"
    }
   ],
   "source": [
    "dts[0]"
   ]
  },
  {
   "cell_type": "code",
   "execution_count": 24,
   "metadata": {},
   "outputs": [
    {
     "data": {
      "text/plain": [
       "[<matplotlib.lines.Line2D at 0x7fc57878a1d0>]"
      ]
     },
     "execution_count": 24,
     "metadata": {},
     "output_type": "execute_result"
    },
    {
     "data": {
      "image/png": "[encoded data removed]",
      "text/plain": [
       "<Figure size 432x288 with 1 Axes>"
      ]
     },
     "metadata": {
      "needs_background": "light"
     },
     "output_type": "display_data"
    }
   ],
   "source": [
    "plt.plot(dts)"
   ]
  },
  {
   "cell_type": "code",
   "execution_count": 26,
   "metadata": {},
   "outputs": [
    {
     "data": {
      "text/plain": [
       "[<matplotlib.lines.Line2D at 0x7fc559e75d10>]"
      ]
     },
     "execution_count": 26,
     "metadata": {},
     "output_type": "execute_result"
    },
    {
     "data": {
      "image/png": "[encoded data removed]",
      "text/plain": [
       "<Figure size 432x288 with 1 Axes>"
      ]
     },
     "metadata": {
      "needs_background": "light"
     },
     "output_type": "display_data"
    }
   ],
   "source": [
    "pts = get_pts_of_patient(patient_id, session_nr)\n",
    "\n",
    "plt.plot(pts)"
   ]
  },
  {
   "cell_type": "markdown",
   "metadata": {},
   "source": [
    "Using edges outputted above, generate a vector representing when a feature was presented during the stimulus:  "
   ]
  },
  {
   "cell_type": "code",
   "execution_count": 43,
   "metadata": {},
   "outputs": [
    {
     "data": {
      "text/html": [
       "\n",
       "        \n",
       "        <style type=\"text/css\">\n",
       "            .Relation{\n",
       "                border-collapse:collapse;\n",
       "            }\n",
       "            .Relation th{\n",
       "                background: #A0A0A0; color: #ffffff; padding:4px; border:#f0e0e0 1px solid;\n",
       "                font-weight: normal; font-family: monospace; font-size: 100%;\n",
       "            }\n",
       "            .Relation td{\n",
       "                padding:4px; border:#f0e0e0 1px solid; font-size:100%;\n",
       "            }\n",
       "            .Relation tr:nth-child(odd){\n",
       "                background: #ffffff;\n",
       "            }\n",
       "            .Relation tr:nth-child(even){\n",
       "                background: #f3f1ff;\n",
       "            }\n",
       "            /* Tooltip container */\n",
       "            .djtooltip {\n",
       "            }\n",
       "            /* Tooltip text */\n",
       "            .djtooltip .djtooltiptext {\n",
       "                visibility: hidden;\n",
       "                width: 120px;\n",
       "                background-color: black;\n",
       "                color: #fff;\n",
       "                text-align: center;\n",
       "                padding: 5px 0;\n",
       "                border-radius: 6px;\n",
       "                /* Position the tooltip text - see examples below! */\n",
       "                position: absolute;\n",
       "                z-index: 1;\n",
       "            }\n",
       "            #primary {\n",
       "                font-weight: bold;\n",
       "                color: black;\n",
       "            }\n",
       "\n",
       "            #nonprimary {\n",
       "                font-weight: normal;\n",
       "                color: white;\n",
       "            }\n",
       "\n",
       "            /* Show the tooltip text when you mouse over the tooltip container */\n",
       "            .djtooltip:hover .djtooltiptext {\n",
       "                visibility: visible;\n",
       "            }\n",
       "        </style>\n",
       "        \n",
       "        <b>Movie Annotations aligned to patient time / time points are in neural recording time</b>\n",
       "            <div style=\"max-height:1000px;max-width:1500px;overflow:auto;\">\n",
       "            <table border=\"1\" class=\"Relation\">\n",
       "                <thead> <tr style=\"text-align: right;\"> <th> <div class=\"djtooltip\">\n",
       "                                <p id=\"primary\">annotator_id</p>\n",
       "                                <span class=\"djtooltiptext\">unique ID for each annotator</span>\n",
       "                            </div></th><th><div class=\"djtooltip\">\n",
       "                                <p id=\"primary\">label_name</p>\n",
       "                                <span class=\"djtooltiptext\">label name</span>\n",
       "                            </div></th><th><div class=\"djtooltip\">\n",
       "                                <p id=\"primary\">annotation_date</p>\n",
       "                                <span class=\"djtooltiptext\">date of annotation</span>\n",
       "                            </div></th><th><div class=\"djtooltip\">\n",
       "                                <p id=\"primary\">session_nr</p>\n",
       "                                <span class=\"djtooltiptext\">session ID</span>\n",
       "                            </div></th><th><div class=\"djtooltip\">\n",
       "                                <p id=\"primary\">patient_id</p>\n",
       "                                <span class=\"djtooltiptext\">patient ID</span>\n",
       "                            </div></th><th><div class=\"djtooltip\">\n",
       "                                <p id=\"nonprimary\">label_in_patient_time</p>\n",
       "                                <span class=\"djtooltiptext\">label matched to patient time (pts)</span>\n",
       "                            </div></th><th><div class=\"djtooltip\">\n",
       "                                <p id=\"nonprimary\">values</p>\n",
       "                                <span class=\"djtooltiptext\">list of values that represent label</span>\n",
       "                            </div></th><th><div class=\"djtooltip\">\n",
       "                                <p id=\"nonprimary\">start_times</p>\n",
       "                                <span class=\"djtooltiptext\">list of start times of label segments in neural recording time</span>\n",
       "                            </div></th><th><div class=\"djtooltip\">\n",
       "                                <p id=\"nonprimary\">stop_times</p>\n",
       "                                <span class=\"djtooltiptext\">list of stop times of label segments in neural recording time</span>\n",
       "                            </div></th><th><div class=\"djtooltip\">\n",
       "                                <p id=\"nonprimary\">additionl_information</p>\n",
       "                                <span class=\"djtooltiptext\"></span>\n",
       "                            </div> </th> </tr> </thead>\n",
       "                <tbody> <tr> <td>p1</td>\n",
       "<td>character1</td>\n",
       "<td>2019-12-12</td>\n",
       "<td>1</td>\n",
       "<td>1</td>\n",
       "<td>=BLOB=</td>\n",
       "<td>=BLOB=</td>\n",
       "<td>=BLOB=</td>\n",
       "<td>=BLOB=</td>\n",
       "<td></td></tr><tr><td>p1</td>\n",
       "<td>character1</td>\n",
       "<td>2019-12-12</td>\n",
       "<td>1</td>\n",
       "<td>2</td>\n",
       "<td>=BLOB=</td>\n",
       "<td>=BLOB=</td>\n",
       "<td>=BLOB=</td>\n",
       "<td>=BLOB=</td>\n",
       "<td></td></tr><tr><td>p1</td>\n",
       "<td>character1</td>\n",
       "<td>2019-12-12</td>\n",
       "<td>1</td>\n",
       "<td>3</td>\n",
       "<td>=BLOB=</td>\n",
       "<td>=BLOB=</td>\n",
       "<td>=BLOB=</td>\n",
       "<td>=BLOB=</td>\n",
       "<td></td></tr><tr><td>p1</td>\n",
       "<td>location1</td>\n",
       "<td>2020-01-01</td>\n",
       "<td>1</td>\n",
       "<td>1</td>\n",
       "<td>=BLOB=</td>\n",
       "<td>=BLOB=</td>\n",
       "<td>=BLOB=</td>\n",
       "<td>=BLOB=</td>\n",
       "<td></td></tr><tr><td>p1</td>\n",
       "<td>location1</td>\n",
       "<td>2020-01-01</td>\n",
       "<td>1</td>\n",
       "<td>2</td>\n",
       "<td>=BLOB=</td>\n",
       "<td>=BLOB=</td>\n",
       "<td>=BLOB=</td>\n",
       "<td>=BLOB=</td>\n",
       "<td></td></tr><tr><td>p1</td>\n",
       "<td>location1</td>\n",
       "<td>2020-01-01</td>\n",
       "<td>1</td>\n",
       "<td>3</td>\n",
       "<td>=BLOB=</td>\n",
       "<td>=BLOB=</td>\n",
       "<td>=BLOB=</td>\n",
       "<td>=BLOB=</td>\n",
       "<td></td></tr><tr><td>p2</td>\n",
       "<td>character2</td>\n",
       "<td>2019-10-10</td>\n",
       "<td>1</td>\n",
       "<td>1</td>\n",
       "<td>=BLOB=</td>\n",
       "<td>=BLOB=</td>\n",
       "<td>=BLOB=</td>\n",
       "<td>=BLOB=</td>\n",
       "<td></td></tr><tr><td>p2</td>\n",
       "<td>character2</td>\n",
       "<td>2019-10-10</td>\n",
       "<td>1</td>\n",
       "<td>2</td>\n",
       "<td>=BLOB=</td>\n",
       "<td>=BLOB=</td>\n",
       "<td>=BLOB=</td>\n",
       "<td>=BLOB=</td>\n",
       "<td></td></tr><tr><td>p2</td>\n",
       "<td>character2</td>\n",
       "<td>2019-10-10</td>\n",
       "<td>1</td>\n",
       "<td>3</td>\n",
       "<td>=BLOB=</td>\n",
       "<td>=BLOB=</td>\n",
       "<td>=BLOB=</td>\n",
       "<td>=BLOB=</td>\n",
       "<td></td> </tr> </tbody>\n",
       "            </table>\n",
       "            \n",
       "            <p>Total: 9</p></div>\n",
       "            "
      ],
      "text/plain": [
       "*annotator_id  *label_name    *annotation_da *session_nr    *patient_id    label_in_p values     start_time stop_times additionl_info\n",
       "+------------+ +------------+ +------------+ +------------+ +------------+ +--------+ +--------+ +--------+ +--------+ +------------+\n",
       "p1             character1     2019-12-12     1              1              =BLOB=     =BLOB=     =BLOB=     =BLOB=                   \n",
       "p1             character1     2019-12-12     1              2              =BLOB=     =BLOB=     =BLOB=     =BLOB=                   \n",
       "p1             character1     2019-12-12     1              3              =BLOB=     =BLOB=     =BLOB=     =BLOB=                   \n",
       "p1             location1      2020-01-01     1              1              =BLOB=     =BLOB=     =BLOB=     =BLOB=                   \n",
       "p1             location1      2020-01-01     1              2              =BLOB=     =BLOB=     =BLOB=     =BLOB=                   \n",
       "p1             location1      2020-01-01     1              3              =BLOB=     =BLOB=     =BLOB=     =BLOB=                   \n",
       "p2             character2     2019-10-10     1              1              =BLOB=     =BLOB=     =BLOB=     =BLOB=                   \n",
       "p2             character2     2019-10-10     1              2              =BLOB=     =BLOB=     =BLOB=     =BLOB=                   \n",
       "p2             character2     2019-10-10     1              3              =BLOB=     =BLOB=     =BLOB=     =BLOB=                   \n",
       " (Total: 9)"
      ]
     },
     "execution_count": 43,
     "metadata": {},
     "output_type": "execute_result"
    }
   ],
   "source": [
    "PatientAlignedMovieAnnotation()"
   ]
  },
  {
   "cell_type": "code",
   "execution_count": 45,
   "metadata": {},
   "outputs": [],
   "source": [
    "label_name = \"character1\"\n",
    "annotator_id = \"p1\"\n",
    "annotation_date = \"2019-12-12\"\n",
    "\n",
    "values, starts, stops = get_patient_aligned_annotations(patient_id, label_name, annotator_id, annotation_date)"
   ]
  },
  {
   "cell_type": "code",
   "execution_count": 39,
   "metadata": {},
   "outputs": [],
   "source": [
    "values, starts, stops = (PatientAlignedMovieAnnotation() & \"label_name='{}'\".format(label_name) & \"annotator_id='{}'\".format(annotator_id) & \"annotation_date='{}'\".format(annotation_date) &  \"patient_id='{}'\".format(patient_id)).fetch(\"values\", \"start_times\", \"stop_times\")"
   ]
  },
  {
   "cell_type": "code",
   "execution_count": 55,
   "metadata": {},
   "outputs": [
    {
     "ename": "IndexError",
     "evalue": "invalid index to scalar variable.",
     "output_type": "error",
     "traceback": [
      "\u001b[0;31m---------------------------------------------------------------------------\u001b[0m",
      "\u001b[0;31mIndexError\u001b[0m                                Traceback (most recent call last)",
      "\u001b[0;32m<ipython-input-55-253cea131fee>\u001b[0m in \u001b[0;36m<module>\u001b[0;34m\u001b[0m\n\u001b[1;32m      2\u001b[0m \u001b[0mpts_vec\u001b[0m \u001b[0;34m=\u001b[0m \u001b[0mget_pts_of_patient\u001b[0m\u001b[0;34m(\u001b[0m\u001b[0mpatient_id\u001b[0m\u001b[0;34m,\u001b[0m \u001b[0msession_nr\u001b[0m\u001b[0;34m)\u001b[0m\u001b[0;34m\u001b[0m\u001b[0;34m\u001b[0m\u001b[0m\n\u001b[1;32m      3\u001b[0m \u001b[0;34m\u001b[0m\u001b[0m\n\u001b[0;32m----> 4\u001b[0;31m \u001b[0mpatient_aligned_label\u001b[0m \u001b[0;34m=\u001b[0m \u001b[0mhelpers\u001b[0m\u001b[0;34m.\u001b[0m\u001b[0mmatch_label_to_patient_pts_time\u001b[0m\u001b[0;34m(\u001b[0m\u001b[0mdefault_label\u001b[0m\u001b[0;34m=\u001b[0m\u001b[0moriginal_label\u001b[0m\u001b[0;34m[\u001b[0m\u001b[0;36m0\u001b[0m\u001b[0;34m]\u001b[0m\u001b[0;34m,\u001b[0m \u001b[0mpatient_pts\u001b[0m\u001b[0;34m=\u001b[0m\u001b[0mpts_vec\u001b[0m\u001b[0;34m)\u001b[0m\u001b[0;34m\u001b[0m\u001b[0;34m\u001b[0m\u001b[0m\n\u001b[0m\u001b[1;32m      5\u001b[0m \u001b[0mneural_rec_time\u001b[0m \u001b[0;34m=\u001b[0m \u001b[0mget_neural_rectime_of_patient\u001b[0m\u001b[0;34m(\u001b[0m\u001b[0mentry_key_movie_session\u001b[0m\u001b[0;34m[\u001b[0m\u001b[0;36m0\u001b[0m\u001b[0;34m]\u001b[0m\u001b[0;34m[\u001b[0m\u001b[0;34m'patient_id'\u001b[0m\u001b[0;34m]\u001b[0m\u001b[0;34m,\u001b[0m \u001b[0mentry_key_movie_session\u001b[0m\u001b[0;34m[\u001b[0m\u001b[0;36m0\u001b[0m\u001b[0;34m]\u001b[0m\u001b[0;34m[\u001b[0m\u001b[0;34m'session_nr'\u001b[0m\u001b[0;34m]\u001b[0m\u001b[0;34m)\u001b[0m\u001b[0;34m\u001b[0m\u001b[0;34m\u001b[0m\u001b[0m\n\u001b[1;32m      6\u001b[0m \u001b[0mvalues\u001b[0m\u001b[0;34m,\u001b[0m \u001b[0mstarts\u001b[0m\u001b[0;34m,\u001b[0m \u001b[0mstops\u001b[0m \u001b[0;34m=\u001b[0m \u001b[0mcreate_vectors_from_time_points\u001b[0m\u001b[0;34m.\u001b[0m\u001b[0mget_start_stop_times_from_label\u001b[0m\u001b[0;34m(\u001b[0m\u001b[0mneural_rec_time\u001b[0m\u001b[0;34m,\u001b[0m \u001b[0mpatient_aligned_label\u001b[0m\u001b[0;34m)\u001b[0m\u001b[0;34m\u001b[0m\u001b[0;34m\u001b[0m\u001b[0m\n",
      "\u001b[0;32m~/Documents/DeepHumanVision_deploy/database/helpers.py\u001b[0m in \u001b[0;36mmatch_label_to_patient_pts_time\u001b[0;34m(default_label, patient_pts)\u001b[0m\n\u001b[1;32m     86\u001b[0m     \u001b[0;31m# testing with re-indexing:\u001b[0m\u001b[0;34m\u001b[0m\u001b[0;34m\u001b[0m\u001b[0;34m\u001b[0m\u001b[0m\n\u001b[1;32m     87\u001b[0m \u001b[0;34m\u001b[0m\u001b[0m\n\u001b[0;32m---> 88\u001b[0;31m     \u001b[0;32mreturn\u001b[0m \u001b[0;34m[\u001b[0m\u001b[0mdefault_label\u001b[0m\u001b[0;34m[\u001b[0m\u001b[0;34m(\u001b[0m\u001b[0mint\u001b[0m\u001b[0;34m(\u001b[0m\u001b[0mround\u001b[0m\u001b[0;34m(\u001b[0m\u001b[0;34m(\u001b[0m\u001b[0mframe\u001b[0m\u001b[0;34m/\u001b[0m\u001b[0;36m0.04\u001b[0m\u001b[0;34m)\u001b[0m\u001b[0;34m,\u001b[0m \u001b[0;36m0\u001b[0m\u001b[0;34m)\u001b[0m\u001b[0;34m)\u001b[0m \u001b[0;34m-\u001b[0m \u001b[0;36m1\u001b[0m\u001b[0;34m)\u001b[0m\u001b[0;34m]\u001b[0m \u001b[0;32mfor\u001b[0m \u001b[0mi\u001b[0m\u001b[0;34m,\u001b[0m \u001b[0mframe\u001b[0m \u001b[0;32min\u001b[0m \u001b[0menumerate\u001b[0m\u001b[0;34m(\u001b[0m\u001b[0mpatient_pts\u001b[0m\u001b[0;34m)\u001b[0m\u001b[0;34m]\u001b[0m\u001b[0;34m\u001b[0m\u001b[0;34m\u001b[0m\u001b[0m\n\u001b[0m\u001b[1;32m     89\u001b[0m \u001b[0;34m\u001b[0m\u001b[0m\n\u001b[1;32m     90\u001b[0m \u001b[0;34m\u001b[0m\u001b[0m\n",
      "\u001b[0;32m~/Documents/DeepHumanVision_deploy/database/helpers.py\u001b[0m in \u001b[0;36m<listcomp>\u001b[0;34m(.0)\u001b[0m\n\u001b[1;32m     86\u001b[0m     \u001b[0;31m# testing with re-indexing:\u001b[0m\u001b[0;34m\u001b[0m\u001b[0;34m\u001b[0m\u001b[0;34m\u001b[0m\u001b[0m\n\u001b[1;32m     87\u001b[0m \u001b[0;34m\u001b[0m\u001b[0m\n\u001b[0;32m---> 88\u001b[0;31m     \u001b[0;32mreturn\u001b[0m \u001b[0;34m[\u001b[0m\u001b[0mdefault_label\u001b[0m\u001b[0;34m[\u001b[0m\u001b[0;34m(\u001b[0m\u001b[0mint\u001b[0m\u001b[0;34m(\u001b[0m\u001b[0mround\u001b[0m\u001b[0;34m(\u001b[0m\u001b[0;34m(\u001b[0m\u001b[0mframe\u001b[0m\u001b[0;34m/\u001b[0m\u001b[0;36m0.04\u001b[0m\u001b[0;34m)\u001b[0m\u001b[0;34m,\u001b[0m \u001b[0;36m0\u001b[0m\u001b[0;34m)\u001b[0m\u001b[0;34m)\u001b[0m \u001b[0;34m-\u001b[0m \u001b[0;36m1\u001b[0m\u001b[0;34m)\u001b[0m\u001b[0;34m]\u001b[0m \u001b[0;32mfor\u001b[0m \u001b[0mi\u001b[0m\u001b[0;34m,\u001b[0m \u001b[0mframe\u001b[0m \u001b[0;32min\u001b[0m \u001b[0menumerate\u001b[0m\u001b[0;34m(\u001b[0m\u001b[0mpatient_pts\u001b[0m\u001b[0;34m)\u001b[0m\u001b[0;34m]\u001b[0m\u001b[0;34m\u001b[0m\u001b[0;34m\u001b[0m\u001b[0m\n\u001b[0m\u001b[1;32m     89\u001b[0m \u001b[0;34m\u001b[0m\u001b[0m\n\u001b[1;32m     90\u001b[0m \u001b[0;34m\u001b[0m\u001b[0m\n",
      "\u001b[0;31mIndexError\u001b[0m: invalid index to scalar variable."
     ]
    }
   ],
   "source": [
    "original_label = get_original_movie_label(label_name, annotation_date, annotator_id)\n",
    "pts_vec = get_pts_of_patient(patient_id, session_nr)\n",
    "\n",
    "patient_aligned_label = helpers.match_label_to_patient_pts_time(default_label=original_label[0], patient_pts=pts_vec)\n",
    "neural_rec_time = get_neural_rectime_of_patient(entry_key_movie_session[0]['patient_id'], entry_key_movie_session[0]['session_nr'])\n",
    "values, starts, stops = create_vectors_from_time_points.get_start_stop_times_from_label(neural_rec_time, patient_aligned_label)"
   ]
  },
  {
   "cell_type": "code",
   "execution_count": 46,
   "metadata": {},
   "outputs": [
    {
     "data": {
      "text/plain": [
       "array([3.49760106e+08])"
      ]
     },
     "execution_count": 46,
     "metadata": {},
     "output_type": "execute_result"
    }
   ],
   "source": [
    "starts"
   ]
  },
  {
   "cell_type": "code",
   "execution_count": 47,
   "metadata": {},
   "outputs": [
    {
     "data": {
      "text/plain": [
       "array([3.63076582e+08])"
      ]
     },
     "execution_count": 47,
     "metadata": {},
     "output_type": "execute_result"
    }
   ],
   "source": [
    "stops"
   ]
  },
  {
   "cell_type": "code",
   "execution_count": 48,
   "metadata": {},
   "outputs": [
    {
     "data": {
      "text/plain": [
       "array([0])"
      ]
     },
     "execution_count": 48,
     "metadata": {},
     "output_type": "execute_result"
    }
   ],
   "source": [
    "values"
   ]
  },
  {
   "cell_type": "code",
   "execution_count": 49,
   "metadata": {},
   "outputs": [],
   "source": [
    "character1_binned = create.create_vector_from_start_stop_times_reference(edges, values, starts, stops)"
   ]
  },
  {
   "cell_type": "code",
   "execution_count": 50,
   "metadata": {},
   "outputs": [
    {
     "data": {
      "image/png": "[encoded data removed]",
      "text/plain": [
       "<Figure size 1440x216 with 1 Axes>"
      ]
     },
     "metadata": {
      "needs_background": "light"
     },
     "output_type": "display_data"
    }
   ],
   "source": [
    "fig = plt.figure(figsize=(20,3))\n",
    "plt.plot(binned_spikes, label=\"Neural Activity\")\n",
    "plt.plot(character1_binned, color=\"r\", label=\"Stimulus Label\")\n",
    "if exclude_pauses:\n",
    "    plt.title(\"Binned spikes excluding pauses - patient {}, unit {}\".format(patient_id, unit_nr), fontsize=20)\n",
    "else:\n",
    "    plt.title(\"Binned spikes including pauses - patient {}, unit {}\".format(patient_id, unit_nr), fontsize=20)\n",
    "plt.xlabel(\"time (bin size {} milliseconds)\".format(bin_size), fontsize=15)\n",
    "plt.ylabel(\"firing rate\", fontsize=15)\n",
    "\n",
    "plt.legend()\n",
    "\n",
    "plt.show()"
   ]
  },
  {
   "cell_type": "markdown",
   "metadata": {},
   "source": [
    "Split activity into groups corresponding to the stimulus values, \n",
    "\n",
    "* One: Stimulus-on condition \n",
    "* Zero: Stimulus-off condition"
   ]
  },
  {
   "cell_type": "code",
   "execution_count": 65,
   "metadata": {},
   "outputs": [],
   "source": [
    "tom_splits = utils.split_activity_by_value(binned_spikes, tom_binned)\n",
    "tom_activity = SimpleNamespace(**tom_splits)"
   ]
  },
  {
   "cell_type": "code",
   "execution_count": 66,
   "metadata": {},
   "outputs": [
    {
     "name": "stdout",
     "output_type": "stream",
     "text": [
      "[0 1 1 ... 0 0 0]\n",
      "[4 1 2 ... 0 1 0]\n",
      "4804\n",
      "4804\n"
     ]
    }
   ],
   "source": [
    "print(tom_activity.zero)\n",
    "print(tom_activity.one)\n",
    "\n",
    "print(len(tom_activity.zero) + len(tom_activity.one))\n",
    "print(len(tom_binned))"
   ]
  }
 ],
 "metadata": {
  "kernelspec": {
   "display_name": "Python 3",
   "language": "python",
   "name": "python3"
  },
  "language_info": {
   "codemirror_mode": {
    "name": "ipython",
    "version": 3
   },
   "file_extension": ".py",
   "mimetype": "text/x-python",
   "name": "python",
   "nbconvert_exporter": "python",
   "pygments_lexer": "ipython3",
   "version": "3.7.7"
  }
 },
 "nbformat": 4,
 "nbformat_minor": 4
}
