{
 "cells": [
  {
   "cell_type": "markdown",
   "metadata": {},
   "source": [
    "# How to extract labels from json file and include them into the database"
   ]
  },
  {
   "cell_type": "markdown",
   "metadata": {},
   "source": [
    "This file walks you through the pipeline of extracting the start and stop times of labels, which indicate at which time points in the movie a label has its onset and where it ends again. \n",
    "\n",
    "The time points are in play time (PTS), which represents the movie time.\n",
    "\n",
    "The data then has to be stored in a certain folder (with a certain naming) so the database can directly read in the data and the table can be filled automatically."
   ]
  },
  {
   "cell_type": "code",
   "execution_count": 3,
   "metadata": {},
   "outputs": [],
   "source": [
    "import json\n",
    "import numpy as np\n",
    "import sys\n",
    "import matplotlib.pyplot as plt\n",
    "\n",
    "sys.path.append(\"/home/tamara/Documents/PhD/DeepHumanVision_deploy\")\n",
    "from database.db_setup import *\n",
    "\n",
    "import annotation.stimulus_driven_annotation.movies.processing_labels as processing_labels\n",
    "import preprocessing.data_preprocessing.create_vectors_from_time_points as create_vectors_from_time_points\n",
    "import database.config as config"
   ]
  },
  {
   "cell_type": "markdown",
   "metadata": {},
   "source": [
    "## Set parameters"
   ]
  },
  {
   "cell_type": "code",
   "execution_count": 4,
   "metadata": {},
   "outputs": [],
   "source": [
    "path_to_json_file = \"/home/tamara/Documents/PhD/advene\"\n",
    "name_json_file = \"500days_of_summer_abspann_vorspann.json\"\n",
    "label_name = \"abspann\"\n",
    "\n",
    "path_save_file = \"/home/tamara/Documents/DeepHumanVision_pilot/movie_annotation/useful_data/start_end_times/\"\n",
    "name_save_file = \"start_stop_times_complete_{}_20200420.npy\".format(label_name)"
   ]
  },
  {
   "cell_type": "markdown",
   "metadata": {},
   "source": [
    "## Extract start stop times from json file"
   ]
  },
  {
   "cell_type": "code",
   "execution_count": 5,
   "metadata": {},
   "outputs": [],
   "source": [
    "values, start_times, stop_times = processing_labels.start_stop_values_from_json(\"{}/{}\".format(path_to_json_file, name_json_file), label_name)"
   ]
  },
  {
   "cell_type": "code",
   "execution_count": 6,
   "metadata": {},
   "outputs": [],
   "source": [
    "label = processing_labels.make_label_from_start_stop_times(values, start_times, stop_times, config.PTS_MOVIE_new)"
   ]
  },
  {
   "cell_type": "code",
   "execution_count": 7,
   "metadata": {},
   "outputs": [],
   "source": [
    "values_complete, starts_complete, stops_complete = create_vectors_from_time_points.get_start_stop_times_from_label(config.PTS_MOVIE_new, label)"
   ]
  },
  {
   "cell_type": "markdown",
   "metadata": {},
   "source": [
    "## Save start and stop times"
   ]
  },
  {
   "cell_type": "markdown",
   "metadata": {},
   "source": [
    "The start and stop times need to be stored in the corresponding folder, form where the data base reads in the files\n",
    "\n",
    "The naming of the files has to be of the certain format:\n",
    "\n",
    "labelID_labelName_annotatorDI_annotationDate_category.npy"
   ]
  },
  {
   "cell_type": "code",
   "execution_count": 7,
   "metadata": {},
   "outputs": [],
   "source": [
    "# np.save(\"{}{}\".format(path_save_file, name_save_file), np.array([values_complete, starts_complete, stops_complete]))"
   ]
  },
  {
   "cell_type": "markdown",
   "metadata": {},
   "source": [
    "## Check label created from start stop times "
   ]
  },
  {
   "cell_type": "code",
   "execution_count": 8,
   "metadata": {},
   "outputs": [
    {
     "data": {
      "text/plain": [
       "[<matplotlib.lines.Line2D at 0x7fe4e061dac8>]"
      ]
     },
     "execution_count": 8,
     "metadata": {},
     "output_type": "execute_result"
    },
    {
     "data": {
      "image/png": "[encoded data removed]",
      "text/plain": [
       "<Figure size 1800x360 with 1 Axes>"
      ]
     },
     "metadata": {
      "needs_background": "light"
     },
     "output_type": "display_data"
    }
   ],
   "source": [
    "label2 = processing_labels.make_label_from_start_stop_times(values_complete, starts_complete, stops_complete, config.PTS_MOVIE_new)\n",
    "plt.figure(figsize=(25,5))\n",
    "plt.plot(label2)"
   ]
  },
  {
   "cell_type": "markdown",
   "metadata": {},
   "source": [
    "### Fill table with MovieAnnotations in database"
   ]
  },
  {
   "cell_type": "code",
   "execution_count": 11,
   "metadata": {},
   "outputs": [],
   "source": [
    "#MovieAnnotation.populate()"
   ]
  },
  {
   "cell_type": "code",
   "execution_count": 9,
   "metadata": {},
   "outputs": [
    {
     "data": {
      "text/html": [
       "\n",
       "        \n",
       "        <style type=\"text/css\">\n",
       "            .Relation{\n",
       "                border-collapse:collapse;\n",
       "            }\n",
       "            .Relation th{\n",
       "                background: #A0A0A0; color: #ffffff; padding:4px; border:#f0e0e0 1px solid;\n",
       "                font-weight: normal; font-family: monospace; font-size: 100%;\n",
       "            }\n",
       "            .Relation td{\n",
       "                padding:4px; border:#f0e0e0 1px solid; font-size:100%;\n",
       "            }\n",
       "            .Relation tr:nth-child(odd){\n",
       "                background: #ffffff;\n",
       "            }\n",
       "            .Relation tr:nth-child(even){\n",
       "                background: #f3f1ff;\n",
       "            }\n",
       "            /* Tooltip container */\n",
       "            .djtooltip {\n",
       "            }\n",
       "            /* Tooltip text */\n",
       "            .djtooltip .djtooltiptext {\n",
       "                visibility: hidden;\n",
       "                width: 120px;\n",
       "                background-color: black;\n",
       "                color: #fff;\n",
       "                text-align: center;\n",
       "                padding: 5px 0;\n",
       "                border-radius: 6px;\n",
       "                /* Position the tooltip text - see examples below! */\n",
       "                position: absolute;\n",
       "                z-index: 1;\n",
       "            }\n",
       "            #primary {\n",
       "                font-weight: bold;\n",
       "                color: black;\n",
       "            }\n",
       "\n",
       "            #nonprimary {\n",
       "                font-weight: normal;\n",
       "                color: white;\n",
       "            }\n",
       "\n",
       "            /* Show the tooltip text when you mouse over the tooltip container */\n",
       "            .djtooltip:hover .djtooltiptext {\n",
       "                visibility: visible;\n",
       "            }\n",
       "        </style>\n",
       "        \n",
       "        <b>information about video annotations (e.g. labels of characters);</b>\n",
       "            <div style=\"max-height:1000px;max-width:1500px;overflow:auto;\">\n",
       "            <table border=\"1\" class=\"Relation\">\n",
       "                <thead> <tr style=\"text-align: right;\"> <th> <div class=\"djtooltip\">\n",
       "                                <p id=\"primary\">annotator_id</p>\n",
       "                                <span class=\"djtooltiptext\">unique ID for each annotator</span>\n",
       "                            </div></th><th><div class=\"djtooltip\">\n",
       "                                <p id=\"primary\">label_name</p>\n",
       "                                <span class=\"djtooltiptext\">label name</span>\n",
       "                            </div></th><th><div class=\"djtooltip\">\n",
       "                                <p id=\"primary\">annotation_date</p>\n",
       "                                <span class=\"djtooltiptext\">date of annotation</span>\n",
       "                            </div></th><th><div class=\"djtooltip\">\n",
       "                                <p id=\"nonprimary\">values</p>\n",
       "                                <span class=\"djtooltiptext\">list of values that represent label</span>\n",
       "                            </div></th><th><div class=\"djtooltip\">\n",
       "                                <p id=\"nonprimary\">start_times</p>\n",
       "                                <span class=\"djtooltiptext\">list of start times of label segments in movie play time (PTS)</span>\n",
       "                            </div></th><th><div class=\"djtooltip\">\n",
       "                                <p id=\"nonprimary\">stop_times</p>\n",
       "                                <span class=\"djtooltiptext\">list of stop times of label segments in movie play time (PTS)</span>\n",
       "                            </div></th><th><div class=\"djtooltip\">\n",
       "                                <p id=\"nonprimary\">category</p>\n",
       "                                <span class=\"djtooltiptext\">categoy of label; e.g. 'character', 'emotion', 'location'</span>\n",
       "                            </div></th><th><div class=\"djtooltip\">\n",
       "                                <p id=\"nonprimary\">indicator_function</p>\n",
       "                                <span class=\"djtooltiptext\">full indicator function, one value for each movie frame</span>\n",
       "                            </div></th><th><div class=\"djtooltip\">\n",
       "                                <p id=\"nonprimary\">additional_information</p>\n",
       "                                <span class=\"djtooltiptext\">space for additional information</span>\n",
       "                            </div> </th> </tr> </thead>\n",
       "                <tbody> <tr> <td>p1</td>\n",
       "<td>paul</td>\n",
       "<td>2020-04-20</td>\n",
       "<td>=BLOB=</td>\n",
       "<td>=BLOB=</td>\n",
       "<td>=BLOB=</td>\n",
       "<td>character</td>\n",
       "<td>=BLOB=</td>\n",
       "<td></td></tr><tr><td>p1</td>\n",
       "<td>rachel</td>\n",
       "<td>2020-04-20</td>\n",
       "<td>=BLOB=</td>\n",
       "<td>=BLOB=</td>\n",
       "<td>=BLOB=</td>\n",
       "<td>character</td>\n",
       "<td>=BLOB=</td>\n",
       "<td></td></tr><tr><td>p1</td>\n",
       "<td>tom</td>\n",
       "<td>2020-04-20</td>\n",
       "<td>=BLOB=</td>\n",
       "<td>=BLOB=</td>\n",
       "<td>=BLOB=</td>\n",
       "<td>character</td>\n",
       "<td>=BLOB=</td>\n",
       "<td></td></tr><tr><td>p2</td>\n",
       "<td>mckenzie</td>\n",
       "<td>2020-04-20</td>\n",
       "<td>=BLOB=</td>\n",
       "<td>=BLOB=</td>\n",
       "<td>=BLOB=</td>\n",
       "<td>character</td>\n",
       "<td>=BLOB=</td>\n",
       "<td></td></tr><tr><td>p2</td>\n",
       "<td>summer</td>\n",
       "<td>2020-04-20</td>\n",
       "<td>=BLOB=</td>\n",
       "<td>=BLOB=</td>\n",
       "<td>=BLOB=</td>\n",
       "<td>character</td>\n",
       "<td>=BLOB=</td>\n",
       "<td></td> </tr> </tbody>\n",
       "            </table>\n",
       "            \n",
       "            <p>Total: 5</p></div>\n",
       "            "
      ],
      "text/plain": [
       "*annotator_id  *label_name    *annotation_da values     start_time stop_times category      indicator_ additional_inf\n",
       "+------------+ +------------+ +------------+ +--------+ +--------+ +--------+ +-----------+ +--------+ +------------+\n",
       "p1             paul           2020-04-20     =BLOB=     =BLOB=     =BLOB=     character     =BLOB=                   \n",
       "p1             rachel         2020-04-20     =BLOB=     =BLOB=     =BLOB=     character     =BLOB=                   \n",
       "p1             tom            2020-04-20     =BLOB=     =BLOB=     =BLOB=     character     =BLOB=                   \n",
       "p2             mckenzie       2020-04-20     =BLOB=     =BLOB=     =BLOB=     character     =BLOB=                   \n",
       "p2             summer         2020-04-20     =BLOB=     =BLOB=     =BLOB=     character     =BLOB=                   \n",
       " (Total: 5)"
      ]
     },
     "execution_count": 9,
     "metadata": {},
     "output_type": "execute_result"
    }
   ],
   "source": [
    "MovieAnnotation()"
   ]
  },
  {
   "cell_type": "markdown",
   "metadata": {},
   "source": [
    "## Patient Aligned Labels"
   ]
  },
  {
   "cell_type": "markdown",
   "metadata": {},
   "source": [
    "The patient aligned labels are labels aligned to the watch log of the patient, since patients skipped through the movie. They depend on the default labels. The table PatientAlignedMovieAnnotation can therefore be filled automatically. \n",
    "\n",
    "To refill patient aligned labels table: uncomment and execute the next line"
   ]
  },
  {
   "cell_type": "code",
   "execution_count": 13,
   "metadata": {},
   "outputs": [],
   "source": [
    "#PatientAlignedMovieAnnotation.populate()"
   ]
  },
  {
   "cell_type": "code",
   "execution_count": 10,
   "metadata": {},
   "outputs": [
    {
     "data": {
      "text/html": [
       "\n",
       "        \n",
       "        <style type=\"text/css\">\n",
       "            .Relation{\n",
       "                border-collapse:collapse;\n",
       "            }\n",
       "            .Relation th{\n",
       "                background: #A0A0A0; color: #ffffff; padding:4px; border:#f0e0e0 1px solid;\n",
       "                font-weight: normal; font-family: monospace; font-size: 100%;\n",
       "            }\n",
       "            .Relation td{\n",
       "                padding:4px; border:#f0e0e0 1px solid; font-size:100%;\n",
       "            }\n",
       "            .Relation tr:nth-child(odd){\n",
       "                background: #ffffff;\n",
       "            }\n",
       "            .Relation tr:nth-child(even){\n",
       "                background: #f3f1ff;\n",
       "            }\n",
       "            /* Tooltip container */\n",
       "            .djtooltip {\n",
       "            }\n",
       "            /* Tooltip text */\n",
       "            .djtooltip .djtooltiptext {\n",
       "                visibility: hidden;\n",
       "                width: 120px;\n",
       "                background-color: black;\n",
       "                color: #fff;\n",
       "                text-align: center;\n",
       "                padding: 5px 0;\n",
       "                border-radius: 6px;\n",
       "                /* Position the tooltip text - see examples below! */\n",
       "                position: absolute;\n",
       "                z-index: 1;\n",
       "            }\n",
       "            #primary {\n",
       "                font-weight: bold;\n",
       "                color: black;\n",
       "            }\n",
       "\n",
       "            #nonprimary {\n",
       "                font-weight: normal;\n",
       "                color: white;\n",
       "            }\n",
       "\n",
       "            /* Show the tooltip text when you mouse over the tooltip container */\n",
       "            .djtooltip:hover .djtooltiptext {\n",
       "                visibility: visible;\n",
       "            }\n",
       "        </style>\n",
       "        \n",
       "        <b>Movie Annotations aligned to patient time / time points are in neural recording time</b>\n",
       "            <div style=\"max-height:1000px;max-width:1500px;overflow:auto;\">\n",
       "            <table border=\"1\" class=\"Relation\">\n",
       "                <thead> <tr style=\"text-align: right;\"> <th> <div class=\"djtooltip\">\n",
       "                                <p id=\"primary\">annotator_id</p>\n",
       "                                <span class=\"djtooltiptext\">unique ID for each annotator</span>\n",
       "                            </div></th><th><div class=\"djtooltip\">\n",
       "                                <p id=\"primary\">label_name</p>\n",
       "                                <span class=\"djtooltiptext\">label name</span>\n",
       "                            </div></th><th><div class=\"djtooltip\">\n",
       "                                <p id=\"primary\">annotation_date</p>\n",
       "                                <span class=\"djtooltiptext\">date of annotation</span>\n",
       "                            </div></th><th><div class=\"djtooltip\">\n",
       "                                <p id=\"primary\">session_nr</p>\n",
       "                                <span class=\"djtooltiptext\">session ID</span>\n",
       "                            </div></th><th><div class=\"djtooltip\">\n",
       "                                <p id=\"primary\">patient_id</p>\n",
       "                                <span class=\"djtooltiptext\">patient ID</span>\n",
       "                            </div></th><th><div class=\"djtooltip\">\n",
       "                                <p id=\"nonprimary\">label_in_patient_time</p>\n",
       "                                <span class=\"djtooltiptext\">label matched to patient time (pts)</span>\n",
       "                            </div></th><th><div class=\"djtooltip\">\n",
       "                                <p id=\"nonprimary\">values</p>\n",
       "                                <span class=\"djtooltiptext\">list of values that represent label</span>\n",
       "                            </div></th><th><div class=\"djtooltip\">\n",
       "                                <p id=\"nonprimary\">start_times</p>\n",
       "                                <span class=\"djtooltiptext\">list of start times of label segments in neural recording time</span>\n",
       "                            </div></th><th><div class=\"djtooltip\">\n",
       "                                <p id=\"nonprimary\">stop_times</p>\n",
       "                                <span class=\"djtooltiptext\">list of stop times of label segments in neural recording time</span>\n",
       "                            </div></th><th><div class=\"djtooltip\">\n",
       "                                <p id=\"nonprimary\">additionl_information</p>\n",
       "                                <span class=\"djtooltiptext\"></span>\n",
       "                            </div> </th> </tr> </thead>\n",
       "                <tbody> <tr> <td>p1</td>\n",
       "<td>paul</td>\n",
       "<td>2020-04-20</td>\n",
       "<td>1</td>\n",
       "<td>60</td>\n",
       "<td>=BLOB=</td>\n",
       "<td>=BLOB=</td>\n",
       "<td>=BLOB=</td>\n",
       "<td>=BLOB=</td>\n",
       "<td></td></tr><tr><td>p1</td>\n",
       "<td>rachel</td>\n",
       "<td>2020-04-20</td>\n",
       "<td>1</td>\n",
       "<td>60</td>\n",
       "<td>=BLOB=</td>\n",
       "<td>=BLOB=</td>\n",
       "<td>=BLOB=</td>\n",
       "<td>=BLOB=</td>\n",
       "<td></td></tr><tr><td>p1</td>\n",
       "<td>tom</td>\n",
       "<td>2020-04-20</td>\n",
       "<td>1</td>\n",
       "<td>60</td>\n",
       "<td>=BLOB=</td>\n",
       "<td>=BLOB=</td>\n",
       "<td>=BLOB=</td>\n",
       "<td>=BLOB=</td>\n",
       "<td></td></tr><tr><td>p2</td>\n",
       "<td>mckenzie</td>\n",
       "<td>2020-04-20</td>\n",
       "<td>1</td>\n",
       "<td>60</td>\n",
       "<td>=BLOB=</td>\n",
       "<td>=BLOB=</td>\n",
       "<td>=BLOB=</td>\n",
       "<td>=BLOB=</td>\n",
       "<td></td></tr><tr><td>p2</td>\n",
       "<td>summer</td>\n",
       "<td>2020-04-20</td>\n",
       "<td>1</td>\n",
       "<td>60</td>\n",
       "<td>=BLOB=</td>\n",
       "<td>=BLOB=</td>\n",
       "<td>=BLOB=</td>\n",
       "<td>=BLOB=</td>\n",
       "<td></td> </tr> </tbody>\n",
       "            </table>\n",
       "            \n",
       "            <p>Total: 5</p></div>\n",
       "            "
      ],
      "text/plain": [
       "*annotator_id  *label_name    *annotation_da *session_nr    *patient_id    label_in_p values     start_time stop_times additionl_info\n",
       "+------------+ +------------+ +------------+ +------------+ +------------+ +--------+ +--------+ +--------+ +--------+ +------------+\n",
       "p1             paul           2020-04-20     1              60             =BLOB=     =BLOB=     =BLOB=     =BLOB=                   \n",
       "p1             rachel         2020-04-20     1              60             =BLOB=     =BLOB=     =BLOB=     =BLOB=                   \n",
       "p1             tom            2020-04-20     1              60             =BLOB=     =BLOB=     =BLOB=     =BLOB=                   \n",
       "p2             mckenzie       2020-04-20     1              60             =BLOB=     =BLOB=     =BLOB=     =BLOB=                   \n",
       "p2             summer         2020-04-20     1              60             =BLOB=     =BLOB=     =BLOB=     =BLOB=                   \n",
       " (Total: 5)"
      ]
     },
     "execution_count": 10,
     "metadata": {},
     "output_type": "execute_result"
    }
   ],
   "source": [
    "PatientAlignedMovieAnnotation()"
   ]
  },
  {
   "cell_type": "markdown",
   "metadata": {},
   "source": [
    "As an example, here we show how to extract a patient aligned label from the database"
   ]
  },
  {
   "cell_type": "code",
   "execution_count": 11,
   "metadata": {},
   "outputs": [],
   "source": [
    "summer_60 = (PatientAlignedMovieAnnotation() & \"patient_id=60\" & \"label_name='summer'\").fetch(\"label_in_patient_time\")[0]\n",
    "values, start, stop = (PatientAlignedMovieAnnotation() & \"patient_id=60\" & \"label_name='summer'\").fetch(\"values\", \"start_times\", \"stop_times\")"
   ]
  },
  {
   "cell_type": "code",
   "execution_count": 12,
   "metadata": {},
   "outputs": [
    {
     "data": {
      "text/plain": [
       "[<matplotlib.lines.Line2D at 0x7fe4de59d128>]"
      ]
     },
     "execution_count": 12,
     "metadata": {},
     "output_type": "execute_result"
    },
    {
     "data": {
      "image/png": "[encoded data removed]",
      "text/plain": [
       "<Figure size 1800x360 with 1 Axes>"
      ]
     },
     "metadata": {
      "needs_background": "light"
     },
     "output_type": "display_data"
    }
   ],
   "source": [
    "plt.figure(figsize=(25,5))\n",
    "plt.plot(summer_60)"
   ]
  },
  {
   "cell_type": "code",
   "execution_count": null,
   "metadata": {},
   "outputs": [],
   "source": []
  }
 ],
 "metadata": {
  "kernelspec": {
   "display_name": "Python 3",
   "language": "python",
   "name": "python3"
  },
  "language_info": {
   "codemirror_mode": {
    "name": "ipython",
    "version": 3
   },
   "file_extension": ".py",
   "mimetype": "text/x-python",
   "name": "python",
   "nbconvert_exporter": "python",
   "pygments_lexer": "ipython3",
   "version": "3.6.7"
  }
 },
 "nbformat": 4,
 "nbformat_minor": 4
}
