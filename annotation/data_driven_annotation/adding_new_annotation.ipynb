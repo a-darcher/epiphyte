{
 "cells": [
  {
   "cell_type": "markdown",
   "metadata": {},
   "source": [
    "# Adding Change Point Annotations to Database"
   ]
  },
  {
   "cell_type": "markdown",
   "metadata": {},
   "source": [
    "### Table doc_string convention:\n",
    "\n",
    "    class TableName(dj.TableType):\n",
    "        definition = \"\"\"\n",
    "        # Description of Table purpose\n",
    "        -> Dependency to existing Table           # Purpose of said existing Table\n",
    "        primary_key: datatype                     # Purpose of primary key \n",
    "        ---\n",
    "        normal_column:  datatype                  # Purpose of column (aka non-primary key) \n",
    "        \"\"\"\n",
    "        "
   ]
  },
  {
   "cell_type": "markdown",
   "metadata": {},
   "source": [
    "### (1) Design new Table"
   ]
  },
  {
   "cell_type": "code",
   "execution_count": null,
   "metadata": {},
   "outputs": [],
   "source": [
    "# linking to module with algorithm? \n",
    "\n",
    "# dhv_deploy = (\"/home/alana/DeepHumanVision_deploy/\")\n",
    "# sys.path.append(dhv_deploy)\n",
    "# from annotation.data_driven_annotation import cpt as cpt\n",
    "\n",
    "class ChangePointAnnotation(dj.Computed):\n",
    "    ### ask: is there a meaning to the breakpoints in the defs? \n",
    "    ### as in, above the ---, primary keys,  and below: secondary? \n",
    "    \"\"\"\n",
    "    # This table contains information about change points detected in spiking acitivity of single units;\n",
    "    -> BinnedSpikesDuringMovie                    # the unit information and the binned spike vectors\n",
    "    algorithm: varchar(32)                        # the algorithm version that was used to create the change point\n",
    "    ---\n",
    "    change_point: int                             # actual change point in neural recording time\n",
    "    t_value: int                                  # the t-value of the test statistic\n",
    "    additional_information=\"\":varchar(32)         # space for additional information\n",
    "    \"\"\"\n",
    "    \n",
    "    def make(self, key):\n",
    "        # Retrieve all patient id's and sessions that exist within the \n",
    "        # database and use for setting up the new computed table\n",
    "    \n",
    "        # binnedsppikesduringmovie is deprecated ; use electrode unit & bin at runtime \n",
    "        patient_ids, units_ids, session_nrs, bin_sizes = BinnedSpikesDuringMovie.fetch(\"patient_id\",\"unit_id\", \"session_nr\", \"bin_size\")\n",
    "        \n",
    "        \n",
    "        \n",
    "        \n",
    "        for i in range(len(patients_ids)):\n",
    "            pat_id = patient_ids[i]\n",
    "            unit_nr = units_ids[i]\n",
    "            unit_bin_size = bin_size[i]\n",
    "            \n",
    "            ### ask: what's the best way to do this part within the db_setup portion? \n",
    "            ### is referencing the unit in this way not necessary?\n",
    "            \n",
    "            # binnedsppikesduringmovie is deprecated \n",
    "            binned_unit_name = (BinnedSpikesDuringMovie & \"patient_id={}\".format(pat_id) \n",
    "                           & \"unit_id={}\".format(unit_nr) & \"bin_size={}\".format(unit_bin_size)).fetch(\"spike_vector\")[0]\n",
    "            binned_unit = np.load(binned_unit_name)\n",
    "            os.remove(binned_unit_name)\n",
    "            ###\n",
    "            \n",
    "            # compute change points\n",
    "            # note: cpt algo auto-generates plots -- should make default not plotting for this purpose?\n",
    "            tau, ttest = cpt.find_changepoint_tt(binned_unit)\n",
    "            \n",
    "            tstat = ttest[0] \n",
    "            \n",
    "            self.insert1({\"patient_id\": pat_id, \"unit_id\": unit_nr,\n",
    "                          \"session_nr\": session_nrs[i], \"bin_size\": unit_bin_size, \n",
    "                          \"change_point\": tau, \"t_value\": tstat})\n",
    "            "
   ]
  },
  {
   "cell_type": "markdown",
   "metadata": {},
   "source": [
    "(2) Define the Type of Table"
   ]
  },
  {
   "cell_type": "markdown",
   "metadata": {},
   "source": [
    "(3) Initialize Table\n",
    "\n",
    "(would just be putting in the db_setup file)"
   ]
  },
  {
   "cell_type": "markdown",
   "metadata": {},
   "source": [
    "(4) Define how the Table with be populated \n",
    "\n",
    "(by writing the make function, defines how it would be populated)"
   ]
  },
  {
   "cell_type": "markdown",
   "metadata": {},
   "source": [
    "(5) Populate the Table"
   ]
  },
  {
   "cell_type": "code",
   "execution_count": null,
   "metadata": {},
   "outputs": [],
   "source": [
    "# insert this line into set_up notebook\n",
    "ChangePointAnnotation.populate()\n",
    "\n",
    "# if manual Table, then would need to manually population \n",
    "# ExampleTable.insert1(to_be_inserted)\n"
   ]
  }
 ],
 "metadata": {
  "kernelspec": {
   "display_name": "Python 3",
   "language": "python",
   "name": "python3"
  },
  "language_info": {
   "codemirror_mode": {
    "name": "ipython",
    "version": 3
   },
   "file_extension": ".py",
   "mimetype": "text/x-python",
   "name": "python",
   "nbconvert_exporter": "python",
   "pygments_lexer": "ipython3",
   "version": "3.8.2"
  }
 },
 "nbformat": 4,
 "nbformat_minor": 4
}
