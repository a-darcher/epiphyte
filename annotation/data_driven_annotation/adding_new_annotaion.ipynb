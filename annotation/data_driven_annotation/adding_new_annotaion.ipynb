{
 "cells": [
  {
   "cell_type": "markdown",
   "metadata": {},
   "source": [
    "# Adding Change Point Annotations to Database"
   ]
  },
  {
   "cell_type": "markdown",
   "metadata": {},
   "source": [
    "### (1) Design new Table"
   ]
  },
  {
   "cell_type": "code",
   "execution_count": null,
   "metadata": {},
   "outputs": [],
   "source": [
    "class ChangePointAnnotation(dj.Computed):\n",
    "    \"\"\"\n",
    "    # This table contains information about change points, detected in spiking acitivity of single units;\n",
    "    -> ElectrodeUnit                    # the electrode unit \n",
    "    algorithm: varchar(32)              # the algorithm version that was used to create the change point\n",
    "    ---\n",
    "    change_point: int                   # actual change point in neural recording time\n",
    "    t_value: int                        # the t-value of the test statistic\n",
    "    additional_information=\"\":varchar(32) # space for additional information\n",
    "    \"\"\""
   ]
  }
 ],
 "metadata": {
  "kernelspec": {
   "display_name": "Python 3",
   "language": "python",
   "name": "python3"
  },
  "language_info": {
   "codemirror_mode": {
    "name": "ipython",
    "version": 3
   },
   "file_extension": ".py",
   "mimetype": "text/x-python",
   "name": "python",
   "nbconvert_exporter": "python",
   "pygments_lexer": "ipython3",
   "version": "3.6.7"
  }
 },
 "nbformat": 4,
 "nbformat_minor": 4
}
